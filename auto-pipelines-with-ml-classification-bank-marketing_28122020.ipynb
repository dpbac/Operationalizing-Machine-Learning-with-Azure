{
 "cells": [
  {
   "cell_type": "markdown",
   "metadata": {},
   "source": [
    "**version 28/12/2020 of first notebook: After running on lab environment.**"
   ]
  },
  {
   "cell_type": "markdown",
   "metadata": {},
   "source": [
    "# Azure Machine Learning Pipeline with AutoMLStep \n",
    "\n",
    "This notebook is part of [Project 2: Operationalizing Machine Learning with Azure](https://github.com/dpbac/Operationalizing-Machine-Learning-with-Azure) of the `Udacity Nanodegree Program : Machine Learning Engineer with Azure`.\n",
    "\n",
    "In this project you will continue working with the Bank Dataset introduced in [Project 1: Optimizing an ML Pipeline in Azure](https://github.com/dpbac/Optimizing-an-ML-Pipeline-in-Azure). We will use Azure in this project to configure a cloud-based machine learning product model, deploy it, and consume it.\n",
    "\n",
    "**REVIEW AND COMPLETE ALL TEXT BELOW**\n",
    "\n",
    "This notebook demonstrates the use of AutoMLStep in Azure Machine Learning Pipeline.\n",
    "\n",
    "A model is generated using AutoML for classifcation using the dataset available at https://automlsamplenotebookdata.blob.core.windows.net/automl-sample-notebook-data/bankmarketing_train.csv\n",
    "\n",
    "## Introduction\n",
    "\n",
    "In this example we showcase how you can use AzureML Dataset to load data for AutoML via AML Pipeline. \n",
    "\n",
    "If you are using an Azure Machine Learning Notebook VM, you are all set. Otherwise, make sure you have executed the [configuration](https://aka.ms/pl-config) before running this notebook.\n",
    "\n",
    "In this notebook the following steps are performed\n",
    "\n",
    "1. Create an `Experiment` in an existing `Workspace`.\n",
    "2. Create or Attach existing AmlCompute to a workspace.\n",
    "3. Define data loading in a `TabularDataset`.\n",
    "4. Configure AutoML using `AutoMLConfig`.\n",
    "5. Use AutoMLStep\n",
    "6. Train the model using AmlCompute\n",
    "7. Explore the results.\n",
    "8. Test the best fitted model.\n",
    "\n"
   ]
  },
  {
   "cell_type": "markdown",
   "metadata": {},
   "source": [
    "## Azure Machine Learning and Pipeline SDK-specific imports"
   ]
  },
  {
   "cell_type": "code",
   "execution_count": 1,
   "metadata": {},
   "outputs": [
    {
     "name": "stdout",
     "output_type": "stream",
     "text": [
      "SDK version: 1.19.0\n"
     ]
    }
   ],
   "source": [
    "# Azure Machine Learning and Pipeline SDK-specific imports\n",
    "\n",
    "import logging\n",
    "import os\n",
    "import csv\n",
    "\n",
    "from matplotlib import pyplot as plt\n",
    "import numpy as np\n",
    "import pandas as pd\n",
    "from sklearn import datasets\n",
    "import pkg_resources\n",
    "\n",
    "import azureml.core\n",
    "from azureml.core.experiment import Experiment\n",
    "from azureml.core.workspace import Workspace\n",
    "from azureml.train.automl import AutoMLConfig\n",
    "from azureml.core.dataset import Dataset\n",
    "\n",
    "from azureml.pipeline.steps import AutoMLStep\n",
    "\n",
    "# Check core SDK version number\n",
    "print(\"SDK version:\", azureml.core.VERSION)"
   ]
  },
  {
   "cell_type": "markdown",
   "metadata": {},
   "source": [
    "## Initialize Workspace\n",
    "Initialize a workspace object from persisted configuration. Make sure the config file is present at .\\config.json\n",
    "\n",
    "The config.json can be downloaded in the overview of Azure portal. (**Do I need to download?**)"
   ]
  },
  {
   "cell_type": "code",
   "execution_count": 2,
   "metadata": {},
   "outputs": [
    {
     "name": "stdout",
     "output_type": "stream",
     "text": [
      "quick-starts-ws-132158\n",
      "aml-quickstarts-132158\n",
      "southcentralus\n",
      "f9d5a085-54dc-4215-9ba6-dad5d86e60a0\n"
     ]
    }
   ],
   "source": [
    "ws = Workspace.from_config()\n",
    "print(ws.name, ws.resource_group, ws.location, ws.subscription_id, sep = '\\n')"
   ]
  },
  {
   "cell_type": "markdown",
   "metadata": {},
   "source": [
    "## Create an Azure ML experiment\n",
    "\n",
    "**REVIEW AND UPDATE TEXT**\n",
    "**ATTENTION NAME OF THE EXPERIMENT**\n",
    "\n",
    "Let's create an experiment named \"automlstep-classification\" and a folder to hold the training scripts. The script runs will be recorded under the experiment in Azure.\n",
    "\n",
    "The best practice is to use separate folders for scripts and its dependent files for each step and specify that folder as the `source_directory` for the step. This helps reduce the size of the snapshot created for the step (only the specific folder is snapshotted). Since changes in any files in the `source_directory` would trigger a re-upload of the snapshot, this helps keep the reuse of the step when there are no changes in the `source_directory` of the step.\n",
    "\n",
    "*Udacity Note:* There is no need to create an Azure ML experiment, this needs to re-use the experiment that was already created"
   ]
  },
  {
   "cell_type": "code",
   "execution_count": 4,
   "metadata": {},
   "outputs": [
    {
     "data": {
      "text/html": [
       "<table style=\"width:100%\"><tr><th>Name</th><th>Workspace</th><th>Report Page</th><th>Docs Page</th></tr><tr><td>automl-experiment</td><td>quick-starts-ws-132158</td><td><a href=\"https://ml.azure.com/experiments/automl-experiment?wsid=/subscriptions/f9d5a085-54dc-4215-9ba6-dad5d86e60a0/resourcegroups/aml-quickstarts-132158/workspaces/quick-starts-ws-132158\" target=\"_blank\" rel=\"noopener\">Link to Azure Machine Learning studio</a></td><td><a href=\"https://docs.microsoft.com/en-us/python/api/azureml-core/azureml.core.experiment.Experiment?view=azure-ml-py\" target=\"_blank\" rel=\"noopener\">Link to Documentation</a></td></tr></table>"
      ],
      "text/plain": [
       "Experiment(Name: automl-experiment,\n",
       "Workspace: quick-starts-ws-132158)"
      ]
     },
     "execution_count": 4,
     "metadata": {},
     "output_type": "execute_result"
    }
   ],
   "source": [
    "# Choose a name for the run history container in the workspace.\n",
    "# NOTE: update these to match your existing exp name\n",
    "experiment_name = 'automl-experiment'\n",
    "project_folder = './pipeline-project'\n",
    "\n",
    "experiment = Experiment(ws, experiment_name)\n",
    "\n",
    "experiment"
   ]
  },
  {
   "cell_type": "code",
   "execution_count": 6,
   "metadata": {},
   "outputs": [
    {
     "data": {
      "text/html": [
       "<div>\n",
       "<style scoped>\n",
       "    .dataframe tbody tr th:only-of-type {\n",
       "        vertical-align: middle;\n",
       "    }\n",
       "\n",
       "    .dataframe tbody tr th {\n",
       "        vertical-align: top;\n",
       "    }\n",
       "\n",
       "    .dataframe thead th {\n",
       "        text-align: right;\n",
       "    }\n",
       "</style>\n",
       "<table border=\"1\" class=\"dataframe\">\n",
       "  <thead>\n",
       "    <tr style=\"text-align: right;\">\n",
       "      <th></th>\n",
       "      <th></th>\n",
       "    </tr>\n",
       "  </thead>\n",
       "  <tbody>\n",
       "    <tr>\n",
       "      <th>Workspace name</th>\n",
       "      <td>quick-starts-ws-132158</td>\n",
       "    </tr>\n",
       "    <tr>\n",
       "      <th>Azure region</th>\n",
       "      <td>southcentralus</td>\n",
       "    </tr>\n",
       "    <tr>\n",
       "      <th>Subscription id</th>\n",
       "      <td>f9d5a085-54dc-4215-9ba6-dad5d86e60a0</td>\n",
       "    </tr>\n",
       "    <tr>\n",
       "      <th>Resource group</th>\n",
       "      <td>aml-quickstarts-132158</td>\n",
       "    </tr>\n",
       "    <tr>\n",
       "      <th>Experiment Name</th>\n",
       "      <td>automl-experiment</td>\n",
       "    </tr>\n",
       "  </tbody>\n",
       "</table>\n",
       "</div>"
      ],
      "text/plain": [
       "                                                     \n",
       "Workspace name                 quick-starts-ws-132158\n",
       "Azure region                           southcentralus\n",
       "Subscription id  f9d5a085-54dc-4215-9ba6-dad5d86e60a0\n",
       "Resource group                 aml-quickstarts-132158\n",
       "Experiment Name                     automl-experiment"
      ]
     },
     "execution_count": 6,
     "metadata": {},
     "output_type": "execute_result"
    }
   ],
   "source": [
    "dic_data = {'Workspace name': ws.name,\n",
    "            'Azure region': ws.location,\n",
    "            'Subscription id': ws.subscription_id,\n",
    "            'Resource group': ws.resource_group,\n",
    "            'Experiment Name': experiment.name}\n",
    "\n",
    "df_data = pd.DataFrame.from_dict(data = dic_data, orient='index')\n",
    "\n",
    "df_data.rename(columns={0:''}, inplace = True)\n",
    "df_data"
   ]
  },
  {
   "cell_type": "markdown",
   "metadata": {},
   "source": [
    "### Create or Attach an AmlCompute cluster\n",
    "\n",
    "Now that we have initialized our workspace and created our experiment, it is time to define our resources. This means we need to create a [compute target](https://docs.microsoft.com/azure/machine-learning/service/concept-azure-machine-learning-architecture#compute-target) for your AutoML run.\n",
    "\n",
    "In this section you will create default compute clusters for use by the notebook and any other necessary operations we need. Here we get the default `AmlCompute` as your training compute resource.\n",
    "\n",
    "In order to create a cluster we need to specify a compute configuration that defines the `type of machine` to be used and the `scalability behaviors`. Also, it is necessary to define the name of the cluster which must be unique within the workspace. This name is used to address the cluster later.\n",
    "\n",
    "For this project we use a CPU cluster with following parameters:\n",
    "\n",
    "* `type of the machine`:\n",
    "\n",
    "    * `vm_size`: Defines the size of the virtual machine. We use here \"STANDARD_DS12_V2\" (more details [here](https://docs.microsoft.com/en-us/azure/cloud-services/cloud-services-sizes-specs#dv2-series))\n",
    "\n",
    "* `Scalability behaviors`:\n",
    "\n",
    "    * `min_nodes`: Sets minimun size of the cluster. Setting the minimum to 0 the cluster will shut down all nodes while not in use. If you use another value you are able to have faster start-up times, but you will also be billed when the cluster is not in use. In this experiment we define `min_nodes` as 1.\n",
    "\n",
    "    * `max_nodes`: Sets the maximun size of the cluster. Larger number allows for more concurrency and a greater distributed processing of scale-out jobs."
   ]
  },
  {
   "cell_type": "code",
   "execution_count": 7,
   "metadata": {},
   "outputs": [
    {
     "name": "stdout",
     "output_type": "stream",
     "text": [
      "Found existing cpu-cluster. Use it.\n"
     ]
    }
   ],
   "source": [
    "from azureml.core.compute import ComputeTarget, AmlCompute\n",
    "from azureml.core.compute_target import ComputeTargetException\n",
    "\n",
    "# Define CPU cluster name\n",
    "cpu_cluster_name = \"cpu-cluster\"\n",
    "\n",
    "\n",
    "# Verify that cluster does not exist already\n",
    "try:\n",
    "    cpu_cluster = ComputeTarget(workspace=ws, name=cpu_cluster_name)\n",
    "    print(\"Found existing cpu-cluster. Use it.\")\n",
    "except ComputeTargetException:\n",
    "    # Specify the configuration for the new cluster\n",
    "    compute_config = AmlCompute.provisioning_configuration(vm_size=\"STANDARD_DS12_V2\",\n",
    "                                                           #vm_priority = 'lowpriority', # optional\n",
    "                                                           min_nodes=1, # when innactive\n",
    "                                                           max_nodes=4) # when busy\n",
    "\n",
    "    # Create the cluster with the specified name and configuration\n",
    "    cpu_cluster = ComputeTarget.create(ws, cpu_cluster_name, compute_config)\n",
    "    \n",
    "# # Wait for the cluster to complete, show the output log\n",
    "# # cpu_cluster.wait_for_completion(show_output=True)\n",
    "# cpu_cluster.wait_for_completion(show_output=True, min_node_count = 1, timeout_in_minutes = 10)\n",
    "\n",
    "    # can poll for a minimum number of nodes and for a specific timeout. \n",
    "    # if no min node count is provided it will use the scale settings for the cluster\n",
    "    cpu_cluster.wait_for_completion(show_output=True, min_node_count=None, timeout_in_minutes=20)\n",
    "    \n",
    "     # For a more detailed view of current AmlCompute status, use get_status()\n",
    "    print(cpu_cluster.get_status().serialize())"
   ]
  },
  {
   "cell_type": "code",
   "execution_count": 8,
   "metadata": {},
   "outputs": [
    {
     "name": "stdout",
     "output_type": "stream",
     "text": [
      "cpu-cluster ComputeInstance Succeeded\n"
     ]
    }
   ],
   "source": [
    "# Check details about compute_targets (i.e. cpu_cluster)\n",
    "\n",
    "compute_targets = ws.compute_targets\n",
    "for name, ct in compute_targets.items():\n",
    "    print(name, ct.type, ct.provisioning_state)"
   ]
  },
  {
   "cell_type": "markdown",
   "metadata": {},
   "source": [
    "## Dataset\n",
    "\n",
    "The code below try first to load the dataset from the workspace. The key is the dataset name and is used to find the dataset and load it.\n",
    "\n",
    "If the key is not found, i.e., the dataset is not in the workspace the dataset is loaded from the web using the link given at the beginning of this notebook."
   ]
  },
  {
   "cell_type": "code",
   "execution_count": 9,
   "metadata": {},
   "outputs": [],
   "source": [
    "# Try to load the dataset from the Workspace. Otherwise, create it from the file\n",
    "# NOTE: update the key to match the dataset name\n",
    "found = False\n",
    "key = \"BankMarketing\"\n",
    "description_text = \"Bank Marketing DataSet for 2nd Project Udacity Azure ML Engineer.\"\n",
    "\n",
    "if key in ws.datasets.keys(): \n",
    "        found = True\n",
    "        dataset = ws.datasets[key] \n",
    "\n",
    "if not found:\n",
    "        # Create AML Dataset and register it into Workspace\n",
    "        example_data = 'https://automlsamplenotebookdata.blob.core.windows.net/automl-sample-notebook-data/bankmarketing_train.csv'\n",
    "        # Create TabularDataset using TabularDatasetFactory\n",
    "        dataset = Dataset.Tabular.from_delimited_files(example_data)        \n",
    "        #Register Dataset in Workspace\n",
    "        dataset = dataset.register(workspace=ws,\n",
    "                                   name=key,\n",
    "                                   description=description_text)\n",
    "\n",
    "\n",
    "#create a data frame\n",
    "df = dataset.to_pandas_dataframe()"
   ]
  },
  {
   "cell_type": "markdown",
   "metadata": {},
   "source": [
    "### Inspect Dataset"
   ]
  },
  {
   "cell_type": "code",
   "execution_count": 10,
   "metadata": {},
   "outputs": [
    {
     "data": {
      "text/html": [
       "<div>\n",
       "<style scoped>\n",
       "    .dataframe tbody tr th:only-of-type {\n",
       "        vertical-align: middle;\n",
       "    }\n",
       "\n",
       "    .dataframe tbody tr th {\n",
       "        vertical-align: top;\n",
       "    }\n",
       "\n",
       "    .dataframe thead th {\n",
       "        text-align: right;\n",
       "    }\n",
       "</style>\n",
       "<table border=\"1\" class=\"dataframe\">\n",
       "  <thead>\n",
       "    <tr style=\"text-align: right;\">\n",
       "      <th></th>\n",
       "      <th>age</th>\n",
       "      <th>job</th>\n",
       "      <th>marital</th>\n",
       "      <th>education</th>\n",
       "      <th>default</th>\n",
       "      <th>housing</th>\n",
       "      <th>loan</th>\n",
       "      <th>contact</th>\n",
       "      <th>month</th>\n",
       "      <th>day_of_week</th>\n",
       "      <th>...</th>\n",
       "      <th>campaign</th>\n",
       "      <th>pdays</th>\n",
       "      <th>previous</th>\n",
       "      <th>poutcome</th>\n",
       "      <th>emp.var.rate</th>\n",
       "      <th>cons.price.idx</th>\n",
       "      <th>cons.conf.idx</th>\n",
       "      <th>euribor3m</th>\n",
       "      <th>nr.employed</th>\n",
       "      <th>y</th>\n",
       "    </tr>\n",
       "  </thead>\n",
       "  <tbody>\n",
       "    <tr>\n",
       "      <th>0</th>\n",
       "      <td>57</td>\n",
       "      <td>technician</td>\n",
       "      <td>married</td>\n",
       "      <td>high.school</td>\n",
       "      <td>no</td>\n",
       "      <td>no</td>\n",
       "      <td>yes</td>\n",
       "      <td>cellular</td>\n",
       "      <td>may</td>\n",
       "      <td>mon</td>\n",
       "      <td>...</td>\n",
       "      <td>1</td>\n",
       "      <td>999</td>\n",
       "      <td>1</td>\n",
       "      <td>failure</td>\n",
       "      <td>-1.8</td>\n",
       "      <td>92.893</td>\n",
       "      <td>-46.2</td>\n",
       "      <td>1.299</td>\n",
       "      <td>5099.1</td>\n",
       "      <td>no</td>\n",
       "    </tr>\n",
       "    <tr>\n",
       "      <th>1</th>\n",
       "      <td>55</td>\n",
       "      <td>unknown</td>\n",
       "      <td>married</td>\n",
       "      <td>unknown</td>\n",
       "      <td>unknown</td>\n",
       "      <td>yes</td>\n",
       "      <td>no</td>\n",
       "      <td>telephone</td>\n",
       "      <td>may</td>\n",
       "      <td>thu</td>\n",
       "      <td>...</td>\n",
       "      <td>2</td>\n",
       "      <td>999</td>\n",
       "      <td>0</td>\n",
       "      <td>nonexistent</td>\n",
       "      <td>1.1</td>\n",
       "      <td>93.994</td>\n",
       "      <td>-36.4</td>\n",
       "      <td>4.860</td>\n",
       "      <td>5191.0</td>\n",
       "      <td>no</td>\n",
       "    </tr>\n",
       "    <tr>\n",
       "      <th>2</th>\n",
       "      <td>33</td>\n",
       "      <td>blue-collar</td>\n",
       "      <td>married</td>\n",
       "      <td>basic.9y</td>\n",
       "      <td>no</td>\n",
       "      <td>no</td>\n",
       "      <td>no</td>\n",
       "      <td>cellular</td>\n",
       "      <td>may</td>\n",
       "      <td>fri</td>\n",
       "      <td>...</td>\n",
       "      <td>1</td>\n",
       "      <td>999</td>\n",
       "      <td>1</td>\n",
       "      <td>failure</td>\n",
       "      <td>-1.8</td>\n",
       "      <td>92.893</td>\n",
       "      <td>-46.2</td>\n",
       "      <td>1.313</td>\n",
       "      <td>5099.1</td>\n",
       "      <td>no</td>\n",
       "    </tr>\n",
       "    <tr>\n",
       "      <th>3</th>\n",
       "      <td>36</td>\n",
       "      <td>admin.</td>\n",
       "      <td>married</td>\n",
       "      <td>high.school</td>\n",
       "      <td>no</td>\n",
       "      <td>no</td>\n",
       "      <td>no</td>\n",
       "      <td>telephone</td>\n",
       "      <td>jun</td>\n",
       "      <td>fri</td>\n",
       "      <td>...</td>\n",
       "      <td>4</td>\n",
       "      <td>999</td>\n",
       "      <td>0</td>\n",
       "      <td>nonexistent</td>\n",
       "      <td>1.4</td>\n",
       "      <td>94.465</td>\n",
       "      <td>-41.8</td>\n",
       "      <td>4.967</td>\n",
       "      <td>5228.1</td>\n",
       "      <td>no</td>\n",
       "    </tr>\n",
       "    <tr>\n",
       "      <th>4</th>\n",
       "      <td>27</td>\n",
       "      <td>housemaid</td>\n",
       "      <td>married</td>\n",
       "      <td>high.school</td>\n",
       "      <td>no</td>\n",
       "      <td>yes</td>\n",
       "      <td>no</td>\n",
       "      <td>cellular</td>\n",
       "      <td>jul</td>\n",
       "      <td>fri</td>\n",
       "      <td>...</td>\n",
       "      <td>2</td>\n",
       "      <td>999</td>\n",
       "      <td>0</td>\n",
       "      <td>nonexistent</td>\n",
       "      <td>1.4</td>\n",
       "      <td>93.918</td>\n",
       "      <td>-42.7</td>\n",
       "      <td>4.963</td>\n",
       "      <td>5228.1</td>\n",
       "      <td>no</td>\n",
       "    </tr>\n",
       "  </tbody>\n",
       "</table>\n",
       "<p>5 rows × 21 columns</p>\n",
       "</div>"
      ],
      "text/plain": [
       "   age          job  marital    education  default housing loan    contact  \\\n",
       "0   57   technician  married  high.school       no      no  yes   cellular   \n",
       "1   55      unknown  married      unknown  unknown     yes   no  telephone   \n",
       "2   33  blue-collar  married     basic.9y       no      no   no   cellular   \n",
       "3   36       admin.  married  high.school       no      no   no  telephone   \n",
       "4   27    housemaid  married  high.school       no     yes   no   cellular   \n",
       "\n",
       "  month day_of_week  ...  campaign  pdays  previous     poutcome emp.var.rate  \\\n",
       "0   may         mon  ...         1    999         1      failure         -1.8   \n",
       "1   may         thu  ...         2    999         0  nonexistent          1.1   \n",
       "2   may         fri  ...         1    999         1      failure         -1.8   \n",
       "3   jun         fri  ...         4    999         0  nonexistent          1.4   \n",
       "4   jul         fri  ...         2    999         0  nonexistent          1.4   \n",
       "\n",
       "   cons.price.idx  cons.conf.idx  euribor3m  nr.employed   y  \n",
       "0          92.893          -46.2      1.299       5099.1  no  \n",
       "1          93.994          -36.4      4.860       5191.0  no  \n",
       "2          92.893          -46.2      1.313       5099.1  no  \n",
       "3          94.465          -41.8      4.967       5228.1  no  \n",
       "4          93.918          -42.7      4.963       5228.1  no  \n",
       "\n",
       "[5 rows x 21 columns]"
      ]
     },
     "execution_count": 10,
     "metadata": {},
     "output_type": "execute_result"
    }
   ],
   "source": [
    "df.head()"
   ]
  },
  {
   "cell_type": "code",
   "execution_count": 11,
   "metadata": {},
   "outputs": [
    {
     "name": "stdout",
     "output_type": "stream",
     "text": [
      "<class 'pandas.core.frame.DataFrame'>\n",
      "RangeIndex: 32950 entries, 0 to 32949\n",
      "Data columns (total 21 columns):\n",
      "age               32950 non-null int64\n",
      "job               32950 non-null object\n",
      "marital           32950 non-null object\n",
      "education         32950 non-null object\n",
      "default           32950 non-null object\n",
      "housing           32950 non-null object\n",
      "loan              32950 non-null object\n",
      "contact           32950 non-null object\n",
      "month             32950 non-null object\n",
      "day_of_week       32950 non-null object\n",
      "duration          32950 non-null int64\n",
      "campaign          32950 non-null int64\n",
      "pdays             32950 non-null int64\n",
      "previous          32950 non-null int64\n",
      "poutcome          32950 non-null object\n",
      "emp.var.rate      32950 non-null float64\n",
      "cons.price.idx    32950 non-null float64\n",
      "cons.conf.idx     32950 non-null float64\n",
      "euribor3m         32950 non-null float64\n",
      "nr.employed       32950 non-null float64\n",
      "y                 32950 non-null object\n",
      "dtypes: float64(5), int64(5), object(11)\n",
      "memory usage: 5.3+ MB\n"
     ]
    }
   ],
   "source": [
    "df.info()"
   ]
  },
  {
   "cell_type": "code",
   "execution_count": 12,
   "metadata": {},
   "outputs": [
    {
     "data": {
      "text/html": [
       "<div>\n",
       "<style scoped>\n",
       "    .dataframe tbody tr th:only-of-type {\n",
       "        vertical-align: middle;\n",
       "    }\n",
       "\n",
       "    .dataframe tbody tr th {\n",
       "        vertical-align: top;\n",
       "    }\n",
       "\n",
       "    .dataframe thead th {\n",
       "        text-align: right;\n",
       "    }\n",
       "</style>\n",
       "<table border=\"1\" class=\"dataframe\">\n",
       "  <thead>\n",
       "    <tr style=\"text-align: right;\">\n",
       "      <th></th>\n",
       "      <th>age</th>\n",
       "      <th>duration</th>\n",
       "      <th>campaign</th>\n",
       "      <th>pdays</th>\n",
       "      <th>previous</th>\n",
       "      <th>emp.var.rate</th>\n",
       "      <th>cons.price.idx</th>\n",
       "      <th>cons.conf.idx</th>\n",
       "      <th>euribor3m</th>\n",
       "      <th>nr.employed</th>\n",
       "    </tr>\n",
       "  </thead>\n",
       "  <tbody>\n",
       "    <tr>\n",
       "      <th>count</th>\n",
       "      <td>32950.000000</td>\n",
       "      <td>32950.000000</td>\n",
       "      <td>32950.000000</td>\n",
       "      <td>32950.000000</td>\n",
       "      <td>32950.000000</td>\n",
       "      <td>32950.000000</td>\n",
       "      <td>32950.000000</td>\n",
       "      <td>32950.000000</td>\n",
       "      <td>32950.000000</td>\n",
       "      <td>32950.000000</td>\n",
       "    </tr>\n",
       "    <tr>\n",
       "      <th>mean</th>\n",
       "      <td>40.040212</td>\n",
       "      <td>257.335205</td>\n",
       "      <td>2.561730</td>\n",
       "      <td>962.174780</td>\n",
       "      <td>0.174780</td>\n",
       "      <td>0.076228</td>\n",
       "      <td>93.574243</td>\n",
       "      <td>-40.518680</td>\n",
       "      <td>3.615654</td>\n",
       "      <td>5166.859608</td>\n",
       "    </tr>\n",
       "    <tr>\n",
       "      <th>std</th>\n",
       "      <td>10.432313</td>\n",
       "      <td>257.331700</td>\n",
       "      <td>2.763646</td>\n",
       "      <td>187.646785</td>\n",
       "      <td>0.496503</td>\n",
       "      <td>1.572242</td>\n",
       "      <td>0.578636</td>\n",
       "      <td>4.623004</td>\n",
       "      <td>1.735748</td>\n",
       "      <td>72.208448</td>\n",
       "    </tr>\n",
       "    <tr>\n",
       "      <th>min</th>\n",
       "      <td>17.000000</td>\n",
       "      <td>0.000000</td>\n",
       "      <td>1.000000</td>\n",
       "      <td>0.000000</td>\n",
       "      <td>0.000000</td>\n",
       "      <td>-3.400000</td>\n",
       "      <td>92.201000</td>\n",
       "      <td>-50.800000</td>\n",
       "      <td>0.634000</td>\n",
       "      <td>4963.600000</td>\n",
       "    </tr>\n",
       "    <tr>\n",
       "      <th>25%</th>\n",
       "      <td>32.000000</td>\n",
       "      <td>102.000000</td>\n",
       "      <td>1.000000</td>\n",
       "      <td>999.000000</td>\n",
       "      <td>0.000000</td>\n",
       "      <td>-1.800000</td>\n",
       "      <td>93.075000</td>\n",
       "      <td>-42.700000</td>\n",
       "      <td>1.344000</td>\n",
       "      <td>5099.100000</td>\n",
       "    </tr>\n",
       "    <tr>\n",
       "      <th>50%</th>\n",
       "      <td>38.000000</td>\n",
       "      <td>179.000000</td>\n",
       "      <td>2.000000</td>\n",
       "      <td>999.000000</td>\n",
       "      <td>0.000000</td>\n",
       "      <td>1.100000</td>\n",
       "      <td>93.749000</td>\n",
       "      <td>-41.800000</td>\n",
       "      <td>4.857000</td>\n",
       "      <td>5191.000000</td>\n",
       "    </tr>\n",
       "    <tr>\n",
       "      <th>75%</th>\n",
       "      <td>47.000000</td>\n",
       "      <td>318.000000</td>\n",
       "      <td>3.000000</td>\n",
       "      <td>999.000000</td>\n",
       "      <td>0.000000</td>\n",
       "      <td>1.400000</td>\n",
       "      <td>93.994000</td>\n",
       "      <td>-36.400000</td>\n",
       "      <td>4.961000</td>\n",
       "      <td>5228.100000</td>\n",
       "    </tr>\n",
       "    <tr>\n",
       "      <th>max</th>\n",
       "      <td>98.000000</td>\n",
       "      <td>4918.000000</td>\n",
       "      <td>56.000000</td>\n",
       "      <td>999.000000</td>\n",
       "      <td>7.000000</td>\n",
       "      <td>1.400000</td>\n",
       "      <td>94.767000</td>\n",
       "      <td>-26.900000</td>\n",
       "      <td>5.045000</td>\n",
       "      <td>5228.100000</td>\n",
       "    </tr>\n",
       "  </tbody>\n",
       "</table>\n",
       "</div>"
      ],
      "text/plain": [
       "                age      duration      campaign         pdays      previous  \\\n",
       "count  32950.000000  32950.000000  32950.000000  32950.000000  32950.000000   \n",
       "mean      40.040212    257.335205      2.561730    962.174780      0.174780   \n",
       "std       10.432313    257.331700      2.763646    187.646785      0.496503   \n",
       "min       17.000000      0.000000      1.000000      0.000000      0.000000   \n",
       "25%       32.000000    102.000000      1.000000    999.000000      0.000000   \n",
       "50%       38.000000    179.000000      2.000000    999.000000      0.000000   \n",
       "75%       47.000000    318.000000      3.000000    999.000000      0.000000   \n",
       "max       98.000000   4918.000000     56.000000    999.000000      7.000000   \n",
       "\n",
       "       emp.var.rate  cons.price.idx  cons.conf.idx     euribor3m   nr.employed  \n",
       "count  32950.000000    32950.000000   32950.000000  32950.000000  32950.000000  \n",
       "mean       0.076228       93.574243     -40.518680      3.615654   5166.859608  \n",
       "std        1.572242        0.578636       4.623004      1.735748     72.208448  \n",
       "min       -3.400000       92.201000     -50.800000      0.634000   4963.600000  \n",
       "25%       -1.800000       93.075000     -42.700000      1.344000   5099.100000  \n",
       "50%        1.100000       93.749000     -41.800000      4.857000   5191.000000  \n",
       "75%        1.400000       93.994000     -36.400000      4.961000   5228.100000  \n",
       "max        1.400000       94.767000     -26.900000      5.045000   5228.100000  "
      ]
     },
     "execution_count": 12,
     "metadata": {},
     "output_type": "execute_result"
    }
   ],
   "source": [
    "df.describe()"
   ]
  },
  {
   "cell_type": "code",
   "execution_count": 13,
   "metadata": {},
   "outputs": [
    {
     "data": {
      "text/plain": [
       "no     0.887951\n",
       "yes    0.112049\n",
       "Name: y, dtype: float64"
      ]
     },
     "execution_count": 13,
     "metadata": {},
     "output_type": "execute_result"
    }
   ],
   "source": [
    "df.y.value_counts(normalize=True)"
   ]
  },
  {
   "cell_type": "markdown",
   "metadata": {},
   "source": [
    "Unbalanced data: 88.80% label 'no' and 11.20% label 'yes'.\n",
    "\n",
    "We can apply some techniques on the dataset to make the data more balanced before applying ML. **Automated ML** has built in capabilities to help deal with imbalanced. For instances, the algorithms used by automated ML detect imbalance when the number of samples in the minority class is equal to or fewer than 20% of the number of samples in the majority class, where minority class refers to the one with fewest samples and majority class refers to the one with most samples. Subsequently, AutoML will run an experiment with sub-sampled data to check if using class weights would remedy this problem and improve performance.\n",
    "\n",
    "In addition, it is important to use a more appropriated metric such as **AUC_weighted** which is a primary metric that calculates the contribution of every class based on the relative number of samples representing that class. Therefore, it is more robust against imbalance.\n",
    "\n",
    "For more details, check this [link](https://docs.microsoft.com/en-us/azure/machine-learning/concept-manage-ml-pitfalls).\n",
    "\n"
   ]
  },
  {
   "cell_type": "markdown",
   "metadata": {},
   "source": [
    "## Train model:\n",
    "\n",
    "Now we use the [BankMarketing Dataset](https://automlsamplenotebookdata.blob.core.windows.net/automl-sample-notebook-data/bankmarketing_train.csv) to obtain a model by running AutoML.\n",
    "\n",
    "AutoML is an automated machine learning capability included in Azure ML. It leverages the scalability of cloud compute to automatically try multiple pre-processing techniques and model-training algorithms in parallel to find the best performing supervised machine learning model for a dataset. In this particular case for the `BankMarketing` dataset, we have just loaded.\n",
    "\n",
    "### Configure AutoML"
   ]
  },
  {
   "cell_type": "code",
   "execution_count": 14,
   "metadata": {},
   "outputs": [],
   "source": [
    "automl_settings = {\n",
    "    \"experiment_timeout_minutes\": 60, # define how long, in minutes, the experiment should continue to run.\n",
    "    \"max_concurrent_iterations\": 5,\n",
    "    \"primary_metric\" : 'AUC_weighted'\n",
    "}\n",
    "automl_config = AutoMLConfig(compute_target=cpu_cluster,\n",
    "                             task = \"classification\",\n",
    "                             training_data=dataset,\n",
    "                             label_column_name=\"y\",   \n",
    "                             path = project_folder,\n",
    "                             enable_early_stopping= True,\n",
    "                             featurization= 'auto', # as part of preprocessing, data guardrails and featurization steps are performed automatically.\n",
    "                             debug_log = \"automl_errors.log\",\n",
    "                             **automl_settings\n",
    "                            )"
   ]
  },
  {
   "cell_type": "markdown",
   "metadata": {},
   "source": [
    "**USING MY FIRST PROJECT**"
   ]
  },
  {
   "cell_type": "markdown",
   "metadata": {},
   "source": [
    "### Submitting Training Experiment"
   ]
  },
  {
   "cell_type": "code",
   "execution_count": 16,
   "metadata": {
    "scrolled": false
   },
   "outputs": [
    {
     "name": "stdout",
     "output_type": "stream",
     "text": [
      "Running on remote.\n",
      "No run_configuration provided, running on cpu-cluster with default configuration\n",
      "Running on remote compute: cpu-cluster\n",
      "Parent Run ID: AutoML_b2145a47-7069-4953-b04e-1bb07ac959b6\n",
      "\n",
      "Current status: FeaturesGeneration. Generating features for the dataset.\n",
      "Current status: DatasetBalancing. Performing class balancing sweeping\n",
      "Current status: ModelSelection. Beginning model selection.\n",
      "\n",
      "****************************************************************************************************\n",
      "DATA GUARDRAILS: \n",
      "\n",
      "TYPE:         Train-Test data split\n",
      "STATUS:       DONE\n",
      "DESCRIPTION:  Your input data has been split into a training dataset and a holdout test dataset for validation of the model. The test holdout dataset reflects the original distribution of your input data.\n",
      "              \n",
      "DETAILS:      \n",
      "+---------------------------------+---------------------------------+---------------------------------+\n",
      "|Dataset                          |Row counts                       |Percentage                       |\n",
      "+=================================+=================================+=================================+\n",
      "|train                            |29655                            |90.0                             |\n",
      "|test                             |3295                             |10.0                             |\n",
      "+---------------------------------+---------------------------------+---------------------------------+\n",
      "\n",
      "****************************************************************************************************\n",
      "\n",
      "TYPE:         Class balancing detection\n",
      "STATUS:       ALERTED\n",
      "DESCRIPTION:  To decrease model bias, please cancel the current run and fix balancing problem.\n",
      "              Learn more about imbalanced data: https://aka.ms/AutomatedMLImbalancedData\n",
      "DETAILS:      Imbalanced data can lead to a falsely perceived positive effect of a model's accuracy because the input data has bias towards one class.\n",
      "+---------------------------------+---------------------------------+--------------------------------------+\n",
      "|Size of the smallest class       |Name/Label of the smallest class |Number of samples in the training data|\n",
      "+=================================+=================================+======================================+\n",
      "|3323                             |yes                              |29655                                 |\n",
      "+---------------------------------+---------------------------------+--------------------------------------+\n",
      "\n",
      "****************************************************************************************************\n",
      "\n",
      "TYPE:         Missing feature values imputation\n",
      "STATUS:       PASSED\n",
      "DESCRIPTION:  No feature missing values were detected in the training data.\n",
      "              Learn more about missing value imputation: https://aka.ms/AutomatedMLFeaturization\n",
      "\n",
      "****************************************************************************************************\n",
      "\n",
      "TYPE:         High cardinality feature detection\n",
      "STATUS:       PASSED\n",
      "DESCRIPTION:  Your inputs were analyzed, and no high cardinality features were detected.\n",
      "              Learn more about high cardinality feature handling: https://aka.ms/AutomatedMLFeaturization\n",
      "\n",
      "****************************************************************************************************\n",
      "\n",
      "****************************************************************************************************\n",
      "ITERATION: The iteration being evaluated.\n",
      "PIPELINE: A summary description of the pipeline being evaluated.\n",
      "DURATION: Time taken for the current iteration.\n",
      "METRIC: The result of computing score on the fitted pipeline.\n",
      "BEST: The best observed score thus far.\n",
      "****************************************************************************************************\n",
      "\n",
      " ITERATION   PIPELINE                                       DURATION      METRIC      BEST\n",
      "         0   MaxAbsScaler LightGBM                          0:00:41       0.9450    0.9450\n",
      "         2   MaxAbsScaler RandomForest                      0:00:37       0.8992    0.9450\n",
      "         1   MaxAbsScaler XGBoostClassifier                 0:00:46       0.9392    0.9450\n",
      "         3   MaxAbsScaler RandomForest                      0:00:49       0.9056    0.9450\n",
      "         4   MaxAbsScaler RandomForest                      0:00:46       0.8843    0.9450\n",
      "         5   MaxAbsScaler ExtremeRandomTrees                0:00:38       0.8962    0.9450\n",
      "         6   MaxAbsScaler ExtremeRandomTrees                0:00:43       0.8793    0.9450\n",
      "         7   MaxAbsScaler ExtremeRandomTrees                0:00:34       0.8343    0.9450\n",
      "         8   MaxAbsScaler RandomForest                      0:00:38       0.8577    0.9450\n",
      "         9   MaxAbsScaler ExtremeRandomTrees                0:00:35       0.8174    0.9450\n",
      "        10   MaxAbsScaler RandomForest                      0:00:43       0.8571    0.9450\n",
      "        11   MaxAbsScaler RandomForest                      0:00:42       0.8915    0.9450\n",
      "        12   MaxAbsScaler RandomForest                      0:00:45       0.8710    0.9450\n",
      "        13   StandardScalerWrapper XGBoostClassifier        0:00:40       0.9309    0.9450\n",
      "        14   MaxAbsScaler RandomForest                      0:00:43       0.9005    0.9450\n",
      "        15   StandardScalerWrapper ExtremeRandomTrees       0:00:48       0.8853    0.9450\n",
      "        16   MaxAbsScaler ExtremeRandomTrees                0:00:39       0.8620    0.9450\n",
      "        17   MaxAbsScaler ExtremeRandomTrees                0:00:42       0.8219    0.9450\n",
      "        18   MaxAbsScaler RandomForest                      0:00:34       0.8951    0.9450\n",
      "        19   StandardScalerWrapper XGBoostClassifier        0:00:42       0.9425    0.9450\n",
      "        21   MaxAbsScaler LightGBM                          0:00:42       0.9450    0.9450\n",
      "        22   MaxAbsScaler LightGBM                          0:00:41       0.9347    0.9450\n",
      "        23   StandardScalerWrapper XGBoostClassifier        0:00:43       0.9453    0.9453\n",
      "        24   StandardScalerWrapper XGBoostClassifier        0:00:42       0.9423    0.9453\n",
      "        20   SparseNormalizer XGBoostClassifier             0:01:23       0.9435    0.9453\n",
      "        25   MaxAbsScaler LightGBM                          0:00:39       0.9344    0.9453\n",
      "        26   StandardScalerWrapper XGBoostClassifier        0:00:46       0.9429    0.9453\n",
      "        27   StandardScalerWrapper LightGBM                 0:00:58       0.9199    0.9453\n",
      "        28   MaxAbsScaler LightGBM                          0:01:18       0.9443    0.9453\n",
      "        29   MaxAbsScaler LightGBM                          0:00:48       0.9343    0.9453\n",
      "        31   StandardScalerWrapper LogisticRegression       0:00:47       0.9225    0.9453\n",
      "        30   StandardScalerWrapper XGBoostClassifier        0:01:31       0.9419    0.9453\n",
      "        34   StandardScalerWrapper XGBoostClassifier        0:00:52       0.9419    0.9453\n",
      "        32   StandardScalerWrapper XGBoostClassifier        0:01:29       0.9414    0.9453\n",
      "        33   TruncatedSVDWrapper XGBoostClassifier          0:01:00       0.9337    0.9453\n",
      "        35   SparseNormalizer XGBoostClassifier             0:00:52       0.5000    0.9453\n",
      "        36   StandardScalerWrapper XGBoostClassifier        0:00:51       0.9404    0.9453\n",
      "        37   StandardScalerWrapper LightGBM                 0:00:50       0.9435    0.9453\n",
      "        38   StandardScalerWrapper XGBoostClassifier        0:00:48       0.9436    0.9453\n",
      "        39   StandardScalerWrapper XGBoostClassifier        0:00:40       0.9450    0.9453\n",
      "        40   StandardScalerWrapper XGBoostClassifier        0:00:31          nan    0.9453\n",
      "        41    VotingEnsemble                                0:00:50       0.9471    0.9471\n",
      "        42    StackEnsemble                                 0:02:51       0.9453    0.9471\n"
     ]
    },
    {
     "data": {
      "text/html": [
       "<table style=\"width:100%\"><tr><th>Experiment</th><th>Id</th><th>Type</th><th>Status</th><th>Details Page</th><th>Docs Page</th></tr><tr><td>automl-experiment</td><td>AutoML_b2145a47-7069-4953-b04e-1bb07ac959b6</td><td>automl</td><td>Completed</td><td><a href=\"https://ml.azure.com/experiments/automl-experiment/runs/AutoML_b2145a47-7069-4953-b04e-1bb07ac959b6?wsid=/subscriptions/f9d5a085-54dc-4215-9ba6-dad5d86e60a0/resourcegroups/aml-quickstarts-132158/workspaces/quick-starts-ws-132158\" target=\"_blank\" rel=\"noopener\">Link to Azure Machine Learning studio</a></td><td><a href=\"https://docs.microsoft.com/en-us/python/api/overview/azure/ml/intro?view=azure-ml-py\" target=\"_blank\" rel=\"noopener\">Link to Documentation</a></td></tr></table>"
      ],
      "text/plain": [
       "Run(Experiment: automl-experiment,\n",
       "Id: AutoML_b2145a47-7069-4953-b04e-1bb07ac959b6,\n",
       "Type: automl,\n",
       "Status: Completed)"
      ]
     },
     "execution_count": 16,
     "metadata": {},
     "output_type": "execute_result"
    }
   ],
   "source": [
    "automl_run = experiment.submit(config=automl_config, show_output=True)\n",
    "automl_run"
   ]
  },
  {
   "cell_type": "markdown",
   "metadata": {},
   "source": [
    "### Monitor using `Widget`\n",
    "\n",
    "We use widget to explore the results obtained by using AutoML."
   ]
  },
  {
   "cell_type": "code",
   "execution_count": 18,
   "metadata": {
    "scrolled": false
   },
   "outputs": [
    {
     "data": {
      "application/vnd.jupyter.widget-view+json": {
       "model_id": "04ee51374b4b4f00a5735525601f4e1b",
       "version_major": 2,
       "version_minor": 0
      },
      "text/plain": [
       "_AutoMLWidget(widget_settings={'childWidgetDisplay': 'popup', 'send_telemetry': False, 'log_level': 'INFO', 's…"
      ]
     },
     "metadata": {},
     "output_type": "display_data"
    },
    {
     "data": {
      "application/aml.mini.widget.v1": "{\"status\": \"Completed\", \"workbench_run_details_uri\": \"https://ml.azure.com/experiments/automl-experiment/runs/AutoML_b2145a47-7069-4953-b04e-1bb07ac959b6?wsid=/subscriptions/f9d5a085-54dc-4215-9ba6-dad5d86e60a0/resourcegroups/aml-quickstarts-132158/workspaces/quick-starts-ws-132158\", \"run_id\": \"AutoML_b2145a47-7069-4953-b04e-1bb07ac959b6\", \"run_properties\": {\"run_id\": \"AutoML_b2145a47-7069-4953-b04e-1bb07ac959b6\", \"created_utc\": \"2020-12-28T13:32:34.245346Z\", \"properties\": {\"num_iterations\": \"1000\", \"training_type\": \"TrainFull\", \"acquisition_function\": \"EI\", \"primary_metric\": \"AUC_weighted\", \"train_split\": \"0\", \"acquisition_parameter\": \"0\", \"num_cross_validation\": null, \"target\": \"cpu-cluster\", \"AMLSettingsJsonString\": \"{\\\"path\\\":null,\\\"name\\\":\\\"automl-experiment\\\",\\\"subscription_id\\\":\\\"f9d5a085-54dc-4215-9ba6-dad5d86e60a0\\\",\\\"resource_group\\\":\\\"aml-quickstarts-132158\\\",\\\"workspace_name\\\":\\\"quick-starts-ws-132158\\\",\\\"region\\\":\\\"southcentralus\\\",\\\"compute_target\\\":\\\"cpu-cluster\\\",\\\"spark_service\\\":null,\\\"azure_service\\\":\\\"remote\\\",\\\"many_models\\\":false,\\\"pipeline_fetch_max_batch_size\\\":1,\\\"iterations\\\":1000,\\\"primary_metric\\\":\\\"AUC_weighted\\\",\\\"task_type\\\":\\\"classification\\\",\\\"data_script\\\":null,\\\"validation_size\\\":0.0,\\\"n_cross_validations\\\":null,\\\"y_min\\\":null,\\\"y_max\\\":null,\\\"num_classes\\\":null,\\\"featurization\\\":\\\"auto\\\",\\\"_ignore_package_version_incompatibilities\\\":false,\\\"is_timeseries\\\":false,\\\"max_cores_per_iteration\\\":1,\\\"max_concurrent_iterations\\\":5,\\\"iteration_timeout_minutes\\\":null,\\\"mem_in_mb\\\":null,\\\"enforce_time_on_windows\\\":false,\\\"experiment_timeout_minutes\\\":60,\\\"experiment_exit_score\\\":null,\\\"whitelist_models\\\":null,\\\"blacklist_algos\\\":[\\\"TensorFlowLinearClassifier\\\",\\\"TensorFlowDNN\\\"],\\\"supported_models\\\":[\\\"RandomForest\\\",\\\"LogisticRegression\\\",\\\"XGBoostClassifier\\\",\\\"TensorFlowLinearClassifier\\\",\\\"LinearSVM\\\",\\\"LightGBM\\\",\\\"KNN\\\",\\\"GradientBoosting\\\",\\\"SVM\\\",\\\"DecisionTree\\\",\\\"ExtremeRandomTrees\\\",\\\"SGD\\\",\\\"AveragedPerceptronClassifier\\\",\\\"MultinomialNaiveBayes\\\",\\\"TensorFlowDNN\\\",\\\"BernoulliNaiveBayes\\\"],\\\"auto_blacklist\\\":true,\\\"blacklist_samples_reached\\\":false,\\\"exclude_nan_labels\\\":true,\\\"verbosity\\\":20,\\\"_debug_log\\\":\\\"azureml_automl.log\\\",\\\"show_warnings\\\":false,\\\"model_explainability\\\":true,\\\"service_url\\\":null,\\\"sdk_url\\\":null,\\\"sdk_packages\\\":null,\\\"enable_onnx_compatible_models\\\":false,\\\"enable_split_onnx_featurizer_estimator_models\\\":false,\\\"vm_type\\\":\\\"STANDARD_DS12_V2\\\",\\\"telemetry_verbosity\\\":20,\\\"send_telemetry\\\":true,\\\"enable_dnn\\\":false,\\\"scenario\\\":\\\"SDK-1.13.0\\\",\\\"environment_label\\\":null,\\\"force_text_dnn\\\":false,\\\"enable_feature_sweeping\\\":true,\\\"enable_early_stopping\\\":true,\\\"early_stopping_n_iters\\\":10,\\\"metrics\\\":null,\\\"enable_ensembling\\\":true,\\\"enable_stack_ensembling\\\":true,\\\"ensemble_iterations\\\":15,\\\"enable_tf\\\":false,\\\"enable_subsampling\\\":null,\\\"subsample_seed\\\":null,\\\"enable_nimbusml\\\":false,\\\"enable_streaming\\\":false,\\\"force_streaming\\\":false,\\\"track_child_runs\\\":true,\\\"allowed_private_models\\\":[],\\\"label_column_name\\\":\\\"y\\\",\\\"weight_column_name\\\":null,\\\"cv_split_column_names\\\":null,\\\"enable_local_managed\\\":false,\\\"_local_managed_run_id\\\":null,\\\"cost_mode\\\":1,\\\"lag_length\\\":0,\\\"metric_operation\\\":\\\"maximize\\\",\\\"preprocess\\\":true}\", \"DataPrepJsonString\": \"{\\\\\\\"training_data\\\\\\\": \\\\\\\"{\\\\\\\\\\\\\\\"blocks\\\\\\\\\\\\\\\": [{\\\\\\\\\\\\\\\"id\\\\\\\\\\\\\\\": \\\\\\\\\\\\\\\"6ef80733-9df7-4f1d-8582-d89618e780c1\\\\\\\\\\\\\\\", \\\\\\\\\\\\\\\"type\\\\\\\\\\\\\\\": \\\\\\\\\\\\\\\"Microsoft.DPrep.GetFilesBlock\\\\\\\\\\\\\\\", \\\\\\\\\\\\\\\"arguments\\\\\\\\\\\\\\\": {\\\\\\\\\\\\\\\"isArchive\\\\\\\\\\\\\\\": false, \\\\\\\\\\\\\\\"path\\\\\\\\\\\\\\\": {\\\\\\\\\\\\\\\"target\\\\\\\\\\\\\\\": 1, \\\\\\\\\\\\\\\"resourceDetails\\\\\\\\\\\\\\\": [{\\\\\\\\\\\\\\\"path\\\\\\\\\\\\\\\": \\\\\\\\\\\\\\\"https://automlsamplenotebookdata.blob.core.windows.net/automl-sample-notebook-data/bankmarketing_train.csv\\\\\\\\\\\\\\\", \\\\\\\\\\\\\\\"sas\\\\\\\\\\\\\\\": null, \\\\\\\\\\\\\\\"storageAccountName\\\\\\\\\\\\\\\": null, \\\\\\\\\\\\\\\"storageAccountKey\\\\\\\\\\\\\\\": null}]}}, \\\\\\\\\\\\\\\"localData\\\\\\\\\\\\\\\": {}, \\\\\\\\\\\\\\\"isEnabled\\\\\\\\\\\\\\\": true, \\\\\\\\\\\\\\\"name\\\\\\\\\\\\\\\": null, \\\\\\\\\\\\\\\"annotation\\\\\\\\\\\\\\\": null}, {\\\\\\\\\\\\\\\"id\\\\\\\\\\\\\\\": \\\\\\\\\\\\\\\"8ca67063-fed4-4722-86c8-a277ae02d1c9\\\\\\\\\\\\\\\", \\\\\\\\\\\\\\\"type\\\\\\\\\\\\\\\": \\\\\\\\\\\\\\\"Microsoft.DPrep.ParseDelimitedBlock\\\\\\\\\\\\\\\", \\\\\\\\\\\\\\\"arguments\\\\\\\\\\\\\\\": {\\\\\\\\\\\\\\\"columnHeadersMode\\\\\\\\\\\\\\\": 3, \\\\\\\\\\\\\\\"fileEncoding\\\\\\\\\\\\\\\": 0, \\\\\\\\\\\\\\\"handleQuotedLineBreaks\\\\\\\\\\\\\\\": false, \\\\\\\\\\\\\\\"preview\\\\\\\\\\\\\\\": false, \\\\\\\\\\\\\\\"separator\\\\\\\\\\\\\\\": \\\\\\\\\\\\\\\",\\\\\\\\\\\\\\\", \\\\\\\\\\\\\\\"skipRows\\\\\\\\\\\\\\\": 0, \\\\\\\\\\\\\\\"skipRowsMode\\\\\\\\\\\\\\\": 0}, \\\\\\\\\\\\\\\"localData\\\\\\\\\\\\\\\": {}, \\\\\\\\\\\\\\\"isEnabled\\\\\\\\\\\\\\\": true, \\\\\\\\\\\\\\\"name\\\\\\\\\\\\\\\": null, \\\\\\\\\\\\\\\"annotation\\\\\\\\\\\\\\\": null}, {\\\\\\\\\\\\\\\"id\\\\\\\\\\\\\\\": \\\\\\\\\\\\\\\"970ad860-7407-4788-a673-4f47a5bc5840\\\\\\\\\\\\\\\", \\\\\\\\\\\\\\\"type\\\\\\\\\\\\\\\": \\\\\\\\\\\\\\\"Microsoft.DPrep.DropColumnsBlock\\\\\\\\\\\\\\\", \\\\\\\\\\\\\\\"arguments\\\\\\\\\\\\\\\": {\\\\\\\\\\\\\\\"columns\\\\\\\\\\\\\\\": {\\\\\\\\\\\\\\\"type\\\\\\\\\\\\\\\": 0, \\\\\\\\\\\\\\\"details\\\\\\\\\\\\\\\": {\\\\\\\\\\\\\\\"selectedColumns\\\\\\\\\\\\\\\": [\\\\\\\\\\\\\\\"Path\\\\\\\\\\\\\\\"]}}}, \\\\\\\\\\\\\\\"localData\\\\\\\\\\\\\\\": {}, \\\\\\\\\\\\\\\"isEnabled\\\\\\\\\\\\\\\": true, \\\\\\\\\\\\\\\"name\\\\\\\\\\\\\\\": null, \\\\\\\\\\\\\\\"annotation\\\\\\\\\\\\\\\": null}, {\\\\\\\\\\\\\\\"id\\\\\\\\\\\\\\\": \\\\\\\\\\\\\\\"8e36ea8a-81d4-4bd8-b027-bf1982415c66\\\\\\\\\\\\\\\", \\\\\\\\\\\\\\\"type\\\\\\\\\\\\\\\": \\\\\\\\\\\\\\\"Microsoft.DPrep.SetColumnTypesBlock\\\\\\\\\\\\\\\", \\\\\\\\\\\\\\\"arguments\\\\\\\\\\\\\\\": {\\\\\\\\\\\\\\\"columnConversion\\\\\\\\\\\\\\\": [{\\\\\\\\\\\\\\\"column\\\\\\\\\\\\\\\": {\\\\\\\\\\\\\\\"type\\\\\\\\\\\\\\\": 2, \\\\\\\\\\\\\\\"details\\\\\\\\\\\\\\\": {\\\\\\\\\\\\\\\"selectedColumn\\\\\\\\\\\\\\\": \\\\\\\\\\\\\\\"age\\\\\\\\\\\\\\\"}}, \\\\\\\\\\\\\\\"typeProperty\\\\\\\\\\\\\\\": 2}, {\\\\\\\\\\\\\\\"column\\\\\\\\\\\\\\\": {\\\\\\\\\\\\\\\"type\\\\\\\\\\\\\\\": 2, \\\\\\\\\\\\\\\"details\\\\\\\\\\\\\\\": {\\\\\\\\\\\\\\\"selectedColumn\\\\\\\\\\\\\\\": \\\\\\\\\\\\\\\"job\\\\\\\\\\\\\\\"}}, \\\\\\\\\\\\\\\"typeProperty\\\\\\\\\\\\\\\": 0}, {\\\\\\\\\\\\\\\"column\\\\\\\\\\\\\\\": {\\\\\\\\\\\\\\\"type\\\\\\\\\\\\\\\": 2, \\\\\\\\\\\\\\\"details\\\\\\\\\\\\\\\": {\\\\\\\\\\\\\\\"selectedColumn\\\\\\\\\\\\\\\": \\\\\\\\\\\\\\\"marital\\\\\\\\\\\\\\\"}}, \\\\\\\\\\\\\\\"typeProperty\\\\\\\\\\\\\\\": 0}, {\\\\\\\\\\\\\\\"column\\\\\\\\\\\\\\\": {\\\\\\\\\\\\\\\"type\\\\\\\\\\\\\\\": 2, \\\\\\\\\\\\\\\"details\\\\\\\\\\\\\\\": {\\\\\\\\\\\\\\\"selectedColumn\\\\\\\\\\\\\\\": \\\\\\\\\\\\\\\"education\\\\\\\\\\\\\\\"}}, \\\\\\\\\\\\\\\"typeProperty\\\\\\\\\\\\\\\": 0}, {\\\\\\\\\\\\\\\"column\\\\\\\\\\\\\\\": {\\\\\\\\\\\\\\\"type\\\\\\\\\\\\\\\": 2, \\\\\\\\\\\\\\\"details\\\\\\\\\\\\\\\": {\\\\\\\\\\\\\\\"selectedColumn\\\\\\\\\\\\\\\": \\\\\\\\\\\\\\\"default\\\\\\\\\\\\\\\"}}, \\\\\\\\\\\\\\\"typeProperty\\\\\\\\\\\\\\\": 0}, {\\\\\\\\\\\\\\\"column\\\\\\\\\\\\\\\": {\\\\\\\\\\\\\\\"type\\\\\\\\\\\\\\\": 2, \\\\\\\\\\\\\\\"details\\\\\\\\\\\\\\\": {\\\\\\\\\\\\\\\"selectedColumn\\\\\\\\\\\\\\\": \\\\\\\\\\\\\\\"housing\\\\\\\\\\\\\\\"}}, \\\\\\\\\\\\\\\"typeProperty\\\\\\\\\\\\\\\": 0}, {\\\\\\\\\\\\\\\"column\\\\\\\\\\\\\\\": {\\\\\\\\\\\\\\\"type\\\\\\\\\\\\\\\": 2, \\\\\\\\\\\\\\\"details\\\\\\\\\\\\\\\": {\\\\\\\\\\\\\\\"selectedColumn\\\\\\\\\\\\\\\": \\\\\\\\\\\\\\\"loan\\\\\\\\\\\\\\\"}}, \\\\\\\\\\\\\\\"typeProperty\\\\\\\\\\\\\\\": 0}, {\\\\\\\\\\\\\\\"column\\\\\\\\\\\\\\\": {\\\\\\\\\\\\\\\"type\\\\\\\\\\\\\\\": 2, \\\\\\\\\\\\\\\"details\\\\\\\\\\\\\\\": {\\\\\\\\\\\\\\\"selectedColumn\\\\\\\\\\\\\\\": \\\\\\\\\\\\\\\"contact\\\\\\\\\\\\\\\"}}, \\\\\\\\\\\\\\\"typeProperty\\\\\\\\\\\\\\\": 0}, {\\\\\\\\\\\\\\\"column\\\\\\\\\\\\\\\": {\\\\\\\\\\\\\\\"type\\\\\\\\\\\\\\\": 2, \\\\\\\\\\\\\\\"details\\\\\\\\\\\\\\\": {\\\\\\\\\\\\\\\"selectedColumn\\\\\\\\\\\\\\\": \\\\\\\\\\\\\\\"month\\\\\\\\\\\\\\\"}}, \\\\\\\\\\\\\\\"typeProperty\\\\\\\\\\\\\\\": 0}, {\\\\\\\\\\\\\\\"column\\\\\\\\\\\\\\\": {\\\\\\\\\\\\\\\"type\\\\\\\\\\\\\\\": 2, \\\\\\\\\\\\\\\"details\\\\\\\\\\\\\\\": {\\\\\\\\\\\\\\\"selectedColumn\\\\\\\\\\\\\\\": \\\\\\\\\\\\\\\"day_of_week\\\\\\\\\\\\\\\"}}, \\\\\\\\\\\\\\\"typeProperty\\\\\\\\\\\\\\\": 0}, {\\\\\\\\\\\\\\\"column\\\\\\\\\\\\\\\": {\\\\\\\\\\\\\\\"type\\\\\\\\\\\\\\\": 2, \\\\\\\\\\\\\\\"details\\\\\\\\\\\\\\\": {\\\\\\\\\\\\\\\"selectedColumn\\\\\\\\\\\\\\\": \\\\\\\\\\\\\\\"duration\\\\\\\\\\\\\\\"}}, \\\\\\\\\\\\\\\"typeProperty\\\\\\\\\\\\\\\": 2}, {\\\\\\\\\\\\\\\"column\\\\\\\\\\\\\\\": {\\\\\\\\\\\\\\\"type\\\\\\\\\\\\\\\": 2, \\\\\\\\\\\\\\\"details\\\\\\\\\\\\\\\": {\\\\\\\\\\\\\\\"selectedColumn\\\\\\\\\\\\\\\": \\\\\\\\\\\\\\\"campaign\\\\\\\\\\\\\\\"}}, \\\\\\\\\\\\\\\"typeProperty\\\\\\\\\\\\\\\": 2}, {\\\\\\\\\\\\\\\"column\\\\\\\\\\\\\\\": {\\\\\\\\\\\\\\\"type\\\\\\\\\\\\\\\": 2, \\\\\\\\\\\\\\\"details\\\\\\\\\\\\\\\": {\\\\\\\\\\\\\\\"selectedColumn\\\\\\\\\\\\\\\": \\\\\\\\\\\\\\\"pdays\\\\\\\\\\\\\\\"}}, \\\\\\\\\\\\\\\"typeProperty\\\\\\\\\\\\\\\": 2}, {\\\\\\\\\\\\\\\"column\\\\\\\\\\\\\\\": {\\\\\\\\\\\\\\\"type\\\\\\\\\\\\\\\": 2, \\\\\\\\\\\\\\\"details\\\\\\\\\\\\\\\": {\\\\\\\\\\\\\\\"selectedColumn\\\\\\\\\\\\\\\": \\\\\\\\\\\\\\\"previous\\\\\\\\\\\\\\\"}}, \\\\\\\\\\\\\\\"typeProperty\\\\\\\\\\\\\\\": 2}, {\\\\\\\\\\\\\\\"column\\\\\\\\\\\\\\\": {\\\\\\\\\\\\\\\"type\\\\\\\\\\\\\\\": 2, \\\\\\\\\\\\\\\"details\\\\\\\\\\\\\\\": {\\\\\\\\\\\\\\\"selectedColumn\\\\\\\\\\\\\\\": \\\\\\\\\\\\\\\"poutcome\\\\\\\\\\\\\\\"}}, \\\\\\\\\\\\\\\"typeProperty\\\\\\\\\\\\\\\": 0}, {\\\\\\\\\\\\\\\"column\\\\\\\\\\\\\\\": {\\\\\\\\\\\\\\\"type\\\\\\\\\\\\\\\": 2, \\\\\\\\\\\\\\\"details\\\\\\\\\\\\\\\": {\\\\\\\\\\\\\\\"selectedColumn\\\\\\\\\\\\\\\": \\\\\\\\\\\\\\\"emp.var.rate\\\\\\\\\\\\\\\"}}, \\\\\\\\\\\\\\\"typeProperty\\\\\\\\\\\\\\\": 3}, {\\\\\\\\\\\\\\\"column\\\\\\\\\\\\\\\": {\\\\\\\\\\\\\\\"type\\\\\\\\\\\\\\\": 2, \\\\\\\\\\\\\\\"details\\\\\\\\\\\\\\\": {\\\\\\\\\\\\\\\"selectedColumn\\\\\\\\\\\\\\\": \\\\\\\\\\\\\\\"cons.price.idx\\\\\\\\\\\\\\\"}}, \\\\\\\\\\\\\\\"typeProperty\\\\\\\\\\\\\\\": 3}, {\\\\\\\\\\\\\\\"column\\\\\\\\\\\\\\\": {\\\\\\\\\\\\\\\"type\\\\\\\\\\\\\\\": 2, \\\\\\\\\\\\\\\"details\\\\\\\\\\\\\\\": {\\\\\\\\\\\\\\\"selectedColumn\\\\\\\\\\\\\\\": \\\\\\\\\\\\\\\"cons.conf.idx\\\\\\\\\\\\\\\"}}, \\\\\\\\\\\\\\\"typeProperty\\\\\\\\\\\\\\\": 3}, {\\\\\\\\\\\\\\\"column\\\\\\\\\\\\\\\": {\\\\\\\\\\\\\\\"type\\\\\\\\\\\\\\\": 2, \\\\\\\\\\\\\\\"details\\\\\\\\\\\\\\\": {\\\\\\\\\\\\\\\"selectedColumn\\\\\\\\\\\\\\\": \\\\\\\\\\\\\\\"euribor3m\\\\\\\\\\\\\\\"}}, \\\\\\\\\\\\\\\"typeProperty\\\\\\\\\\\\\\\": 3}, {\\\\\\\\\\\\\\\"column\\\\\\\\\\\\\\\": {\\\\\\\\\\\\\\\"type\\\\\\\\\\\\\\\": 2, \\\\\\\\\\\\\\\"details\\\\\\\\\\\\\\\": {\\\\\\\\\\\\\\\"selectedColumn\\\\\\\\\\\\\\\": \\\\\\\\\\\\\\\"nr.employed\\\\\\\\\\\\\\\"}}, \\\\\\\\\\\\\\\"typeProperty\\\\\\\\\\\\\\\": 3}, {\\\\\\\\\\\\\\\"column\\\\\\\\\\\\\\\": {\\\\\\\\\\\\\\\"type\\\\\\\\\\\\\\\": 2, \\\\\\\\\\\\\\\"details\\\\\\\\\\\\\\\": {\\\\\\\\\\\\\\\"selectedColumn\\\\\\\\\\\\\\\": \\\\\\\\\\\\\\\"y\\\\\\\\\\\\\\\"}}, \\\\\\\\\\\\\\\"typeProperty\\\\\\\\\\\\\\\": 0}]}, \\\\\\\\\\\\\\\"localData\\\\\\\\\\\\\\\": {}, \\\\\\\\\\\\\\\"isEnabled\\\\\\\\\\\\\\\": true, \\\\\\\\\\\\\\\"name\\\\\\\\\\\\\\\": null, \\\\\\\\\\\\\\\"annotation\\\\\\\\\\\\\\\": null}], \\\\\\\\\\\\\\\"inspectors\\\\\\\\\\\\\\\": [], \\\\\\\\\\\\\\\"meta\\\\\\\\\\\\\\\": {\\\\\\\\\\\\\\\"steps_added\\\\\\\\\\\\\\\": \\\\\\\\\\\\\\\"4\\\\\\\\\\\\\\\"}}\\\\\\\", \\\\\\\"activities\\\\\\\": 0}\", \"EnableSubsampling\": null, \"runTemplate\": \"AutoML\", \"azureml.runsource\": \"automl\", \"display_task_type\": \"classification\", \"dependencies_versions\": \"{\\\"azureml-widgets\\\": \\\"1.19.0\\\", \\\"azureml-train\\\": \\\"1.19.0\\\", \\\"azureml-train-restclients-hyperdrive\\\": \\\"1.19.0\\\", \\\"azureml-train-core\\\": \\\"1.19.0\\\", \\\"azureml-train-automl\\\": \\\"1.19.0\\\", \\\"azureml-train-automl-runtime\\\": \\\"1.19.0\\\", \\\"azureml-train-automl-client\\\": \\\"1.19.0\\\", \\\"azureml-tensorboard\\\": \\\"1.19.0\\\", \\\"azureml-telemetry\\\": \\\"1.19.0\\\", \\\"azureml-sdk\\\": \\\"1.19.0\\\", \\\"azureml-samples\\\": \\\"0+unknown\\\", \\\"azureml-pipeline\\\": \\\"1.19.0\\\", \\\"azureml-pipeline-steps\\\": \\\"1.19.0\\\", \\\"azureml-pipeline-core\\\": \\\"1.19.0\\\", \\\"azureml-opendatasets\\\": \\\"1.19.0\\\", \\\"azureml-model-management-sdk\\\": \\\"1.0.1b6.post1\\\", \\\"azureml-mlflow\\\": \\\"1.19.0\\\", \\\"azureml-interpret\\\": \\\"1.19.0\\\", \\\"azureml-explain-model\\\": \\\"1.19.0\\\", \\\"azureml-defaults\\\": \\\"1.19.0\\\", \\\"azureml-dataset-runtime\\\": \\\"1.19.0\\\", \\\"azureml-dataprep\\\": \\\"2.6.1\\\", \\\"azureml-dataprep-rslex\\\": \\\"1.4.0\\\", \\\"azureml-dataprep-native\\\": \\\"26.0.0\\\", \\\"azureml-datadrift\\\": \\\"1.19.0\\\", \\\"azureml-core\\\": \\\"1.19.0\\\", \\\"azureml-contrib-services\\\": \\\"1.19.0\\\", \\\"azureml-contrib-server\\\": \\\"1.19.0\\\", \\\"azureml-contrib-reinforcementlearning\\\": \\\"1.19.0\\\", \\\"azureml-contrib-pipeline-steps\\\": \\\"1.19.0\\\", \\\"azureml-contrib-notebook\\\": \\\"1.19.0\\\", \\\"azureml-contrib-interpret\\\": \\\"1.19.0\\\", \\\"azureml-contrib-gbdt\\\": \\\"1.19.0\\\", \\\"azureml-contrib-fairness\\\": \\\"1.19.0\\\", \\\"azureml-contrib-dataset\\\": \\\"1.19.0\\\", \\\"azureml-cli-common\\\": \\\"1.19.0\\\", \\\"azureml-automl-runtime\\\": \\\"1.19.0\\\", \\\"azureml-automl-core\\\": \\\"1.19.0\\\", \\\"azureml-accel-models\\\": \\\"1.19.0\\\"}\", \"_aml_system_scenario_identification\": \"Remote.Parent\", \"ClientType\": \"SDK\", \"environment_cpu_name\": \"AzureML-AutoML\", \"environment_cpu_label\": \"prod\", \"environment_gpu_name\": \"AzureML-AutoML-GPU\", \"environment_gpu_label\": \"prod\", \"root_attribution\": \"automl\", \"attribution\": \"AutoML\", \"Orchestrator\": \"AutoML\", \"CancelUri\": \"https://southcentralus.experiments.azureml.net/jasmine/v1.0/subscriptions/f9d5a085-54dc-4215-9ba6-dad5d86e60a0/resourceGroups/aml-quickstarts-132158/providers/Microsoft.MachineLearningServices/workspaces/quick-starts-ws-132158/experimentids/fedbc88a-7502-4d1b-a694-fc67d0f3dbeb/cancel/AutoML_b2145a47-7069-4953-b04e-1bb07ac959b6\", \"ClientSdkVersion\": \"1.19.0\", \"snapshotId\": \"00000000-0000-0000-0000-000000000000\", \"SetupRunId\": \"AutoML_b2145a47-7069-4953-b04e-1bb07ac959b6_setup\", \"SetupRunContainerId\": \"dcid.AutoML_b2145a47-7069-4953-b04e-1bb07ac959b6_setup\", \"FeaturizationRunJsonPath\": \"featurizer_container.json\", \"FeaturizationRunId\": \"AutoML_b2145a47-7069-4953-b04e-1bb07ac959b6_featurize\", \"ProblemInfoJsonString\": \"{\\\"dataset_num_categorical\\\": 0, \\\"is_sparse\\\": true, \\\"subsampling\\\": false, \\\"dataset_classes\\\": 2, \\\"dataset_features\\\": 132, \\\"dataset_samples\\\": 29655, \\\"single_frequency_class_detected\\\": false}\", \"ModelExplainRunId\": \"AutoML_b2145a47-7069-4953-b04e-1bb07ac959b6_ModelExplain\"}, \"tags\": {\"model_explain_run\": \"best_run\", \"_aml_system_azureml.automlComponent\": \"AutoML\", \"pipeline_id\": \"\", \"score\": \"\", \"predicted_cost\": \"\", \"fit_time\": \"\", \"training_percent\": \"\", \"iteration\": \"\", \"run_preprocessor\": \"\", \"run_algorithm\": \"\", \"dynamic_whitelisting_iterations\": \"<25>;<30>;<35>;<40>;\", \"automl_best_child_run_id\": \"AutoML_b2145a47-7069-4953-b04e-1bb07ac959b6_41\", \"model_explain_best_run_child_id\": \"AutoML_b2145a47-7069-4953-b04e-1bb07ac959b6_41\"}, \"end_time_utc\": \"2020-12-28T13:50:01.553837Z\", \"status\": \"Completed\", \"log_files\": {}, \"log_groups\": [], \"run_duration\": \"0:17:27\"}, \"child_runs\": [{\"run_id\": \"AutoML_b2145a47-7069-4953-b04e-1bb07ac959b6_0\", \"run_number\": 5, \"metric\": null, \"status\": \"Completed\", \"run_type\": \"azureml.scriptrun\", \"training_percent\": \"100\", \"start_time\": \"2020-12-28T13:38:06.883883Z\", \"end_time\": \"2020-12-28T13:38:47.979803Z\", \"created_time\": \"2020-12-28T13:37:55.522413Z\", \"created_time_dt\": \"2020-12-28T13:37:55.522413Z\", \"duration\": \"0:00:52\", \"iteration\": \"0\", \"goal\": \"AUC_weighted_max\", \"run_name\": \"MaxAbsScaler, LightGBM\", \"run_properties\": \"copy=True\", \"primary_metric\": 0.94504647, \"best_metric\": 0.94504647}, {\"run_id\": \"AutoML_b2145a47-7069-4953-b04e-1bb07ac959b6_1\", \"run_number\": 6, \"metric\": null, \"status\": \"Completed\", \"run_type\": \"azureml.scriptrun\", \"training_percent\": \"100\", \"start_time\": \"2020-12-28T13:38:07.548056Z\", \"end_time\": \"2020-12-28T13:38:53.25326Z\", \"created_time\": \"2020-12-28T13:37:55.545138Z\", \"created_time_dt\": \"2020-12-28T13:37:55.545138Z\", \"duration\": \"0:00:57\", \"iteration\": \"1\", \"goal\": \"AUC_weighted_max\", \"run_name\": \"MaxAbsScaler, XGBoostClassifier\", \"run_properties\": \"copy=True\", \"primary_metric\": 0.93923463, \"best_metric\": 0.94504647}, {\"run_id\": \"AutoML_b2145a47-7069-4953-b04e-1bb07ac959b6_3\", \"run_number\": 7, \"metric\": null, \"status\": \"Completed\", \"run_type\": \"azureml.scriptrun\", \"training_percent\": \"100\", \"start_time\": \"2020-12-28T13:38:07.470151Z\", \"end_time\": \"2020-12-28T13:38:56.078203Z\", \"created_time\": \"2020-12-28T13:37:55.54635Z\", \"created_time_dt\": \"2020-12-28T13:37:55.54635Z\", \"duration\": \"0:01:00\", \"iteration\": \"3\", \"goal\": \"AUC_weighted_max\", \"run_name\": \"MaxAbsScaler, RandomForest\", \"run_properties\": \"copy=True\", \"primary_metric\": 0.90564503, \"best_metric\": 0.94504647}, {\"run_id\": \"AutoML_b2145a47-7069-4953-b04e-1bb07ac959b6_4\", \"run_number\": 8, \"metric\": null, \"status\": \"Completed\", \"run_type\": \"azureml.scriptrun\", \"training_percent\": \"100\", \"start_time\": \"2020-12-28T13:38:07.677369Z\", \"end_time\": \"2020-12-28T13:38:53.406762Z\", \"created_time\": \"2020-12-28T13:37:55.576686Z\", \"created_time_dt\": \"2020-12-28T13:37:55.576686Z\", \"duration\": \"0:00:57\", \"iteration\": \"4\", \"goal\": \"AUC_weighted_max\", \"run_name\": \"MaxAbsScaler, RandomForest\", \"run_properties\": \"copy=True\", \"primary_metric\": 0.88433714, \"best_metric\": 0.94504647}, {\"run_id\": \"AutoML_b2145a47-7069-4953-b04e-1bb07ac959b6_2\", \"run_number\": 9, \"metric\": null, \"status\": \"Completed\", \"run_type\": \"azureml.scriptrun\", \"training_percent\": \"100\", \"start_time\": \"2020-12-28T13:38:08.937991Z\", \"end_time\": \"2020-12-28T13:38:46.255959Z\", \"created_time\": \"2020-12-28T13:37:55.550661Z\", \"created_time_dt\": \"2020-12-28T13:37:55.550661Z\", \"duration\": \"0:00:50\", \"iteration\": \"2\", \"goal\": \"AUC_weighted_max\", \"run_name\": \"MaxAbsScaler, RandomForest\", \"run_properties\": \"copy=True\", \"primary_metric\": 0.89920802, \"best_metric\": 0.94504647}, {\"run_id\": \"AutoML_b2145a47-7069-4953-b04e-1bb07ac959b6_5\", \"run_number\": 10, \"metric\": null, \"status\": \"Completed\", \"run_type\": \"azureml.scriptrun\", \"training_percent\": \"100\", \"start_time\": \"2020-12-28T13:39:06.037859Z\", \"end_time\": \"2020-12-28T13:39:44.322628Z\", \"created_time\": \"2020-12-28T13:38:49.170751Z\", \"created_time_dt\": \"2020-12-28T13:38:49.170751Z\", \"duration\": \"0:00:55\", \"iteration\": \"5\", \"goal\": \"AUC_weighted_max\", \"run_name\": \"MaxAbsScaler, ExtremeRandomTrees\", \"run_properties\": \"copy=True\", \"primary_metric\": 0.89615391, \"best_metric\": 0.94504647}, {\"run_id\": \"AutoML_b2145a47-7069-4953-b04e-1bb07ac959b6_6\", \"run_number\": 11, \"metric\": null, \"status\": \"Completed\", \"run_type\": \"azureml.scriptrun\", \"training_percent\": \"100\", \"start_time\": \"2020-12-28T13:39:09.115589Z\", \"end_time\": \"2020-12-28T13:39:51.944368Z\", \"created_time\": \"2020-12-28T13:38:56.575282Z\", \"created_time_dt\": \"2020-12-28T13:38:56.575282Z\", \"duration\": \"0:00:55\", \"iteration\": \"6\", \"goal\": \"AUC_weighted_max\", \"run_name\": \"MaxAbsScaler, ExtremeRandomTrees\", \"run_properties\": \"copy=True\", \"primary_metric\": 0.87931812, \"best_metric\": 0.94504647}, {\"run_id\": \"AutoML_b2145a47-7069-4953-b04e-1bb07ac959b6_9\", \"run_number\": 12, \"metric\": null, \"status\": \"Completed\", \"run_type\": \"azureml.scriptrun\", \"training_percent\": \"100\", \"start_time\": \"2020-12-28T13:39:13.645936Z\", \"end_time\": \"2020-12-28T13:39:48.758391Z\", \"created_time\": \"2020-12-28T13:39:01.902172Z\", \"created_time_dt\": \"2020-12-28T13:39:01.902172Z\", \"duration\": \"0:00:46\", \"iteration\": \"9\", \"goal\": \"AUC_weighted_max\", \"run_name\": \"MaxAbsScaler, ExtremeRandomTrees\", \"run_properties\": \"copy=True\", \"primary_metric\": 0.81743207, \"best_metric\": 0.94504647}, {\"run_id\": \"AutoML_b2145a47-7069-4953-b04e-1bb07ac959b6_7\", \"run_number\": 13, \"metric\": null, \"status\": \"Completed\", \"run_type\": \"azureml.scriptrun\", \"training_percent\": \"100\", \"start_time\": \"2020-12-28T13:39:12.322918Z\", \"end_time\": \"2020-12-28T13:39:45.867164Z\", \"created_time\": \"2020-12-28T13:39:01.904971Z\", \"created_time_dt\": \"2020-12-28T13:39:01.904971Z\", \"duration\": \"0:00:43\", \"iteration\": \"7\", \"goal\": \"AUC_weighted_max\", \"run_name\": \"MaxAbsScaler, ExtremeRandomTrees\", \"run_properties\": \"copy=True\", \"primary_metric\": 0.83430352, \"best_metric\": 0.94504647}, {\"run_id\": \"AutoML_b2145a47-7069-4953-b04e-1bb07ac959b6_8\", \"run_number\": 14, \"metric\": null, \"status\": \"Completed\", \"run_type\": \"azureml.scriptrun\", \"training_percent\": \"100\", \"start_time\": \"2020-12-28T13:39:14.629844Z\", \"end_time\": \"2020-12-28T13:39:52.992083Z\", \"created_time\": \"2020-12-28T13:39:01.904526Z\", \"created_time_dt\": \"2020-12-28T13:39:01.904526Z\", \"duration\": \"0:00:51\", \"iteration\": \"8\", \"goal\": \"AUC_weighted_max\", \"run_name\": \"MaxAbsScaler, RandomForest\", \"run_properties\": \"copy=True\", \"primary_metric\": 0.85765689, \"best_metric\": 0.94504647}, {\"run_id\": \"AutoML_b2145a47-7069-4953-b04e-1bb07ac959b6_10\", \"run_number\": 15, \"metric\": null, \"status\": \"Completed\", \"run_type\": \"azureml.scriptrun\", \"training_percent\": \"100\", \"start_time\": \"2020-12-28T13:39:59.019992Z\", \"end_time\": \"2020-12-28T13:40:42.233844Z\", \"created_time\": \"2020-12-28T13:39:47.136143Z\", \"created_time_dt\": \"2020-12-28T13:39:47.136143Z\", \"duration\": \"0:00:55\", \"iteration\": \"10\", \"goal\": \"AUC_weighted_max\", \"run_name\": \"MaxAbsScaler, RandomForest\", \"run_properties\": \"copy=True\", \"primary_metric\": 0.8570683, \"best_metric\": 0.94504647}, {\"run_id\": \"AutoML_b2145a47-7069-4953-b04e-1bb07ac959b6_11\", \"run_number\": 16, \"metric\": null, \"status\": \"Completed\", \"run_type\": \"azureml.scriptrun\", \"training_percent\": \"100\", \"start_time\": \"2020-12-28T13:40:02.553157Z\", \"end_time\": \"2020-12-28T13:40:44.362942Z\", \"created_time\": \"2020-12-28T13:39:51.356243Z\", \"created_time_dt\": \"2020-12-28T13:39:51.356243Z\", \"duration\": \"0:00:53\", \"iteration\": \"11\", \"goal\": \"AUC_weighted_max\", \"run_name\": \"MaxAbsScaler, RandomForest\", \"run_properties\": \"copy=True\", \"primary_metric\": 0.89146601, \"best_metric\": 0.94504647}, {\"run_id\": \"AutoML_b2145a47-7069-4953-b04e-1bb07ac959b6_12\", \"run_number\": 17, \"metric\": null, \"status\": \"Completed\", \"run_type\": \"azureml.scriptrun\", \"training_percent\": \"100\", \"start_time\": \"2020-12-28T13:40:02.495884Z\", \"end_time\": \"2020-12-28T13:40:47.132563Z\", \"created_time\": \"2020-12-28T13:39:51.367257Z\", \"created_time_dt\": \"2020-12-28T13:39:51.367257Z\", \"duration\": \"0:00:55\", \"iteration\": \"12\", \"goal\": \"AUC_weighted_max\", \"run_name\": \"MaxAbsScaler, RandomForest\", \"run_properties\": \"copy=True\", \"primary_metric\": 0.87103522, \"best_metric\": 0.94504647}, {\"run_id\": \"AutoML_b2145a47-7069-4953-b04e-1bb07ac959b6_14\", \"run_number\": 18, \"metric\": null, \"status\": \"Completed\", \"run_type\": \"azureml.scriptrun\", \"training_percent\": \"100\", \"start_time\": \"2020-12-28T13:40:07.639065Z\", \"end_time\": \"2020-12-28T13:40:50.382085Z\", \"created_time\": \"2020-12-28T13:39:56.645744Z\", \"created_time_dt\": \"2020-12-28T13:39:56.645744Z\", \"duration\": \"0:00:53\", \"iteration\": \"14\", \"goal\": \"AUC_weighted_max\", \"run_name\": \"MaxAbsScaler, RandomForest\", \"run_properties\": \"copy=True\", \"primary_metric\": 0.90046763, \"best_metric\": 0.94504647}, {\"run_id\": \"AutoML_b2145a47-7069-4953-b04e-1bb07ac959b6_13\", \"run_number\": 19, \"metric\": null, \"status\": \"Completed\", \"run_type\": \"azureml.scriptrun\", \"training_percent\": \"100\", \"start_time\": \"2020-12-28T13:40:10.06149Z\", \"end_time\": \"2020-12-28T13:40:50.138761Z\", \"created_time\": \"2020-12-28T13:39:56.642714Z\", \"created_time_dt\": \"2020-12-28T13:39:56.642714Z\", \"duration\": \"0:00:53\", \"iteration\": \"13\", \"goal\": \"AUC_weighted_max\", \"run_name\": \"StandardScalerWrapper, XGBoostClassifier\", \"run_properties\": \"<azureml.automl.runtime.shared.model_wrappers.StandardScalerWrapper object at 0x7f982c6309b0\", \"primary_metric\": 0.93088783, \"best_metric\": 0.94504647}, {\"run_id\": \"AutoML_b2145a47-7069-4953-b04e-1bb07ac959b6_15\", \"run_number\": 20, \"metric\": null, \"status\": \"Completed\", \"run_type\": \"azureml.scriptrun\", \"training_percent\": \"100\", \"start_time\": \"2020-12-28T13:40:58.85599Z\", \"end_time\": \"2020-12-28T13:41:46.389855Z\", \"created_time\": \"2020-12-28T13:40:45.356824Z\", \"created_time_dt\": \"2020-12-28T13:40:45.356824Z\", \"duration\": \"0:01:01\", \"iteration\": \"15\", \"goal\": \"AUC_weighted_max\", \"run_name\": \"StandardScalerWrapper, ExtremeRandomTrees\", \"run_properties\": \"<azureml.automl.runtime.shared.model_wrappers.StandardScalerWrapper object at 0x7f0f975e20b8\", \"primary_metric\": 0.88525267, \"best_metric\": 0.94504647}, {\"run_id\": \"AutoML_b2145a47-7069-4953-b04e-1bb07ac959b6_16\", \"run_number\": 21, \"metric\": null, \"status\": \"Completed\", \"run_type\": \"azureml.scriptrun\", \"training_percent\": \"100\", \"start_time\": \"2020-12-28T13:41:02.72027Z\", \"end_time\": \"2020-12-28T13:41:41.728472Z\", \"created_time\": \"2020-12-28T13:40:52.227866Z\", \"created_time_dt\": \"2020-12-28T13:40:52.227866Z\", \"duration\": \"0:00:49\", \"iteration\": \"16\", \"goal\": \"AUC_weighted_max\", \"run_name\": \"MaxAbsScaler, ExtremeRandomTrees\", \"run_properties\": \"copy=True\", \"primary_metric\": 0.86199006, \"best_metric\": 0.94504647}, {\"run_id\": \"AutoML_b2145a47-7069-4953-b04e-1bb07ac959b6_17\", \"run_number\": 22, \"metric\": null, \"status\": \"Completed\", \"run_type\": \"azureml.scriptrun\", \"training_percent\": \"100\", \"start_time\": \"2020-12-28T13:41:02.88122Z\", \"end_time\": \"2020-12-28T13:41:44.639488Z\", \"created_time\": \"2020-12-28T13:40:52.302643Z\", \"created_time_dt\": \"2020-12-28T13:40:52.302643Z\", \"duration\": \"0:00:52\", \"iteration\": \"17\", \"goal\": \"AUC_weighted_max\", \"run_name\": \"MaxAbsScaler, ExtremeRandomTrees\", \"run_properties\": \"copy=True\", \"primary_metric\": 0.82186481, \"best_metric\": 0.94504647}, {\"run_id\": \"AutoML_b2145a47-7069-4953-b04e-1bb07ac959b6_19\", \"run_number\": 23, \"metric\": null, \"status\": \"Completed\", \"run_type\": \"azureml.scriptrun\", \"training_percent\": \"100\", \"start_time\": \"2020-12-28T13:41:07.211969Z\", \"end_time\": \"2020-12-28T13:41:48.943412Z\", \"created_time\": \"2020-12-28T13:40:57.304298Z\", \"created_time_dt\": \"2020-12-28T13:40:57.304298Z\", \"duration\": \"0:00:51\", \"iteration\": \"19\", \"goal\": \"AUC_weighted_max\", \"run_name\": \"StandardScalerWrapper, XGBoostClassifier\", \"run_properties\": \"<azureml.automl.runtime.shared.model_wrappers.StandardScalerWrapper object at 0x7f7be85fa080\", \"primary_metric\": 0.94245129, \"best_metric\": 0.94504647}, {\"run_id\": \"AutoML_b2145a47-7069-4953-b04e-1bb07ac959b6_18\", \"run_number\": 24, \"metric\": null, \"status\": \"Completed\", \"run_type\": \"azureml.scriptrun\", \"training_percent\": \"100\", \"start_time\": \"2020-12-28T13:41:07.406414Z\", \"end_time\": \"2020-12-28T13:41:40.949704Z\", \"created_time\": \"2020-12-28T13:40:57.335919Z\", \"created_time_dt\": \"2020-12-28T13:40:57.335919Z\", \"duration\": \"0:00:43\", \"iteration\": \"18\", \"goal\": \"AUC_weighted_max\", \"run_name\": \"MaxAbsScaler, RandomForest\", \"run_properties\": \"copy=True\", \"primary_metric\": 0.8950712, \"best_metric\": 0.94504647}, {\"run_id\": \"AutoML_b2145a47-7069-4953-b04e-1bb07ac959b6_20\", \"run_number\": 25, \"metric\": null, \"status\": \"Completed\", \"run_type\": \"azureml.scriptrun\", \"training_percent\": \"100\", \"start_time\": \"2020-12-28T13:41:59.732678Z\", \"end_time\": \"2020-12-28T13:43:22.450713Z\", \"created_time\": \"2020-12-28T13:41:43.555783Z\", \"created_time_dt\": \"2020-12-28T13:41:43.555783Z\", \"duration\": \"0:01:38\", \"iteration\": \"20\", \"goal\": \"AUC_weighted_max\", \"run_name\": \"SparseNormalizer, XGBoostClassifier\", \"run_properties\": \"<azureml.automl.runtime.shared.model_wrappers.SparseNormalizer object at 0x7f04e70d7c50\", \"primary_metric\": 0.94354234, \"best_metric\": 0.94504647}, {\"run_id\": \"AutoML_b2145a47-7069-4953-b04e-1bb07ac959b6_21\", \"run_number\": 26, \"metric\": null, \"status\": \"Completed\", \"run_type\": \"azureml.scriptrun\", \"training_percent\": \"100\", \"start_time\": \"2020-12-28T13:42:00.291811Z\", \"end_time\": \"2020-12-28T13:42:42.708167Z\", \"created_time\": \"2020-12-28T13:41:47.497289Z\", \"created_time_dt\": \"2020-12-28T13:41:47.497289Z\", \"duration\": \"0:00:55\", \"iteration\": \"21\", \"goal\": \"AUC_weighted_max\", \"run_name\": \"MaxAbsScaler, LightGBM\", \"run_properties\": \"copy=True\", \"primary_metric\": 0.94501961, \"best_metric\": 0.94504647}, {\"run_id\": \"AutoML_b2145a47-7069-4953-b04e-1bb07ac959b6_22\", \"run_number\": 27, \"metric\": null, \"status\": \"Completed\", \"run_type\": \"azureml.scriptrun\", \"training_percent\": \"100\", \"start_time\": \"2020-12-28T13:42:02.457948Z\", \"end_time\": \"2020-12-28T13:42:43.62129Z\", \"created_time\": \"2020-12-28T13:41:47.504493Z\", \"created_time_dt\": \"2020-12-28T13:41:47.504493Z\", \"duration\": \"0:00:56\", \"iteration\": \"22\", \"goal\": \"AUC_weighted_max\", \"run_name\": \"MaxAbsScaler, LightGBM\", \"run_properties\": \"copy=True\", \"primary_metric\": 0.93474401, \"best_metric\": 0.94504647}, {\"run_id\": \"AutoML_b2145a47-7069-4953-b04e-1bb07ac959b6_23\", \"run_number\": 28, \"metric\": null, \"status\": \"Completed\", \"run_type\": \"azureml.scriptrun\", \"training_percent\": \"100\", \"start_time\": \"2020-12-28T13:42:03.522548Z\", \"end_time\": \"2020-12-28T13:42:46.277863Z\", \"created_time\": \"2020-12-28T13:41:50.948316Z\", \"created_time_dt\": \"2020-12-28T13:41:50.948316Z\", \"duration\": \"0:00:55\", \"iteration\": \"23\", \"goal\": \"AUC_weighted_max\", \"run_name\": \"StandardScalerWrapper, XGBoostClassifier\", \"run_properties\": \"<azureml.automl.runtime.shared.model_wrappers.StandardScalerWrapper object at 0x7fa8e9332eb8\", \"primary_metric\": 0.94531506, \"best_metric\": 0.94531506}, {\"run_id\": \"AutoML_b2145a47-7069-4953-b04e-1bb07ac959b6_24\", \"run_number\": 29, \"metric\": null, \"status\": \"Completed\", \"run_type\": \"azureml.scriptrun\", \"training_percent\": \"100\", \"start_time\": \"2020-12-28T13:42:01.118542Z\", \"end_time\": \"2020-12-28T13:42:42.836983Z\", \"created_time\": \"2020-12-28T13:41:50.949465Z\", \"created_time_dt\": \"2020-12-28T13:41:50.949465Z\", \"duration\": \"0:00:51\", \"iteration\": \"24\", \"goal\": \"AUC_weighted_max\", \"run_name\": \"StandardScalerWrapper, XGBoostClassifier\", \"run_properties\": \"<azureml.automl.runtime.shared.model_wrappers.StandardScalerWrapper object at 0x7f895ed6bd68\", \"primary_metric\": 0.94231143, \"best_metric\": 0.94531506}, {\"run_id\": \"AutoML_b2145a47-7069-4953-b04e-1bb07ac959b6_25\", \"run_number\": 30, \"metric\": null, \"status\": \"Completed\", \"run_type\": \"azureml.scriptrun\", \"training_percent\": \"100\", \"start_time\": \"2020-12-28T13:43:01.530021Z\", \"end_time\": \"2020-12-28T13:43:40.122082Z\", \"created_time\": \"2020-12-28T13:42:45.651538Z\", \"created_time_dt\": \"2020-12-28T13:42:45.651538Z\", \"duration\": \"0:00:54\", \"iteration\": \"25\", \"goal\": \"AUC_weighted_max\", \"run_name\": \"MaxAbsScaler, LightGBM\", \"run_properties\": \"copy=True\", \"primary_metric\": 0.93437446, \"best_metric\": 0.94531506}, {\"run_id\": \"AutoML_b2145a47-7069-4953-b04e-1bb07ac959b6_26\", \"run_number\": 31, \"metric\": null, \"status\": \"Completed\", \"run_type\": \"azureml.scriptrun\", \"training_percent\": \"100\", \"start_time\": \"2020-12-28T13:43:01.523885Z\", \"end_time\": \"2020-12-28T13:43:47.774925Z\", \"created_time\": \"2020-12-28T13:42:45.649497Z\", \"created_time_dt\": \"2020-12-28T13:42:45.649497Z\", \"duration\": \"0:01:02\", \"iteration\": \"26\", \"goal\": \"AUC_weighted_max\", \"run_name\": \"StandardScalerWrapper, XGBoostClassifier\", \"run_properties\": \"<azureml.automl.runtime.shared.model_wrappers.StandardScalerWrapper object at 0x7f645095ef28\", \"primary_metric\": 0.94287826, \"best_metric\": 0.94531506}, {\"run_id\": \"AutoML_b2145a47-7069-4953-b04e-1bb07ac959b6_28\", \"run_number\": 32, \"metric\": null, \"status\": \"Completed\", \"run_type\": \"azureml.scriptrun\", \"training_percent\": \"100\", \"start_time\": \"2020-12-28T13:43:04.682951Z\", \"end_time\": \"2020-12-28T13:44:22.779997Z\", \"created_time\": \"2020-12-28T13:42:50.299863Z\", \"created_time_dt\": \"2020-12-28T13:42:50.299863Z\", \"duration\": \"0:01:32\", \"iteration\": \"28\", \"goal\": \"AUC_weighted_max\", \"run_name\": \"MaxAbsScaler, LightGBM\", \"run_properties\": \"copy=True\", \"primary_metric\": 0.94425458, \"best_metric\": 0.94531506}, {\"run_id\": \"AutoML_b2145a47-7069-4953-b04e-1bb07ac959b6_27\", \"run_number\": 33, \"metric\": null, \"status\": \"Completed\", \"run_type\": \"azureml.scriptrun\", \"training_percent\": \"100\", \"start_time\": \"2020-12-28T13:43:00.347556Z\", \"end_time\": \"2020-12-28T13:43:57.907074Z\", \"created_time\": \"2020-12-28T13:42:50.314489Z\", \"created_time_dt\": \"2020-12-28T13:42:50.314489Z\", \"duration\": \"0:01:07\", \"iteration\": \"27\", \"goal\": \"AUC_weighted_max\", \"run_name\": \"StandardScalerWrapper, LightGBM\", \"run_properties\": \"<azureml.automl.runtime.shared.model_wrappers.StandardScalerWrapper object at 0x7f12858d27b8\", \"primary_metric\": 0.9198949, \"best_metric\": 0.94531506}, {\"run_id\": \"AutoML_b2145a47-7069-4953-b04e-1bb07ac959b6_29\", \"run_number\": 34, \"metric\": null, \"status\": \"Completed\", \"run_type\": \"azureml.scriptrun\", \"training_percent\": \"100\", \"start_time\": \"2020-12-28T13:43:40.279198Z\", \"end_time\": \"2020-12-28T13:44:28.47771Z\", \"created_time\": \"2020-12-28T13:43:24.568486Z\", \"created_time_dt\": \"2020-12-28T13:43:24.568486Z\", \"duration\": \"0:01:03\", \"iteration\": \"29\", \"goal\": \"AUC_weighted_max\", \"run_name\": \"MaxAbsScaler, LightGBM\", \"run_properties\": \"copy=True\", \"primary_metric\": 0.93425267, \"best_metric\": 0.94531506}, {\"run_id\": \"AutoML_b2145a47-7069-4953-b04e-1bb07ac959b6_30\", \"run_number\": 35, \"metric\": null, \"status\": \"Completed\", \"run_type\": \"azureml.scriptrun\", \"training_percent\": \"100\", \"start_time\": \"2020-12-28T13:43:57.893318Z\", \"end_time\": \"2020-12-28T13:45:28.561673Z\", \"created_time\": \"2020-12-28T13:43:45.338779Z\", \"created_time_dt\": \"2020-12-28T13:43:45.338779Z\", \"duration\": \"0:01:43\", \"iteration\": \"30\", \"goal\": \"AUC_weighted_max\", \"run_name\": \"StandardScalerWrapper, XGBoostClassifier\", \"run_properties\": \"<azureml.automl.runtime.shared.model_wrappers.StandardScalerWrapper object at 0x7f34a3d97748\", \"primary_metric\": 0.94191966, \"best_metric\": 0.94531506}, {\"run_id\": \"AutoML_b2145a47-7069-4953-b04e-1bb07ac959b6_31\", \"run_number\": 36, \"metric\": null, \"status\": \"Completed\", \"run_type\": \"azureml.scriptrun\", \"training_percent\": \"100\", \"start_time\": \"2020-12-28T13:44:01.004503Z\", \"end_time\": \"2020-12-28T13:44:47.543566Z\", \"created_time\": \"2020-12-28T13:43:49.588327Z\", \"created_time_dt\": \"2020-12-28T13:43:49.588327Z\", \"duration\": \"0:00:57\", \"iteration\": \"31\", \"goal\": \"AUC_weighted_max\", \"run_name\": \"StandardScalerWrapper, LogisticRegression\", \"run_properties\": \"<azureml.automl.runtime.shared.model_wrappers.StandardScalerWrapper object at 0x7f3b719dc7f0\", \"primary_metric\": 0.92254287, \"best_metric\": 0.94531506}, {\"run_id\": \"AutoML_b2145a47-7069-4953-b04e-1bb07ac959b6_32\", \"run_number\": 37, \"metric\": null, \"status\": \"Completed\", \"run_type\": \"azureml.scriptrun\", \"training_percent\": \"100\", \"start_time\": \"2020-12-28T13:44:11.136988Z\", \"end_time\": \"2020-12-28T13:45:39.996264Z\", \"created_time\": \"2020-12-28T13:43:59.584397Z\", \"created_time_dt\": \"2020-12-28T13:43:59.584397Z\", \"duration\": \"0:01:40\", \"iteration\": \"32\", \"goal\": \"AUC_weighted_max\", \"run_name\": \"StandardScalerWrapper, XGBoostClassifier\", \"run_properties\": \"<azureml.automl.runtime.shared.model_wrappers.StandardScalerWrapper object at 0x7f11401c66d8\", \"primary_metric\": 0.94143248, \"best_metric\": 0.94531506}, {\"run_id\": \"AutoML_b2145a47-7069-4953-b04e-1bb07ac959b6_33\", \"run_number\": 38, \"metric\": null, \"status\": \"Completed\", \"run_type\": \"azureml.scriptrun\", \"training_percent\": \"100\", \"start_time\": \"2020-12-28T13:44:37.172192Z\", \"end_time\": \"2020-12-28T13:45:36.731422Z\", \"created_time\": \"2020-12-28T13:44:24.453239Z\", \"created_time_dt\": \"2020-12-28T13:44:24.453239Z\", \"duration\": \"0:01:12\", \"iteration\": \"33\", \"goal\": \"AUC_weighted_max\", \"run_name\": \"TruncatedSVDWrapper, XGBoostClassifier\", \"run_properties\": \"n_components=0.8015789473684211, random_state=None\", \"primary_metric\": 0.93366732, \"best_metric\": 0.94531506}, {\"run_id\": \"AutoML_b2145a47-7069-4953-b04e-1bb07ac959b6_34\", \"run_number\": 39, \"metric\": null, \"status\": \"Completed\", \"run_type\": \"azureml.scriptrun\", \"training_percent\": \"100\", \"start_time\": \"2020-12-28T13:44:42.081117Z\", \"end_time\": \"2020-12-28T13:45:33.723955Z\", \"created_time\": \"2020-12-28T13:44:30.074038Z\", \"created_time_dt\": \"2020-12-28T13:44:30.074038Z\", \"duration\": \"0:01:03\", \"iteration\": \"34\", \"goal\": \"AUC_weighted_max\", \"run_name\": \"StandardScalerWrapper, XGBoostClassifier\", \"run_properties\": \"<azureml.automl.runtime.shared.model_wrappers.StandardScalerWrapper object at 0x7fe2ed0534e0\", \"primary_metric\": 0.94193633, \"best_metric\": 0.94531506}, {\"run_id\": \"AutoML_b2145a47-7069-4953-b04e-1bb07ac959b6_35\", \"run_number\": 40, \"metric\": null, \"status\": \"Completed\", \"run_type\": \"azureml.scriptrun\", \"training_percent\": \"100\", \"start_time\": \"2020-12-28T13:45:04.887883Z\", \"end_time\": \"2020-12-28T13:45:57.133988Z\", \"created_time\": \"2020-12-28T13:44:50.37609Z\", \"created_time_dt\": \"2020-12-28T13:44:50.37609Z\", \"duration\": \"0:01:06\", \"iteration\": \"35\", \"goal\": \"AUC_weighted_max\", \"run_name\": \"SparseNormalizer, XGBoostClassifier\", \"run_properties\": \"<azureml.automl.runtime.shared.model_wrappers.SparseNormalizer object at 0x7f5f0477d898\", \"primary_metric\": 0.5, \"best_metric\": 0.94531506}, {\"run_id\": \"AutoML_b2145a47-7069-4953-b04e-1bb07ac959b6_36\", \"run_number\": 41, \"metric\": null, \"status\": \"Completed\", \"run_type\": \"azureml.scriptrun\", \"training_percent\": \"100\", \"start_time\": \"2020-12-28T13:45:44.098471Z\", \"end_time\": \"2020-12-28T13:46:35.358817Z\", \"created_time\": \"2020-12-28T13:45:30.246321Z\", \"created_time_dt\": \"2020-12-28T13:45:30.246321Z\", \"duration\": \"0:01:05\", \"iteration\": \"36\", \"goal\": \"AUC_weighted_max\", \"run_name\": \"StandardScalerWrapper, XGBoostClassifier\", \"run_properties\": \"<azureml.automl.runtime.shared.model_wrappers.StandardScalerWrapper object at 0x7f804c9f1710\", \"primary_metric\": 0.9403794, \"best_metric\": 0.94531506}, {\"run_id\": \"AutoML_b2145a47-7069-4953-b04e-1bb07ac959b6_37\", \"run_number\": 42, \"metric\": null, \"status\": \"Canceled\", \"run_type\": \"azureml.scriptrun\", \"training_percent\": \"100\", \"start_time\": \"2020-12-28T13:45:47.732445Z\", \"end_time\": \"2020-12-28T13:46:37.522398Z\", \"created_time\": \"2020-12-28T13:45:35.560419Z\", \"created_time_dt\": \"2020-12-28T13:45:35.560419Z\", \"duration\": \"0:01:01\", \"iteration\": \"37\", \"goal\": \"AUC_weighted_max\", \"run_name\": \"StandardScalerWrapper, LightGBM\", \"run_properties\": \"<azureml.automl.runtime.shared.model_wrappers.StandardScalerWrapper object at 0x7f74033f9898\", \"primary_metric\": 0.94347565, \"best_metric\": 0.94531506}, {\"run_id\": \"AutoML_b2145a47-7069-4953-b04e-1bb07ac959b6_38\", \"run_number\": 43, \"metric\": null, \"status\": \"Canceled\", \"run_type\": \"azureml.scriptrun\", \"training_percent\": \"100\", \"start_time\": \"2020-12-28T13:45:50.32615Z\", \"end_time\": \"2020-12-28T13:46:37.87554Z\", \"created_time\": \"2020-12-28T13:45:39.304169Z\", \"created_time_dt\": \"2020-12-28T13:45:39.304169Z\", \"duration\": \"0:00:58\", \"iteration\": \"38\", \"goal\": \"AUC_weighted_max\", \"run_name\": \"StandardScalerWrapper, XGBoostClassifier\", \"run_properties\": \"<azureml.automl.runtime.shared.model_wrappers.StandardScalerWrapper object at 0x7f2d9e55b588\", \"primary_metric\": 0.94357568, \"best_metric\": 0.94531506}, {\"run_id\": \"AutoML_b2145a47-7069-4953-b04e-1bb07ac959b6_39\", \"run_number\": 44, \"metric\": null, \"status\": \"Completed\", \"run_type\": \"azureml.scriptrun\", \"training_percent\": \"100\", \"start_time\": \"2020-12-28T13:45:55.780783Z\", \"end_time\": \"2020-12-28T13:46:36.145937Z\", \"created_time\": \"2020-12-28T13:45:43.315998Z\", \"created_time_dt\": \"2020-12-28T13:45:43.315998Z\", \"duration\": \"0:00:52\", \"iteration\": \"39\", \"goal\": \"AUC_weighted_max\", \"run_name\": \"StandardScalerWrapper, XGBoostClassifier\", \"run_properties\": \"<azureml.automl.runtime.shared.model_wrappers.StandardScalerWrapper object at 0x7f660da5c0b8\", \"primary_metric\": 0.94504925, \"best_metric\": 0.94531506}, {\"run_id\": \"AutoML_b2145a47-7069-4953-b04e-1bb07ac959b6_40\", \"run_number\": 45, \"metric\": null, \"status\": \"Canceled\", \"run_type\": \"azureml.scriptrun\", \"training_percent\": \"100\", \"start_time\": \"2020-12-28T13:46:10.797611Z\", \"end_time\": \"2020-12-28T13:46:41.780994Z\", \"created_time\": \"2020-12-28T13:45:59.922948Z\", \"created_time_dt\": \"2020-12-28T13:45:59.922948Z\", \"duration\": \"0:00:41\", \"iteration\": \"40\", \"goal\": null, \"run_name\": \"StandardScalerWrapper, XGBoostClassifier\", \"run_properties\": null}, {\"run_id\": \"AutoML_b2145a47-7069-4953-b04e-1bb07ac959b6_41\", \"run_number\": 46, \"metric\": null, \"status\": \"Completed\", \"run_type\": \"azureml.scriptrun\", \"training_percent\": \"100\", \"start_time\": \"2020-12-28T13:46:56.931456Z\", \"end_time\": \"2020-12-28T13:47:47.236618Z\", \"created_time\": \"2020-12-28T13:46:44.397536Z\", \"created_time_dt\": \"2020-12-28T13:46:44.397536Z\", \"duration\": \"0:01:02\", \"iteration\": \"41\", \"goal\": \"AUC_weighted_max\", \"run_name\": \"VotingEnsemble\", \"run_properties\": \"classification_labels=None,\\n                              estimators=[('23',\\n                                           Pipeline(memory=None,\\n                                                    steps=[('standardscalerwrapper',\\n                                                            <azureml.automl.runtime.shared.model_wrappers.StandardScalerWrapper object at 0x7fbdc8235630>\", \"primary_metric\": 0.94711372, \"best_metric\": 0.94711372}, {\"run_id\": \"AutoML_b2145a47-7069-4953-b04e-1bb07ac959b6_42\", \"run_number\": 47, \"metric\": null, \"status\": \"Completed\", \"run_type\": \"azureml.scriptrun\", \"training_percent\": \"100\", \"start_time\": \"2020-12-28T13:46:58.483054Z\", \"end_time\": \"2020-12-28T13:49:49.087268Z\", \"created_time\": \"2020-12-28T13:46:44.533289Z\", \"created_time_dt\": \"2020-12-28T13:46:44.533289Z\", \"duration\": \"0:03:04\", \"iteration\": \"42\", \"goal\": \"AUC_weighted_max\", \"run_name\": \"StackEnsemble\", \"run_properties\": \"base_learners=[('23',\\n                                        Pipeline(memory=None,\\n                                                 steps=[('standardscalerwrapper',\\n                                                         <azureml.automl.runtime.shared.model_wrappers.StandardScalerWrapper object at 0x7fc0140b47b8>\", \"primary_metric\": 0.94531599, \"best_metric\": 0.94711372}], \"children_metrics\": {\"categories\": [0], \"series\": {\"accuracy\": [{\"categories\": [\"0\", \"1\", \"2\", \"3\", \"4\", \"5\", \"6\", \"7\", \"8\", \"9\", \"10\", \"11\", \"12\", \"13\", \"14\", \"15\", \"16\", \"17\", \"18\", \"19\", \"20\", \"21\", \"22\", \"23\", \"24\", \"25\", \"26\", \"27\", \"28\", \"29\", \"30\", \"31\", \"32\", \"33\", \"34\", \"35\", \"36\", \"37\", \"38\", \"39\", \"41\", \"42\"], \"mode\": \"markers\", \"name\": \"accuracy\", \"stepped\": false, \"type\": \"scatter\", \"data\": [0.9116843702579667, 0.9071320182094081, 0.8925644916540213, 0.790288315629742, 0.8880121396054628, 0.8977238239757208, 0.8992412746585736, 0.8919575113808801, 0.8880121396054628, 0.7156297420333839, 0.7074355083459788, 0.7402124430955994, 0.7687405159332321, 0.9062215477996965, 0.8934749620637329, 0.8880121396054628, 0.7893778452200303, 0.7468892261001517, 0.7490136570561456, 0.9125948406676783, 0.9128983308042489, 0.9153262518968134, 0.9059180576631259, 0.9153262518968134, 0.9125948406676783, 0.8880121396054628, 0.9128983308042489, 0.8922610015174507, 0.9104704097116844, 0.9053110773899848, 0.91350531107739, 0.9016691957511381, 0.9119878603945372, 0.9138088012139606, 0.9089529590288316, 0.8880121396054628, 0.91350531107739, 0.9104704097116844, 0.9128983308042489, 0.9132018209408195, 0.9180576631259484, 0.9125948406676783]}, {\"categories\": [\"0\", \"1\", \"2\", \"3\", \"4\", \"5\", \"6\", \"7\", \"8\", \"9\", \"10\", \"11\", \"12\", \"13\", \"14\", \"15\", \"16\", \"17\", \"18\", \"19\", \"20\", \"21\", \"22\", \"23\", \"24\", \"25\", \"26\", \"27\", \"28\", \"29\", \"30\", \"31\", \"32\", \"33\", \"34\", \"35\", \"36\", \"37\", \"38\", \"39\", \"41\", \"42\"], \"mode\": \"lines\", \"name\": \"accuracy_max\", \"stepped\": true, \"type\": \"scatter\", \"data\": [0.9116843702579667, 0.9116843702579667, 0.9116843702579667, 0.9116843702579667, 0.9116843702579667, 0.9116843702579667, 0.9116843702579667, 0.9116843702579667, 0.9116843702579667, 0.9116843702579667, 0.9116843702579667, 0.9116843702579667, 0.9116843702579667, 0.9116843702579667, 0.9116843702579667, 0.9116843702579667, 0.9116843702579667, 0.9116843702579667, 0.9116843702579667, 0.9125948406676783, 0.9128983308042489, 0.9153262518968134, 0.9153262518968134, 0.9153262518968134, 0.9153262518968134, 0.9153262518968134, 0.9153262518968134, 0.9153262518968134, 0.9153262518968134, 0.9153262518968134, 0.9153262518968134, 0.9153262518968134, 0.9153262518968134, 0.9153262518968134, 0.9153262518968134, 0.9153262518968134, 0.9153262518968134, 0.9153262518968134, 0.9153262518968134, 0.9153262518968134, 0.9180576631259484, 0.9180576631259484]}], \"recall_score_weighted\": [{\"categories\": [\"0\", \"1\", \"2\", \"3\", \"4\", \"5\", \"6\", \"7\", \"8\", \"9\", \"10\", \"11\", \"12\", \"13\", \"14\", \"15\", \"16\", \"17\", \"18\", \"19\", \"20\", \"21\", \"22\", \"23\", \"24\", \"25\", \"26\", \"27\", \"28\", \"29\", \"30\", \"31\", \"32\", \"33\", \"34\", \"35\", \"36\", \"37\", \"38\", \"39\", \"41\", \"42\"], \"mode\": \"markers\", \"name\": \"recall_score_weighted\", \"stepped\": false, \"type\": \"scatter\", \"data\": [0.9116843702579667, 0.9071320182094081, 0.8925644916540213, 0.790288315629742, 0.8880121396054628, 0.8977238239757208, 0.8992412746585736, 0.8919575113808801, 0.8880121396054628, 0.7156297420333839, 0.7074355083459788, 0.7402124430955994, 0.7687405159332321, 0.9062215477996965, 0.8934749620637329, 0.8880121396054628, 0.7893778452200303, 0.7468892261001517, 0.7490136570561456, 0.9125948406676783, 0.9128983308042489, 0.9153262518968134, 0.9059180576631259, 0.9153262518968134, 0.9125948406676783, 0.8880121396054628, 0.9128983308042489, 0.8922610015174507, 0.9104704097116844, 0.9053110773899848, 0.91350531107739, 0.9016691957511381, 0.9119878603945372, 0.9138088012139606, 0.9089529590288316, 0.8880121396054628, 0.91350531107739, 0.9104704097116844, 0.9128983308042489, 0.9132018209408195, 0.9180576631259484, 0.9125948406676783]}, {\"categories\": [\"0\", \"1\", \"2\", \"3\", \"4\", \"5\", \"6\", \"7\", \"8\", \"9\", \"10\", \"11\", \"12\", \"13\", \"14\", \"15\", \"16\", \"17\", \"18\", \"19\", \"20\", \"21\", \"22\", \"23\", \"24\", \"25\", \"26\", \"27\", \"28\", \"29\", \"30\", \"31\", \"32\", \"33\", \"34\", \"35\", \"36\", \"37\", \"38\", \"39\", \"41\", \"42\"], \"mode\": \"lines\", \"name\": \"recall_score_weighted_max\", \"stepped\": true, \"type\": \"scatter\", \"data\": [0.9116843702579667, 0.9116843702579667, 0.9116843702579667, 0.9116843702579667, 0.9116843702579667, 0.9116843702579667, 0.9116843702579667, 0.9116843702579667, 0.9116843702579667, 0.9116843702579667, 0.9116843702579667, 0.9116843702579667, 0.9116843702579667, 0.9116843702579667, 0.9116843702579667, 0.9116843702579667, 0.9116843702579667, 0.9116843702579667, 0.9116843702579667, 0.9125948406676783, 0.9128983308042489, 0.9153262518968134, 0.9153262518968134, 0.9153262518968134, 0.9153262518968134, 0.9153262518968134, 0.9153262518968134, 0.9153262518968134, 0.9153262518968134, 0.9153262518968134, 0.9153262518968134, 0.9153262518968134, 0.9153262518968134, 0.9153262518968134, 0.9153262518968134, 0.9153262518968134, 0.9153262518968134, 0.9153262518968134, 0.9153262518968134, 0.9153262518968134, 0.9180576631259484, 0.9180576631259484]}], \"AUC_weighted\": [{\"categories\": [\"0\", \"1\", \"2\", \"3\", \"4\", \"5\", \"6\", \"7\", \"8\", \"9\", \"10\", \"11\", \"12\", \"13\", \"14\", \"15\", \"16\", \"17\", \"18\", \"19\", \"20\", \"21\", \"22\", \"23\", \"24\", \"25\", \"26\", \"27\", \"28\", \"29\", \"30\", \"31\", \"32\", \"33\", \"34\", \"35\", \"36\", \"37\", \"38\", \"39\", \"41\", \"42\"], \"mode\": \"markers\", \"name\": \"AUC_weighted\", \"stepped\": false, \"type\": \"scatter\", \"data\": [0.9450464668693167, 0.9392346349984347, 0.899208016345372, 0.905645025349775, 0.8843371362626818, 0.8961539102745778, 0.8793181216159395, 0.8343035156257235, 0.8576568916748634, 0.8174320687157656, 0.8570682989810076, 0.891466007961515, 0.8710352192380433, 0.9308878256246675, 0.9004676324958739, 0.8852526734426607, 0.8619900638514245, 0.8218648061395173, 0.8950711960981538, 0.9424512871239444, 0.9435423369954822, 0.9450196074072839, 0.9347440108030608, 0.9453150614896443, 0.9423114326837048, 0.934374461653024, 0.9428782599514307, 0.9198948961465009, 0.9442545758335231, 0.9342526678855304, 0.9419196550133648, 0.9225428686275925, 0.9414324799433914, 0.9336673168508856, 0.941936326403592, 0.5, 0.9403794037940378, 0.9434756514345731, 0.9435756797759366, 0.9450492454343548, 0.9471137192574932, 0.9453159876779902]}, {\"categories\": [\"0\", \"1\", \"2\", \"3\", \"4\", \"5\", \"6\", \"7\", \"8\", \"9\", \"10\", \"11\", \"12\", \"13\", \"14\", \"15\", \"16\", \"17\", \"18\", \"19\", \"20\", \"21\", \"22\", \"23\", \"24\", \"25\", \"26\", \"27\", \"28\", \"29\", \"30\", \"31\", \"32\", \"33\", \"34\", \"35\", \"36\", \"37\", \"38\", \"39\", \"41\", \"42\"], \"mode\": \"lines\", \"name\": \"AUC_weighted_max\", \"stepped\": true, \"type\": \"scatter\", \"data\": [0.9450464668693167, 0.9450464668693167, 0.9450464668693167, 0.9450464668693167, 0.9450464668693167, 0.9450464668693167, 0.9450464668693167, 0.9450464668693167, 0.9450464668693167, 0.9450464668693167, 0.9450464668693167, 0.9450464668693167, 0.9450464668693167, 0.9450464668693167, 0.9450464668693167, 0.9450464668693167, 0.9450464668693167, 0.9450464668693167, 0.9450464668693167, 0.9450464668693167, 0.9450464668693167, 0.9450464668693167, 0.9450464668693167, 0.9453150614896443, 0.9453150614896443, 0.9453150614896443, 0.9453150614896443, 0.9453150614896443, 0.9453150614896443, 0.9453150614896443, 0.9453150614896443, 0.9453150614896443, 0.9453150614896443, 0.9453150614896443, 0.9453150614896443, 0.9453150614896443, 0.9453150614896443, 0.9453150614896443, 0.9453150614896443, 0.9453150614896443, 0.9471137192574932, 0.9471137192574932]}], \"recall_score_macro\": [{\"categories\": [\"0\", \"1\", \"2\", \"3\", \"4\", \"5\", \"6\", \"7\", \"8\", \"9\", \"10\", \"11\", \"12\", \"13\", \"14\", \"15\", \"16\", \"17\", \"18\", \"19\", \"20\", \"21\", \"22\", \"23\", \"24\", \"25\", \"26\", \"27\", \"28\", \"29\", \"30\", \"31\", \"32\", \"33\", \"34\", \"35\", \"36\", \"37\", \"38\", \"39\", \"41\", \"42\"], \"mode\": \"markers\", \"name\": \"recall_score_macro\", \"stepped\": false, \"type\": \"scatter\", \"data\": [0.7513392683482543, 0.7191727470931578, 0.5309823894547899, 0.8369237024564367, 0.5, 0.5942781010175104, 0.5832911917635922, 0.5211675715526807, 0.5, 0.7285754111813161, 0.72396160393593, 0.8122806091355514, 0.7549273220004927, 0.6227454260188535, 0.5303109029039709, 0.5, 0.7689155445894855, 0.7378873088115707, 0.8077631254781448, 0.7411947273949842, 0.7603117179497154, 0.7498374539452846, 0.7161209564932287, 0.7486533221449782, 0.7459312545962097, 0.5, 0.7401814773445069, 0.5355480349061864, 0.7411826869464866, 0.628153439770898, 0.7535486906475353, 0.6699157353842848, 0.7562466772993088, 0.7477989133958325, 0.7296710919945837, 0.5, 0.7428915044447779, 0.7340778961446484, 0.749654531746958, 0.749825413496787, 0.7644008394971167, 0.7258010139910012]}, {\"categories\": [\"0\", \"1\", \"2\", \"3\", \"4\", \"5\", \"6\", \"7\", \"8\", \"9\", \"10\", \"11\", \"12\", \"13\", \"14\", \"15\", \"16\", \"17\", \"18\", \"19\", \"20\", \"21\", \"22\", \"23\", \"24\", \"25\", \"26\", \"27\", \"28\", \"29\", \"30\", \"31\", \"32\", \"33\", \"34\", \"35\", \"36\", \"37\", \"38\", \"39\", \"41\", \"42\"], \"mode\": \"lines\", \"name\": \"recall_score_macro_max\", \"stepped\": true, \"type\": \"scatter\", \"data\": [0.7513392683482543, 0.7513392683482543, 0.7513392683482543, 0.8369237024564367, 0.8369237024564367, 0.8369237024564367, 0.8369237024564367, 0.8369237024564367, 0.8369237024564367, 0.8369237024564367, 0.8369237024564367, 0.8369237024564367, 0.8369237024564367, 0.8369237024564367, 0.8369237024564367, 0.8369237024564367, 0.8369237024564367, 0.8369237024564367, 0.8369237024564367, 0.8369237024564367, 0.8369237024564367, 0.8369237024564367, 0.8369237024564367, 0.8369237024564367, 0.8369237024564367, 0.8369237024564367, 0.8369237024564367, 0.8369237024564367, 0.8369237024564367, 0.8369237024564367, 0.8369237024564367, 0.8369237024564367, 0.8369237024564367, 0.8369237024564367, 0.8369237024564367, 0.8369237024564367, 0.8369237024564367, 0.8369237024564367, 0.8369237024564367, 0.8369237024564367, 0.8369237024564367, 0.8369237024564367]}], \"log_loss\": [{\"categories\": [\"0\", \"1\", \"2\", \"3\", \"4\", \"5\", \"6\", \"7\", \"8\", \"9\", \"10\", \"11\", \"12\", \"13\", \"14\", \"15\", \"16\", \"17\", \"18\", \"19\", \"20\", \"21\", \"22\", \"23\", \"24\", \"25\", \"26\", \"27\", \"28\", \"29\", \"30\", \"31\", \"32\", \"33\", \"34\", \"35\", \"36\", \"37\", \"38\", \"39\", \"41\", \"42\"], \"mode\": \"markers\", \"name\": \"log_loss\", \"stepped\": false, \"type\": \"scatter\", \"data\": [0.17775706110025447, 0.1874363495858499, 0.24131384880101606, 0.4846942542639296, 0.2712827858122373, 0.24454313466633346, 0.2569148204216324, 0.2778267774979463, 0.2816885042942706, 0.5651781830493657, 0.5331268905029843, 0.4851169346351322, 0.5730294630789057, 0.33655623030329523, 0.24786550408793323, 0.25183847380595475, 0.5122419878754776, 0.5672060946530334, 0.5524896113084525, 0.18386077817913915, 0.19004342216112807, 0.17928679602274605, 0.19249658367054517, 0.17876320393889641, 0.18420134724861562, 0.29313359336803707, 0.18354087685416373, 0.23050028531231823, 0.17953984826011166, 0.20981680406070358, 0.19506547851581166, 0.22528021699545642, 0.1980353042208354, 0.322264963173414, 0.18349917919220676, 0.3506513930115608, 0.21135265260225725, 0.18063835686846264, 0.18198494972620505, 0.18060988481044177, 0.18474053698761325, 0.20057649796730567]}, {\"categories\": [\"0\", \"1\", \"2\", \"3\", \"4\", \"5\", \"6\", \"7\", \"8\", \"9\", \"10\", \"11\", \"12\", \"13\", \"14\", \"15\", \"16\", \"17\", \"18\", \"19\", \"20\", \"21\", \"22\", \"23\", \"24\", \"25\", \"26\", \"27\", \"28\", \"29\", \"30\", \"31\", \"32\", \"33\", \"34\", \"35\", \"36\", \"37\", \"38\", \"39\", \"41\", \"42\"], \"mode\": \"lines\", \"name\": \"log_loss_min\", \"stepped\": true, \"type\": \"scatter\", \"data\": [0.17775706110025447, 0.17775706110025447, 0.17775706110025447, 0.17775706110025447, 0.17775706110025447, 0.17775706110025447, 0.17775706110025447, 0.17775706110025447, 0.17775706110025447, 0.17775706110025447, 0.17775706110025447, 0.17775706110025447, 0.17775706110025447, 0.17775706110025447, 0.17775706110025447, 0.17775706110025447, 0.17775706110025447, 0.17775706110025447, 0.17775706110025447, 0.17775706110025447, 0.17775706110025447, 0.17775706110025447, 0.17775706110025447, 0.17775706110025447, 0.17775706110025447, 0.17775706110025447, 0.17775706110025447, 0.17775706110025447, 0.17775706110025447, 0.17775706110025447, 0.17775706110025447, 0.17775706110025447, 0.17775706110025447, 0.17775706110025447, 0.17775706110025447, 0.17775706110025447, 0.17775706110025447, 0.17775706110025447, 0.17775706110025447, 0.17775706110025447, 0.17775706110025447, 0.17775706110025447]}], \"f1_score_micro\": [{\"categories\": [\"0\", \"1\", \"2\", \"3\", \"4\", \"5\", \"6\", \"7\", \"8\", \"9\", \"10\", \"11\", \"12\", \"13\", \"14\", \"15\", \"16\", \"17\", \"18\", \"19\", \"20\", \"21\", \"22\", \"23\", \"24\", \"25\", \"26\", \"27\", \"28\", \"29\", \"30\", \"31\", \"32\", \"33\", \"34\", \"35\", \"36\", \"37\", \"38\", \"39\", \"41\", \"42\"], \"mode\": \"markers\", \"name\": \"f1_score_micro\", \"stepped\": false, \"type\": \"scatter\", \"data\": [0.9116843702579667, 0.9071320182094081, 0.8925644916540213, 0.790288315629742, 0.8880121396054628, 0.8977238239757208, 0.8992412746585736, 0.8919575113808801, 0.8880121396054628, 0.715629742033384, 0.7074355083459787, 0.7402124430955994, 0.7687405159332321, 0.9062215477996965, 0.8934749620637329, 0.8880121396054628, 0.7893778452200303, 0.7468892261001517, 0.7490136570561456, 0.9125948406676783, 0.9128983308042489, 0.9153262518968134, 0.9059180576631259, 0.9153262518968134, 0.9125948406676783, 0.8880121396054628, 0.9128983308042489, 0.8922610015174507, 0.9104704097116844, 0.9053110773899848, 0.91350531107739, 0.901669195751138, 0.9119878603945372, 0.9138088012139606, 0.9089529590288316, 0.8880121396054628, 0.91350531107739, 0.9104704097116844, 0.9128983308042489, 0.9132018209408195, 0.9180576631259484, 0.9125948406676783]}, {\"categories\": [\"0\", \"1\", \"2\", \"3\", \"4\", \"5\", \"6\", \"7\", \"8\", \"9\", \"10\", \"11\", \"12\", \"13\", \"14\", \"15\", \"16\", \"17\", \"18\", \"19\", \"20\", \"21\", \"22\", \"23\", \"24\", \"25\", \"26\", \"27\", \"28\", \"29\", \"30\", \"31\", \"32\", \"33\", \"34\", \"35\", \"36\", \"37\", \"38\", \"39\", \"41\", \"42\"], \"mode\": \"lines\", \"name\": \"f1_score_micro_max\", \"stepped\": true, \"type\": \"scatter\", \"data\": [0.9116843702579667, 0.9116843702579667, 0.9116843702579667, 0.9116843702579667, 0.9116843702579667, 0.9116843702579667, 0.9116843702579667, 0.9116843702579667, 0.9116843702579667, 0.9116843702579667, 0.9116843702579667, 0.9116843702579667, 0.9116843702579667, 0.9116843702579667, 0.9116843702579667, 0.9116843702579667, 0.9116843702579667, 0.9116843702579667, 0.9116843702579667, 0.9125948406676783, 0.9128983308042489, 0.9153262518968134, 0.9153262518968134, 0.9153262518968134, 0.9153262518968134, 0.9153262518968134, 0.9153262518968134, 0.9153262518968134, 0.9153262518968134, 0.9153262518968134, 0.9153262518968134, 0.9153262518968134, 0.9153262518968134, 0.9153262518968134, 0.9153262518968134, 0.9153262518968134, 0.9153262518968134, 0.9153262518968134, 0.9153262518968134, 0.9153262518968134, 0.9180576631259484, 0.9180576631259484]}], \"balanced_accuracy\": [{\"categories\": [\"0\", \"1\", \"2\", \"3\", \"4\", \"5\", \"6\", \"7\", \"8\", \"9\", \"10\", \"11\", \"12\", \"13\", \"14\", \"15\", \"16\", \"17\", \"18\", \"19\", \"20\", \"21\", \"22\", \"23\", \"24\", \"25\", \"26\", \"27\", \"28\", \"29\", \"30\", \"31\", \"32\", \"33\", \"34\", \"35\", \"36\", \"37\", \"38\", \"39\", \"41\", \"42\"], \"mode\": \"markers\", \"name\": \"balanced_accuracy\", \"stepped\": false, \"type\": \"scatter\", \"data\": [0.7513392683482543, 0.7191727470931578, 0.5309823894547899, 0.8369237024564367, 0.5, 0.5942781010175104, 0.5832911917635922, 0.5211675715526807, 0.5, 0.7285754111813161, 0.72396160393593, 0.8122806091355514, 0.7549273220004927, 0.6227454260188535, 0.5303109029039709, 0.5, 0.7689155445894855, 0.7378873088115707, 0.8077631254781448, 0.7411947273949842, 0.7603117179497154, 0.7498374539452846, 0.7161209564932287, 0.7486533221449782, 0.7459312545962097, 0.5, 0.7401814773445069, 0.5355480349061864, 0.7411826869464866, 0.628153439770898, 0.7535486906475353, 0.6699157353842848, 0.7562466772993088, 0.7477989133958325, 0.7296710919945837, 0.5, 0.7428915044447779, 0.7340778961446484, 0.749654531746958, 0.749825413496787, 0.7644008394971167, 0.7258010139910012]}, {\"categories\": [\"0\", \"1\", \"2\", \"3\", \"4\", \"5\", \"6\", \"7\", \"8\", \"9\", \"10\", \"11\", \"12\", \"13\", \"14\", \"15\", \"16\", \"17\", \"18\", \"19\", \"20\", \"21\", \"22\", \"23\", \"24\", \"25\", \"26\", \"27\", \"28\", \"29\", \"30\", \"31\", \"32\", \"33\", \"34\", \"35\", \"36\", \"37\", \"38\", \"39\", \"41\", \"42\"], \"mode\": \"lines\", \"name\": \"balanced_accuracy_max\", \"stepped\": true, \"type\": \"scatter\", \"data\": [0.7513392683482543, 0.7513392683482543, 0.7513392683482543, 0.8369237024564367, 0.8369237024564367, 0.8369237024564367, 0.8369237024564367, 0.8369237024564367, 0.8369237024564367, 0.8369237024564367, 0.8369237024564367, 0.8369237024564367, 0.8369237024564367, 0.8369237024564367, 0.8369237024564367, 0.8369237024564367, 0.8369237024564367, 0.8369237024564367, 0.8369237024564367, 0.8369237024564367, 0.8369237024564367, 0.8369237024564367, 0.8369237024564367, 0.8369237024564367, 0.8369237024564367, 0.8369237024564367, 0.8369237024564367, 0.8369237024564367, 0.8369237024564367, 0.8369237024564367, 0.8369237024564367, 0.8369237024564367, 0.8369237024564367, 0.8369237024564367, 0.8369237024564367, 0.8369237024564367, 0.8369237024564367, 0.8369237024564367, 0.8369237024564367, 0.8369237024564367, 0.8369237024564367, 0.8369237024564367]}], \"f1_score_macro\": [{\"categories\": [\"0\", \"1\", \"2\", \"3\", \"4\", \"5\", \"6\", \"7\", \"8\", \"9\", \"10\", \"11\", \"12\", \"13\", \"14\", \"15\", \"16\", \"17\", \"18\", \"19\", \"20\", \"21\", \"22\", \"23\", \"24\", \"25\", \"26\", \"27\", \"28\", \"29\", \"30\", \"31\", \"32\", \"33\", \"34\", \"35\", \"36\", \"37\", \"38\", \"39\", \"41\", \"42\"], \"mode\": \"markers\", \"name\": \"f1_score_macro\", \"stepped\": false, \"type\": \"scatter\", \"data\": [0.7653697272147331, 0.7416848907681176, 0.531097743345329, 0.6786686520848231, 0.4703423886834914, 0.6263947343363969, 0.6136038678466876, 0.5125366941824553, 0.4703423886834914, 0.5931273730222646, 0.5866813861276887, 0.6346753043552146, 0.636165058954595, 0.6650154684677185, 0.5295960621828253, 0.4703423886834914, 0.6557278474533198, 0.6157353804849399, 0.639515269469435, 0.7613817409356443, 0.7714990790277103, 0.7697492251338406, 0.7383082226735833, 0.7691430313492165, 0.7638698118841445, 0.4703423886834914, 0.7612649763995245, 0.5394001895597245, 0.7584448322812782, 0.6696461623889437, 0.7690300701782606, 0.7020609419024697, 0.7682391462527285, 0.7665415274567802, 0.7501198211479776, 0.4703423886834914, 0.7635553897134414, 0.75461034159533, 0.7662095094470232, 0.766723007428267, 0.7809054675986855, 0.752863672918342]}, {\"categories\": [\"0\", \"1\", \"2\", \"3\", \"4\", \"5\", \"6\", \"7\", \"8\", \"9\", \"10\", \"11\", \"12\", \"13\", \"14\", \"15\", \"16\", \"17\", \"18\", \"19\", \"20\", \"21\", \"22\", \"23\", \"24\", \"25\", \"26\", \"27\", \"28\", \"29\", \"30\", \"31\", \"32\", \"33\", \"34\", \"35\", \"36\", \"37\", \"38\", \"39\", \"41\", \"42\"], \"mode\": \"lines\", \"name\": \"f1_score_macro_max\", \"stepped\": true, \"type\": \"scatter\", \"data\": [0.7653697272147331, 0.7653697272147331, 0.7653697272147331, 0.7653697272147331, 0.7653697272147331, 0.7653697272147331, 0.7653697272147331, 0.7653697272147331, 0.7653697272147331, 0.7653697272147331, 0.7653697272147331, 0.7653697272147331, 0.7653697272147331, 0.7653697272147331, 0.7653697272147331, 0.7653697272147331, 0.7653697272147331, 0.7653697272147331, 0.7653697272147331, 0.7653697272147331, 0.7714990790277103, 0.7714990790277103, 0.7714990790277103, 0.7714990790277103, 0.7714990790277103, 0.7714990790277103, 0.7714990790277103, 0.7714990790277103, 0.7714990790277103, 0.7714990790277103, 0.7714990790277103, 0.7714990790277103, 0.7714990790277103, 0.7714990790277103, 0.7714990790277103, 0.7714990790277103, 0.7714990790277103, 0.7714990790277103, 0.7714990790277103, 0.7714990790277103, 0.7809054675986855, 0.7809054675986855]}], \"average_precision_score_weighted\": [{\"categories\": [\"0\", \"1\", \"2\", \"3\", \"4\", \"5\", \"6\", \"7\", \"8\", \"9\", \"10\", \"11\", \"12\", \"13\", \"14\", \"15\", \"16\", \"17\", \"18\", \"19\", \"20\", \"21\", \"22\", \"23\", \"24\", \"25\", \"26\", \"27\", \"28\", \"29\", \"30\", \"31\", \"32\", \"33\", \"34\", \"35\", \"36\", \"37\", \"38\", \"39\", \"41\", \"42\"], \"mode\": \"markers\", \"name\": \"average_precision_score_weighted\", \"stepped\": false, \"type\": \"scatter\", \"data\": [0.9531771295804466, 0.9505970434373063, 0.9300799520237362, 0.9378156117975205, 0.9284399672554957, 0.9285855447005276, 0.9261110804966565, 0.9145758927035722, 0.9197424138112965, 0.9102913659919343, 0.9185573329901014, 0.9318169140205201, 0.9266950529965291, 0.947605275820125, 0.9335806281416965, 0.918652772634832, 0.9194722067829749, 0.9123902216323565, 0.9319916593493145, 0.9524536910133203, 0.9528936181174027, 0.9543961234694933, 0.9484525927609038, 0.9540528825722294, 0.9524012051949555, 0.948588659974036, 0.9512932336269386, 0.9394936399877738, 0.9525965806282052, 0.9484874787008328, 0.9507420621557616, 0.938954577500262, 0.9506362037887797, 0.9502299384630052, 0.9510052042137949, 0.8011068409624182, 0.9516749906092838, 0.9517506146789014, 0.9521395763320866, 0.9533787017513107, 0.9555725689841158, 0.9540807442560674]}, {\"categories\": [\"0\", \"1\", \"2\", \"3\", \"4\", \"5\", \"6\", \"7\", \"8\", \"9\", \"10\", \"11\", \"12\", \"13\", \"14\", \"15\", \"16\", \"17\", \"18\", \"19\", \"20\", \"21\", \"22\", \"23\", \"24\", \"25\", \"26\", \"27\", \"28\", \"29\", \"30\", \"31\", \"32\", \"33\", \"34\", \"35\", \"36\", \"37\", \"38\", \"39\", \"41\", \"42\"], \"mode\": \"lines\", \"name\": \"average_precision_score_weighted_max\", \"stepped\": true, \"type\": \"scatter\", \"data\": [0.9531771295804466, 0.9531771295804466, 0.9531771295804466, 0.9531771295804466, 0.9531771295804466, 0.9531771295804466, 0.9531771295804466, 0.9531771295804466, 0.9531771295804466, 0.9531771295804466, 0.9531771295804466, 0.9531771295804466, 0.9531771295804466, 0.9531771295804466, 0.9531771295804466, 0.9531771295804466, 0.9531771295804466, 0.9531771295804466, 0.9531771295804466, 0.9531771295804466, 0.9531771295804466, 0.9543961234694933, 0.9543961234694933, 0.9543961234694933, 0.9543961234694933, 0.9543961234694933, 0.9543961234694933, 0.9543961234694933, 0.9543961234694933, 0.9543961234694933, 0.9543961234694933, 0.9543961234694933, 0.9543961234694933, 0.9543961234694933, 0.9543961234694933, 0.9543961234694933, 0.9543961234694933, 0.9543961234694933, 0.9543961234694933, 0.9543961234694933, 0.9555725689841158, 0.9555725689841158]}], \"f1_score_weighted\": [{\"categories\": [\"0\", \"1\", \"2\", \"3\", \"4\", \"5\", \"6\", \"7\", \"8\", \"9\", \"10\", \"11\", \"12\", \"13\", \"14\", \"15\", \"16\", \"17\", \"18\", \"19\", \"20\", \"21\", \"22\", \"23\", \"24\", \"25\", \"26\", \"27\", \"28\", \"29\", \"30\", \"31\", \"32\", \"33\", \"34\", \"35\", \"36\", \"37\", \"38\", \"39\", \"41\", \"42\"], \"mode\": \"markers\", \"name\": \"f1_score_weighted\", \"stepped\": false, \"type\": \"scatter\", \"data\": [0.9091539479147899, 0.9021127651963996, 0.8505828713872667, 0.8256364583074584, 0.8353395018439429, 0.8734704046383025, 0.8714135569458731, 0.8462756104453972, 0.8353395018439429, 0.7663787876027027, 0.7600493201603489, 0.7870516249419812, 0.8066001738336174, 0.885603431576398, 0.8506582937202584, 0.8353395018439429, 0.8221881710234508, 0.7899485665826523, 0.793693340537287, 0.9087900123862012, 0.9109890044878217, 0.9118257356044213, 0.9008331934996205, 0.9117023352928492, 0.9092961593409308, 0.8353395018439429, 0.908914057592548, 0.8522521646553921, 0.9071553913821001, 0.8861733588164185, 0.910788777384352, 0.8913076252880999, 0.9098828695901484, 0.9104324021213236, 0.9047206333144578, 0.8353395018439429, 0.9096765592742708, 0.9063750766195181, 0.9099195922862668, 0.9101723855024135, 0.9154272029125372, 0.9070473633430505]}, {\"categories\": [\"0\", \"1\", \"2\", \"3\", \"4\", \"5\", \"6\", \"7\", \"8\", \"9\", \"10\", \"11\", \"12\", \"13\", \"14\", \"15\", \"16\", \"17\", \"18\", \"19\", \"20\", \"21\", \"22\", \"23\", \"24\", \"25\", \"26\", \"27\", \"28\", \"29\", \"30\", \"31\", \"32\", \"33\", \"34\", \"35\", \"36\", \"37\", \"38\", \"39\", \"41\", \"42\"], \"mode\": \"lines\", \"name\": \"f1_score_weighted_max\", \"stepped\": true, \"type\": \"scatter\", \"data\": [0.9091539479147899, 0.9091539479147899, 0.9091539479147899, 0.9091539479147899, 0.9091539479147899, 0.9091539479147899, 0.9091539479147899, 0.9091539479147899, 0.9091539479147899, 0.9091539479147899, 0.9091539479147899, 0.9091539479147899, 0.9091539479147899, 0.9091539479147899, 0.9091539479147899, 0.9091539479147899, 0.9091539479147899, 0.9091539479147899, 0.9091539479147899, 0.9091539479147899, 0.9109890044878217, 0.9118257356044213, 0.9118257356044213, 0.9118257356044213, 0.9118257356044213, 0.9118257356044213, 0.9118257356044213, 0.9118257356044213, 0.9118257356044213, 0.9118257356044213, 0.9118257356044213, 0.9118257356044213, 0.9118257356044213, 0.9118257356044213, 0.9118257356044213, 0.9118257356044213, 0.9118257356044213, 0.9118257356044213, 0.9118257356044213, 0.9118257356044213, 0.9154272029125372, 0.9154272029125372]}], \"weighted_accuracy\": [{\"categories\": [\"0\", \"1\", \"2\", \"3\", \"4\", \"5\", \"6\", \"7\", \"8\", \"9\", \"10\", \"11\", \"12\", \"13\", \"14\", \"15\", \"16\", \"17\", \"18\", \"19\", \"20\", \"21\", \"22\", \"23\", \"24\", \"25\", \"26\", \"27\", \"28\", \"29\", \"30\", \"31\", \"32\", \"33\", \"34\", \"35\", \"36\", \"37\", \"38\", \"39\", \"41\", \"42\"], \"mode\": \"markers\", \"name\": \"weighted_accuracy\", \"stepped\": false, \"type\": \"scatter\", \"data\": [0.9514937218005303, 0.9537972210153172, 0.9823355469997197, 0.7787100105465428, 0.9843450583187134, 0.9730611889183236, 0.9776831339362636, 0.9840146237420578, 0.9843450583187134, 0.7124156825583777, 0.7033325258343157, 0.7223198668787857, 0.7721699583461578, 0.9766010009385309, 0.9836387745315194, 0.9843450583187134, 0.7944580809707281, 0.7491241586651639, 0.734427753193195, 0.955148852498673, 0.9507814593779897, 0.9564126440319367, 0.9530395439588938, 0.9567066319277295, 0.9539729009155015, 0.9843450583187134, 0.955779253606468, 0.9808231822045461, 0.9524999721188641, 0.9741218218235597, 0.9532182131767513, 0.9592073111351967, 0.9506541834293613, 0.9550245658677179, 0.9534637971209883, 0.9843450583187134, 0.955864104238887, 0.954263899493621, 0.9534273504401253, 0.9537637636521277, 0.956206496086236, 0.95897069514398]}, {\"categories\": [\"0\", \"1\", \"2\", \"3\", \"4\", \"5\", \"6\", \"7\", \"8\", \"9\", \"10\", \"11\", \"12\", \"13\", \"14\", \"15\", \"16\", \"17\", \"18\", \"19\", \"20\", \"21\", \"22\", \"23\", \"24\", \"25\", \"26\", \"27\", \"28\", \"29\", \"30\", \"31\", \"32\", \"33\", \"34\", \"35\", \"36\", \"37\", \"38\", \"39\", \"41\", \"42\"], \"mode\": \"lines\", \"name\": \"weighted_accuracy_max\", \"stepped\": true, \"type\": \"scatter\", \"data\": [0.9514937218005303, 0.9537972210153172, 0.9823355469997197, 0.9823355469997197, 0.9843450583187134, 0.9843450583187134, 0.9843450583187134, 0.9843450583187134, 0.9843450583187134, 0.9843450583187134, 0.9843450583187134, 0.9843450583187134, 0.9843450583187134, 0.9843450583187134, 0.9843450583187134, 0.9843450583187134, 0.9843450583187134, 0.9843450583187134, 0.9843450583187134, 0.9843450583187134, 0.9843450583187134, 0.9843450583187134, 0.9843450583187134, 0.9843450583187134, 0.9843450583187134, 0.9843450583187134, 0.9843450583187134, 0.9843450583187134, 0.9843450583187134, 0.9843450583187134, 0.9843450583187134, 0.9843450583187134, 0.9843450583187134, 0.9843450583187134, 0.9843450583187134, 0.9843450583187134, 0.9843450583187134, 0.9843450583187134, 0.9843450583187134, 0.9843450583187134, 0.9843450583187134, 0.9843450583187134]}], \"precision_score_weighted\": [{\"categories\": [\"0\", \"1\", \"2\", \"3\", \"4\", \"5\", \"6\", \"7\", \"8\", \"9\", \"10\", \"11\", \"12\", \"13\", \"14\", \"15\", \"16\", \"17\", \"18\", \"19\", \"20\", \"21\", \"22\", \"23\", \"24\", \"25\", \"26\", \"27\", \"28\", \"29\", \"30\", \"31\", \"32\", \"33\", \"34\", \"35\", \"36\", \"37\", \"38\", \"39\", \"41\", \"42\"], \"mode\": \"markers\", \"name\": \"precision_score_weighted\", \"stepped\": false, \"type\": \"scatter\", \"data\": [0.9072720074188747, 0.8991976076061607, 0.8755387305160338, 0.9110811819699807, 0.788565560086672, 0.877014103638037, 0.881974764352729, 0.886631416485262, 0.788565560086672, 0.8772151509816251, 0.8760840704971187, 0.9058729448617838, 0.8839911273661079, 0.8929725418691179, 0.8859549684284129, 0.788565560086672, 0.8883294831145746, 0.878897594752507, 0.9034265141964555, 0.9064419404986112, 0.9094687345892809, 0.909671903289538, 0.897831778671891, 0.9095173265049789, 0.9071064203941039, 0.788565560086672, 0.9065343959710289, 0.8695836736674026, 0.9048930721424753, 0.8905400287071871, 0.9088564000714094, 0.8878145875026464, 0.908235905100146, 0.908257528310956, 0.9020938855792003, 0.788565560086672, 0.9073619849673054, 0.9038552316582266, 0.9078607244752309, 0.9081016153648065, 0.9136409082648457, 0.90447440932125]}, {\"categories\": [\"0\", \"1\", \"2\", \"3\", \"4\", \"5\", \"6\", \"7\", \"8\", \"9\", \"10\", \"11\", \"12\", \"13\", \"14\", \"15\", \"16\", \"17\", \"18\", \"19\", \"20\", \"21\", \"22\", \"23\", \"24\", \"25\", \"26\", \"27\", \"28\", \"29\", \"30\", \"31\", \"32\", \"33\", \"34\", \"35\", \"36\", \"37\", \"38\", \"39\", \"41\", \"42\"], \"mode\": \"lines\", \"name\": \"precision_score_weighted_max\", \"stepped\": true, \"type\": \"scatter\", \"data\": [0.9072720074188747, 0.9072720074188747, 0.9072720074188747, 0.9110811819699807, 0.9110811819699807, 0.9110811819699807, 0.9110811819699807, 0.9110811819699807, 0.9110811819699807, 0.9110811819699807, 0.9110811819699807, 0.9110811819699807, 0.9110811819699807, 0.9110811819699807, 0.9110811819699807, 0.9110811819699807, 0.9110811819699807, 0.9110811819699807, 0.9110811819699807, 0.9110811819699807, 0.9110811819699807, 0.9110811819699807, 0.9110811819699807, 0.9110811819699807, 0.9110811819699807, 0.9110811819699807, 0.9110811819699807, 0.9110811819699807, 0.9110811819699807, 0.9110811819699807, 0.9110811819699807, 0.9110811819699807, 0.9110811819699807, 0.9110811819699807, 0.9110811819699807, 0.9110811819699807, 0.9110811819699807, 0.9110811819699807, 0.9110811819699807, 0.9110811819699807, 0.9136409082648457, 0.9136409082648457]}], \"norm_macro_recall\": [{\"categories\": [\"0\", \"1\", \"2\", \"3\", \"4\", \"5\", \"6\", \"7\", \"8\", \"9\", \"10\", \"11\", \"12\", \"13\", \"14\", \"15\", \"16\", \"17\", \"18\", \"19\", \"20\", \"21\", \"22\", \"23\", \"24\", \"25\", \"26\", \"27\", \"28\", \"29\", \"30\", \"31\", \"32\", \"33\", \"34\", \"35\", \"36\", \"37\", \"38\", \"39\", \"41\", \"42\"], \"mode\": \"markers\", \"name\": \"norm_macro_recall\", \"stepped\": false, \"type\": \"scatter\", \"data\": [0.5026785366965085, 0.43834549418631563, 0.061964778909579854, 0.6738474049128733, 0.0, 0.18855620203502088, 0.16658238352718446, 0.04233514310536135, 0.0, 0.45715082236263216, 0.44792320787186, 0.6245612182711029, 0.5098546440009855, 0.24549085203770704, 0.06062180580794174, 0.0, 0.537831089178971, 0.47577461762314144, 0.6155262509562895, 0.4823894547899683, 0.5206234358994308, 0.4996749078905691, 0.4322419129864574, 0.4973066442899563, 0.49186250919241936, 0.0, 0.4803629546890138, 0.07109606981237282, 0.4823653738929732, 0.256306879541796, 0.5070973812950705, 0.3398314707685697, 0.5124933545986177, 0.495597826791665, 0.4593421839891674, 0.0, 0.48578300888955583, 0.4681557922892967, 0.4993090634939159, 0.499650826993574, 0.5288016789942334, 0.45160202798200233]}, {\"categories\": [\"0\", \"1\", \"2\", \"3\", \"4\", \"5\", \"6\", \"7\", \"8\", \"9\", \"10\", \"11\", \"12\", \"13\", \"14\", \"15\", \"16\", \"17\", \"18\", \"19\", \"20\", \"21\", \"22\", \"23\", \"24\", \"25\", \"26\", \"27\", \"28\", \"29\", \"30\", \"31\", \"32\", \"33\", \"34\", \"35\", \"36\", \"37\", \"38\", \"39\", \"41\", \"42\"], \"mode\": \"lines\", \"name\": \"norm_macro_recall_max\", \"stepped\": true, \"type\": \"scatter\", \"data\": [0.5026785366965085, 0.5026785366965085, 0.5026785366965085, 0.6738474049128733, 0.6738474049128733, 0.6738474049128733, 0.6738474049128733, 0.6738474049128733, 0.6738474049128733, 0.6738474049128733, 0.6738474049128733, 0.6738474049128733, 0.6738474049128733, 0.6738474049128733, 0.6738474049128733, 0.6738474049128733, 0.6738474049128733, 0.6738474049128733, 0.6738474049128733, 0.6738474049128733, 0.6738474049128733, 0.6738474049128733, 0.6738474049128733, 0.6738474049128733, 0.6738474049128733, 0.6738474049128733, 0.6738474049128733, 0.6738474049128733, 0.6738474049128733, 0.6738474049128733, 0.6738474049128733, 0.6738474049128733, 0.6738474049128733, 0.6738474049128733, 0.6738474049128733, 0.6738474049128733, 0.6738474049128733, 0.6738474049128733, 0.6738474049128733, 0.6738474049128733, 0.6738474049128733, 0.6738474049128733]}], \"precision_score_micro\": [{\"categories\": [\"0\", \"1\", \"2\", \"3\", \"4\", \"5\", \"6\", \"7\", \"8\", \"9\", \"10\", \"11\", \"12\", \"13\", \"14\", \"15\", \"16\", \"17\", \"18\", \"19\", \"20\", \"21\", \"22\", \"23\", \"24\", \"25\", \"26\", \"27\", \"28\", \"29\", \"30\", \"31\", \"32\", \"33\", \"34\", \"35\", \"36\", \"37\", \"38\", \"39\", \"41\", \"42\"], \"mode\": \"markers\", \"name\": \"precision_score_micro\", \"stepped\": false, \"type\": \"scatter\", \"data\": [0.9116843702579667, 0.9071320182094081, 0.8925644916540213, 0.790288315629742, 0.8880121396054628, 0.8977238239757208, 0.8992412746585736, 0.8919575113808801, 0.8880121396054628, 0.7156297420333839, 0.7074355083459788, 0.7402124430955994, 0.7687405159332321, 0.9062215477996965, 0.8934749620637329, 0.8880121396054628, 0.7893778452200303, 0.7468892261001517, 0.7490136570561456, 0.9125948406676783, 0.9128983308042489, 0.9153262518968134, 0.9059180576631259, 0.9153262518968134, 0.9125948406676783, 0.8880121396054628, 0.9128983308042489, 0.8922610015174507, 0.9104704097116844, 0.9053110773899848, 0.91350531107739, 0.9016691957511381, 0.9119878603945372, 0.9138088012139606, 0.9089529590288316, 0.8880121396054628, 0.91350531107739, 0.9104704097116844, 0.9128983308042489, 0.9132018209408195, 0.9180576631259484, 0.9125948406676783]}, {\"categories\": [\"0\", \"1\", \"2\", \"3\", \"4\", \"5\", \"6\", \"7\", \"8\", \"9\", \"10\", \"11\", \"12\", \"13\", \"14\", \"15\", \"16\", \"17\", \"18\", \"19\", \"20\", \"21\", \"22\", \"23\", \"24\", \"25\", \"26\", \"27\", \"28\", \"29\", \"30\", \"31\", \"32\", \"33\", \"34\", \"35\", \"36\", \"37\", \"38\", \"39\", \"41\", \"42\"], \"mode\": \"lines\", \"name\": \"precision_score_micro_max\", \"stepped\": true, \"type\": \"scatter\", \"data\": [0.9116843702579667, 0.9116843702579667, 0.9116843702579667, 0.9116843702579667, 0.9116843702579667, 0.9116843702579667, 0.9116843702579667, 0.9116843702579667, 0.9116843702579667, 0.9116843702579667, 0.9116843702579667, 0.9116843702579667, 0.9116843702579667, 0.9116843702579667, 0.9116843702579667, 0.9116843702579667, 0.9116843702579667, 0.9116843702579667, 0.9116843702579667, 0.9125948406676783, 0.9128983308042489, 0.9153262518968134, 0.9153262518968134, 0.9153262518968134, 0.9153262518968134, 0.9153262518968134, 0.9153262518968134, 0.9153262518968134, 0.9153262518968134, 0.9153262518968134, 0.9153262518968134, 0.9153262518968134, 0.9153262518968134, 0.9153262518968134, 0.9153262518968134, 0.9153262518968134, 0.9153262518968134, 0.9153262518968134, 0.9153262518968134, 0.9153262518968134, 0.9180576631259484, 0.9180576631259484]}], \"AUC_micro\": [{\"categories\": [\"0\", \"1\", \"2\", \"3\", \"4\", \"5\", \"6\", \"7\", \"8\", \"9\", \"10\", \"11\", \"12\", \"13\", \"14\", \"15\", \"16\", \"17\", \"18\", \"19\", \"20\", \"21\", \"22\", \"23\", \"24\", \"25\", \"26\", \"27\", \"28\", \"29\", \"30\", \"31\", \"32\", \"33\", \"34\", \"35\", \"36\", \"37\", \"38\", \"39\", \"41\", \"42\"], \"mode\": \"markers\", \"name\": \"AUC_micro\", \"stepped\": false, \"type\": \"scatter\", \"data\": [0.979695082216353, 0.9781770788959222, 0.9674878707564918, 0.8845258254448156, 0.9644541667722051, 0.9671522355341358, 0.9638109887377068, 0.9545408617922495, 0.9591476486422386, 0.8132416568995651, 0.8366875824638885, 0.8511641080314358, 0.8502327295000243, 0.9758990146932517, 0.967774413340671, 0.9646362608541474, 0.8388574218075394, 0.8242867636392106, 0.8616813537778536, 0.9790159827392864, 0.9790037326063079, 0.9798592155770112, 0.976858946166192, 0.9797260299207194, 0.9790132195513965, 0.9744062484888817, 0.9788788365136859, 0.9717761541490417, 0.9793498679426453, 0.9763752961792019, 0.9783160672467826, 0.9700919911301669, 0.9781441048537698, 0.977048040324122, 0.9787391113127215, 0.8880121396054628, 0.9785879649351457, 0.9789939693424303, 0.9790928914688877, 0.9796480159159621, 0.9804609457931616, 0.9798278073413297]}, {\"categories\": [\"0\", \"1\", \"2\", \"3\", \"4\", \"5\", \"6\", \"7\", \"8\", \"9\", \"10\", \"11\", \"12\", \"13\", \"14\", \"15\", \"16\", \"17\", \"18\", \"19\", \"20\", \"21\", \"22\", \"23\", \"24\", \"25\", \"26\", \"27\", \"28\", \"29\", \"30\", \"31\", \"32\", \"33\", \"34\", \"35\", \"36\", \"37\", \"38\", \"39\", \"41\", \"42\"], \"mode\": \"lines\", \"name\": \"AUC_micro_max\", \"stepped\": true, \"type\": \"scatter\", \"data\": [0.979695082216353, 0.979695082216353, 0.979695082216353, 0.979695082216353, 0.979695082216353, 0.979695082216353, 0.979695082216353, 0.979695082216353, 0.979695082216353, 0.979695082216353, 0.979695082216353, 0.979695082216353, 0.979695082216353, 0.979695082216353, 0.979695082216353, 0.979695082216353, 0.979695082216353, 0.979695082216353, 0.979695082216353, 0.979695082216353, 0.979695082216353, 0.9798592155770112, 0.9798592155770112, 0.9798592155770112, 0.9798592155770112, 0.9798592155770112, 0.9798592155770112, 0.9798592155770112, 0.9798592155770112, 0.9798592155770112, 0.9798592155770112, 0.9798592155770112, 0.9798592155770112, 0.9798592155770112, 0.9798592155770112, 0.9798592155770112, 0.9798592155770112, 0.9798592155770112, 0.9798592155770112, 0.9798592155770112, 0.9804609457931616, 0.9804609457931616]}], \"precision_score_macro\": [{\"categories\": [\"0\", \"1\", \"2\", \"3\", \"4\", \"5\", \"6\", \"7\", \"8\", \"9\", \"10\", \"11\", \"12\", \"13\", \"14\", \"15\", \"16\", \"17\", \"18\", \"19\", \"20\", \"21\", \"22\", \"23\", \"24\", \"25\", \"26\", \"27\", \"28\", \"29\", \"30\", \"31\", \"32\", \"33\", \"34\", \"35\", \"36\", \"37\", \"38\", \"39\", \"41\", \"42\"], \"mode\": \"markers\", \"name\": \"precision_score_macro\", \"stepped\": false, \"type\": \"scatter\", \"data\": [0.7819118765348991, 0.7723958081530135, 0.810754695947829, 0.659969507797631, 0.4440060698027314, 0.771526544069397, 0.8019920345482998, 0.8671759527022684, 0.4440060698027314, 0.601398134505889, 0.5982268711282623, 0.6364111744952867, 0.6245757986391158, 0.822098675416211, 0.8577605054877782, 0.4440060698027314, 0.6373182350031168, 0.6118521844328296, 0.6370070299132085, 0.7872528061629692, 0.7841904842796676, 0.7949245271879244, 0.768602932543218, 0.7952602324517412, 0.7861246045360897, 0.4440060698027314, 0.7886171396772399, 0.7809201762475664, 0.7797943689453914, 0.8069790298533953, 0.7875577731092437, 0.7612923257476706, 0.7820023565770107, 0.7899691548694339, 0.7768178083598645, 0.4440060698027314, 0.7901344859860646, 0.7812826933778519, 0.7863403529346777, 0.78734952594013, 0.8007044864664442, 0.7916268932733324]}, {\"categories\": [\"0\", \"1\", \"2\", \"3\", \"4\", \"5\", \"6\", \"7\", \"8\", \"9\", \"10\", \"11\", \"12\", \"13\", \"14\", \"15\", \"16\", \"17\", \"18\", \"19\", \"20\", \"21\", \"22\", \"23\", \"24\", \"25\", \"26\", \"27\", \"28\", \"29\", \"30\", \"31\", \"32\", \"33\", \"34\", \"35\", \"36\", \"37\", \"38\", \"39\", \"41\", \"42\"], \"mode\": \"lines\", \"name\": \"precision_score_macro_max\", \"stepped\": true, \"type\": \"scatter\", \"data\": [0.7819118765348991, 0.7819118765348991, 0.810754695947829, 0.810754695947829, 0.810754695947829, 0.810754695947829, 0.810754695947829, 0.8671759527022684, 0.8671759527022684, 0.8671759527022684, 0.8671759527022684, 0.8671759527022684, 0.8671759527022684, 0.8671759527022684, 0.8671759527022684, 0.8671759527022684, 0.8671759527022684, 0.8671759527022684, 0.8671759527022684, 0.8671759527022684, 0.8671759527022684, 0.8671759527022684, 0.8671759527022684, 0.8671759527022684, 0.8671759527022684, 0.8671759527022684, 0.8671759527022684, 0.8671759527022684, 0.8671759527022684, 0.8671759527022684, 0.8671759527022684, 0.8671759527022684, 0.8671759527022684, 0.8671759527022684, 0.8671759527022684, 0.8671759527022684, 0.8671759527022684, 0.8671759527022684, 0.8671759527022684, 0.8671759527022684, 0.8671759527022684, 0.8671759527022684]}], \"AUC_macro\": [{\"categories\": [\"0\", \"1\", \"2\", \"3\", \"4\", \"5\", \"6\", \"7\", \"8\", \"9\", \"10\", \"11\", \"12\", \"13\", \"14\", \"15\", \"16\", \"17\", \"18\", \"19\", \"20\", \"21\", \"22\", \"23\", \"24\", \"25\", \"26\", \"27\", \"28\", \"29\", \"30\", \"31\", \"32\", \"33\", \"34\", \"35\", \"36\", \"37\", \"38\", \"39\", \"41\", \"42\"], \"mode\": \"markers\", \"name\": \"AUC_macro\", \"stepped\": false, \"type\": \"scatter\", \"data\": [0.9450464668693166, 0.9392346349984347, 0.899208016345372, 0.905645025349775, 0.8843371362626818, 0.8961539102745778, 0.8793181216159394, 0.8343035156257235, 0.8576568916748635, 0.8174320687157657, 0.8570682989810074, 0.8914660079615151, 0.8710352192380433, 0.9308878256246677, 0.9004676324958739, 0.8852526734426607, 0.8619900638514245, 0.8218648061395173, 0.8950711960981537, 0.9424512871239443, 0.9435423369954821, 0.9450196074072839, 0.9347440108030609, 0.9453150614896444, 0.9423114326837048, 0.9343744616530238, 0.9428782599514307, 0.9198948961465008, 0.9442545758335232, 0.9342526678855305, 0.9419196550133648, 0.9225428686275926, 0.9414324799433913, 0.9336673168508856, 0.941936326403592, 0.5, 0.9403794037940378, 0.9434756514345732, 0.9435756797759365, 0.9450492454343545, 0.9471137192574932, 0.9453159876779902]}, {\"categories\": [\"0\", \"1\", \"2\", \"3\", \"4\", \"5\", \"6\", \"7\", \"8\", \"9\", \"10\", \"11\", \"12\", \"13\", \"14\", \"15\", \"16\", \"17\", \"18\", \"19\", \"20\", \"21\", \"22\", \"23\", \"24\", \"25\", \"26\", \"27\", \"28\", \"29\", \"30\", \"31\", \"32\", \"33\", \"34\", \"35\", \"36\", \"37\", \"38\", \"39\", \"41\", \"42\"], \"mode\": \"lines\", \"name\": \"AUC_macro_max\", \"stepped\": true, \"type\": \"scatter\", \"data\": [0.9450464668693166, 0.9450464668693166, 0.9450464668693166, 0.9450464668693166, 0.9450464668693166, 0.9450464668693166, 0.9450464668693166, 0.9450464668693166, 0.9450464668693166, 0.9450464668693166, 0.9450464668693166, 0.9450464668693166, 0.9450464668693166, 0.9450464668693166, 0.9450464668693166, 0.9450464668693166, 0.9450464668693166, 0.9450464668693166, 0.9450464668693166, 0.9450464668693166, 0.9450464668693166, 0.9450464668693166, 0.9450464668693166, 0.9453150614896444, 0.9453150614896444, 0.9453150614896444, 0.9453150614896444, 0.9453150614896444, 0.9453150614896444, 0.9453150614896444, 0.9453150614896444, 0.9453150614896444, 0.9453150614896444, 0.9453150614896444, 0.9453150614896444, 0.9453150614896444, 0.9453150614896444, 0.9453150614896444, 0.9453150614896444, 0.9453150614896444, 0.9471137192574932, 0.9471137192574932]}], \"average_precision_score_micro\": [{\"categories\": [\"0\", \"1\", \"2\", \"3\", \"4\", \"5\", \"6\", \"7\", \"8\", \"9\", \"10\", \"11\", \"12\", \"13\", \"14\", \"15\", \"16\", \"17\", \"18\", \"19\", \"20\", \"21\", \"22\", \"23\", \"24\", \"25\", \"26\", \"27\", \"28\", \"29\", \"30\", \"31\", \"32\", \"33\", \"34\", \"35\", \"36\", \"37\", \"38\", \"39\", \"41\", \"42\"], \"mode\": \"markers\", \"name\": \"average_precision_score_micro\", \"stepped\": false, \"type\": \"scatter\", \"data\": [0.9806603102489483, 0.9791945367231853, 0.9667654575515079, 0.8864195833736693, 0.9656156747825099, 0.9680273394416985, 0.9646991657579159, 0.9528163624327547, 0.9584841489923182, 0.7937363511942234, 0.8198864693962644, 0.8660621034207031, 0.8492903574372781, 0.9766643355999638, 0.9682141419926066, 0.9644070566831118, 0.7903019370836036, 0.8011511624807282, 0.8669994230371173, 0.9800107530929907, 0.97995948805535, 0.9807939838040495, 0.977954770495374, 0.9806825712741088, 0.9800058297942514, 0.9755997293287618, 0.9798597961315479, 0.9731447587154589, 0.9803278107514134, 0.9774270588941639, 0.9793026409289212, 0.9678897591404891, 0.9791781316507459, 0.9776748988224525, 0.9797376192474281, 0.8445594902839405, 0.9795781460996508, 0.9799934164554277, 0.980089737160061, 0.9805897502505967, 0.9813663935194521, 0.9807787794749677]}, {\"categories\": [\"0\", \"1\", \"2\", \"3\", \"4\", \"5\", \"6\", \"7\", \"8\", \"9\", \"10\", \"11\", \"12\", \"13\", \"14\", \"15\", \"16\", \"17\", \"18\", \"19\", \"20\", \"21\", \"22\", \"23\", \"24\", \"25\", \"26\", \"27\", \"28\", \"29\", \"30\", \"31\", \"32\", \"33\", \"34\", \"35\", \"36\", \"37\", \"38\", \"39\", \"41\", \"42\"], \"mode\": \"lines\", \"name\": \"average_precision_score_micro_max\", \"stepped\": true, \"type\": \"scatter\", \"data\": [0.9806603102489483, 0.9806603102489483, 0.9806603102489483, 0.9806603102489483, 0.9806603102489483, 0.9806603102489483, 0.9806603102489483, 0.9806603102489483, 0.9806603102489483, 0.9806603102489483, 0.9806603102489483, 0.9806603102489483, 0.9806603102489483, 0.9806603102489483, 0.9806603102489483, 0.9806603102489483, 0.9806603102489483, 0.9806603102489483, 0.9806603102489483, 0.9806603102489483, 0.9806603102489483, 0.9807939838040495, 0.9807939838040495, 0.9807939838040495, 0.9807939838040495, 0.9807939838040495, 0.9807939838040495, 0.9807939838040495, 0.9807939838040495, 0.9807939838040495, 0.9807939838040495, 0.9807939838040495, 0.9807939838040495, 0.9807939838040495, 0.9807939838040495, 0.9807939838040495, 0.9807939838040495, 0.9807939838040495, 0.9807939838040495, 0.9807939838040495, 0.9813663935194521, 0.9813663935194521]}], \"matthews_correlation\": [{\"categories\": [\"0\", \"1\", \"2\", \"3\", \"4\", \"5\", \"6\", \"7\", \"8\", \"9\", \"10\", \"11\", \"12\", \"13\", \"14\", \"15\", \"16\", \"17\", \"18\", \"19\", \"20\", \"21\", \"22\", \"23\", \"24\", \"25\", \"26\", \"27\", \"28\", \"29\", \"30\", \"31\", \"32\", \"33\", \"34\", \"35\", \"36\", \"37\", \"38\", \"39\", \"41\", \"42\"], \"mode\": \"markers\", \"name\": \"matthews_correlation\", \"stepped\": false, \"type\": \"scatter\", \"data\": [0.5323740218566827, 0.488678780261868, 0.19624396056705012, 0.46431678344557675, 0.0, 0.31999379338174755, 0.3171956901386891, 0.17632042707807807, 0.0, 0.30448067451122063, 0.2966415183853639, 0.41278839452816063, 0.35641422380787463, 0.3976739324324451, 0.2082694787501578, 0.0, 0.3843280262896792, 0.3262404949691028, 0.41068582511972185, 0.5264365575296669, 0.5439783568775576, 0.5428929654311164, 0.4818743516649395, 0.5419130472554575, 0.530535514228425, 0.0, 0.5265756963424171, 0.19986155439304, 0.5195442529553999, 0.3966883845702862, 0.5400366537833141, 0.42141512872551473, 0.5376324650295363, 0.5361120834114955, 0.5042897910113091, 0.0, 0.5309282504914108, 0.5131941585317893, 0.5347379422938516, 0.5358627217342095, 0.5639380060335613, 0.5132237259058233]}, {\"categories\": [\"0\", \"1\", \"2\", \"3\", \"4\", \"5\", \"6\", \"7\", \"8\", \"9\", \"10\", \"11\", \"12\", \"13\", \"14\", \"15\", \"16\", \"17\", \"18\", \"19\", \"20\", \"21\", \"22\", \"23\", \"24\", \"25\", \"26\", \"27\", \"28\", \"29\", \"30\", \"31\", \"32\", \"33\", \"34\", \"35\", \"36\", \"37\", \"38\", \"39\", \"41\", \"42\"], \"mode\": \"lines\", \"name\": \"matthews_correlation_max\", \"stepped\": true, \"type\": \"scatter\", \"data\": [0.5323740218566827, 0.5323740218566827, 0.5323740218566827, 0.5323740218566827, 0.5323740218566827, 0.5323740218566827, 0.5323740218566827, 0.5323740218566827, 0.5323740218566827, 0.5323740218566827, 0.5323740218566827, 0.5323740218566827, 0.5323740218566827, 0.5323740218566827, 0.5323740218566827, 0.5323740218566827, 0.5323740218566827, 0.5323740218566827, 0.5323740218566827, 0.5323740218566827, 0.5439783568775576, 0.5439783568775576, 0.5439783568775576, 0.5439783568775576, 0.5439783568775576, 0.5439783568775576, 0.5439783568775576, 0.5439783568775576, 0.5439783568775576, 0.5439783568775576, 0.5439783568775576, 0.5439783568775576, 0.5439783568775576, 0.5439783568775576, 0.5439783568775576, 0.5439783568775576, 0.5439783568775576, 0.5439783568775576, 0.5439783568775576, 0.5439783568775576, 0.5639380060335613, 0.5639380060335613]}], \"average_precision_score_macro\": [{\"categories\": [\"0\", \"1\", \"2\", \"3\", \"4\", \"5\", \"6\", \"7\", \"8\", \"9\", \"10\", \"11\", \"12\", \"13\", \"14\", \"15\", \"16\", \"17\", \"18\", \"19\", \"20\", \"21\", \"22\", \"23\", \"24\", \"25\", \"26\", \"27\", \"28\", \"29\", \"30\", \"31\", \"32\", \"33\", \"34\", \"35\", \"36\", \"37\", \"38\", \"39\", \"41\", \"42\"], \"mode\": \"markers\", \"name\": \"average_precision_score_macro\", \"stepped\": false, \"type\": \"scatter\", \"data\": [0.8151093723721079, 0.8065229883244922, 0.744078114249515, 0.7665094204192482, 0.7371554432185264, 0.730985246262682, 0.7305536692064902, 0.7158587601175009, 0.7207783060606081, 0.7073316325474388, 0.7075391905812902, 0.7481381076825815, 0.7363713493014727, 0.7985126174047921, 0.7543551170430367, 0.6948232509008099, 0.7103502544588469, 0.7128403133188949, 0.7464571914539725, 0.8131628841963428, 0.8148343616874545, 0.8207204151821612, 0.7990689678455942, 0.8189571522101138, 0.8130064306176901, 0.8004617629290862, 0.8078135890376441, 0.7664291214409948, 0.8129296078280362, 0.7998616245795696, 0.8059735726640079, 0.7632040423205075, 0.8055550630893802, 0.8095384974278008, 0.8069804795218484, 0.5, 0.8108072035890942, 0.8095067859583607, 0.8111777475716251, 0.8161647426335629, 0.8249703889578939, 0.8190780930746977]}, {\"categories\": [\"0\", \"1\", \"2\", \"3\", \"4\", \"5\", \"6\", \"7\", \"8\", \"9\", \"10\", \"11\", \"12\", \"13\", \"14\", \"15\", \"16\", \"17\", \"18\", \"19\", \"20\", \"21\", \"22\", \"23\", \"24\", \"25\", \"26\", \"27\", \"28\", \"29\", \"30\", \"31\", \"32\", \"33\", \"34\", \"35\", \"36\", \"37\", \"38\", \"39\", \"41\", \"42\"], \"mode\": \"lines\", \"name\": \"average_precision_score_macro_max\", \"stepped\": true, \"type\": \"scatter\", \"data\": [0.8151093723721079, 0.8151093723721079, 0.8151093723721079, 0.8151093723721079, 0.8151093723721079, 0.8151093723721079, 0.8151093723721079, 0.8151093723721079, 0.8151093723721079, 0.8151093723721079, 0.8151093723721079, 0.8151093723721079, 0.8151093723721079, 0.8151093723721079, 0.8151093723721079, 0.8151093723721079, 0.8151093723721079, 0.8151093723721079, 0.8151093723721079, 0.8151093723721079, 0.8151093723721079, 0.8207204151821612, 0.8207204151821612, 0.8207204151821612, 0.8207204151821612, 0.8207204151821612, 0.8207204151821612, 0.8207204151821612, 0.8207204151821612, 0.8207204151821612, 0.8207204151821612, 0.8207204151821612, 0.8207204151821612, 0.8207204151821612, 0.8207204151821612, 0.8207204151821612, 0.8207204151821612, 0.8207204151821612, 0.8207204151821612, 0.8207204151821612, 0.8249703889578939, 0.8249703889578939]}], \"recall_score_micro\": [{\"categories\": [\"0\", \"1\", \"2\", \"3\", \"4\", \"5\", \"6\", \"7\", \"8\", \"9\", \"10\", \"11\", \"12\", \"13\", \"14\", \"15\", \"16\", \"17\", \"18\", \"19\", \"20\", \"21\", \"22\", \"23\", \"24\", \"25\", \"26\", \"27\", \"28\", \"29\", \"30\", \"31\", \"32\", \"33\", \"34\", \"35\", \"36\", \"37\", \"38\", \"39\", \"41\", \"42\"], \"mode\": \"markers\", \"name\": \"recall_score_micro\", \"stepped\": false, \"type\": \"scatter\", \"data\": [0.9116843702579667, 0.9071320182094081, 0.8925644916540213, 0.790288315629742, 0.8880121396054628, 0.8977238239757208, 0.8992412746585736, 0.8919575113808801, 0.8880121396054628, 0.7156297420333839, 0.7074355083459788, 0.7402124430955994, 0.7687405159332321, 0.9062215477996965, 0.8934749620637329, 0.8880121396054628, 0.7893778452200303, 0.7468892261001517, 0.7490136570561456, 0.9125948406676783, 0.9128983308042489, 0.9153262518968134, 0.9059180576631259, 0.9153262518968134, 0.9125948406676783, 0.8880121396054628, 0.9128983308042489, 0.8922610015174507, 0.9104704097116844, 0.9053110773899848, 0.91350531107739, 0.9016691957511381, 0.9119878603945372, 0.9138088012139606, 0.9089529590288316, 0.8880121396054628, 0.91350531107739, 0.9104704097116844, 0.9128983308042489, 0.9132018209408195, 0.9180576631259484, 0.9125948406676783]}, {\"categories\": [\"0\", \"1\", \"2\", \"3\", \"4\", \"5\", \"6\", \"7\", \"8\", \"9\", \"10\", \"11\", \"12\", \"13\", \"14\", \"15\", \"16\", \"17\", \"18\", \"19\", \"20\", \"21\", \"22\", \"23\", \"24\", \"25\", \"26\", \"27\", \"28\", \"29\", \"30\", \"31\", \"32\", \"33\", \"34\", \"35\", \"36\", \"37\", \"38\", \"39\", \"41\", \"42\"], \"mode\": \"lines\", \"name\": \"recall_score_micro_max\", \"stepped\": true, \"type\": \"scatter\", \"data\": [0.9116843702579667, 0.9116843702579667, 0.9116843702579667, 0.9116843702579667, 0.9116843702579667, 0.9116843702579667, 0.9116843702579667, 0.9116843702579667, 0.9116843702579667, 0.9116843702579667, 0.9116843702579667, 0.9116843702579667, 0.9116843702579667, 0.9116843702579667, 0.9116843702579667, 0.9116843702579667, 0.9116843702579667, 0.9116843702579667, 0.9116843702579667, 0.9125948406676783, 0.9128983308042489, 0.9153262518968134, 0.9153262518968134, 0.9153262518968134, 0.9153262518968134, 0.9153262518968134, 0.9153262518968134, 0.9153262518968134, 0.9153262518968134, 0.9153262518968134, 0.9153262518968134, 0.9153262518968134, 0.9153262518968134, 0.9153262518968134, 0.9153262518968134, 0.9153262518968134, 0.9153262518968134, 0.9153262518968134, 0.9153262518968134, 0.9153262518968134, 0.9180576631259484, 0.9180576631259484]}]}, \"metricName\": null, \"primaryMetricName\": \"AUC_weighted\", \"showLegend\": false}, \"run_metrics\": [{\"name\": \"experiment_status\", \"run_id\": \"AutoML_b2145a47-7069-4953-b04e-1bb07ac959b6\", \"categories\": [0, 1, 2, 3, 4, 5, 6, 7, 8, 9, 10, 11, 12, 13], \"series\": [{\"data\": [\"DatasetEvaluation\", \"FeaturesGeneration\", \"DatasetFeaturization\", \"DatasetFeaturizationCompleted\", \"DatasetBalancing\", \"ModelSelection\", \"BestRunExplainModel\", \"ModelExplanationDataSetSetup\", \"PickSurrogateModel\", \"EngineeredFeatureExplanations\", \"EngineeredFeatureExplanations\", \"RawFeaturesExplanations\", \"RawFeaturesExplanations\", \"BestRunExplainModel\"]}]}, {\"name\": \"experiment_status_description\", \"run_id\": \"AutoML_b2145a47-7069-4953-b04e-1bb07ac959b6\", \"categories\": [0, 1, 2, 3, 4, 5, 6, 7, 8, 9, 10, 11, 12, 13], \"series\": [{\"data\": [\"Gathering dataset statistics.\", \"Generating features for the dataset.\", \"Beginning to fit featurizers and featurize the dataset.\", \"Completed fit featurizers and featurizing the dataset.\", \"Performing class balancing sweeping\", \"Beginning model selection.\", \"Best run model explanations started\", \"Model explanations data setup completed\", \"Choosing LightGBM as the surrogate model for explanations\", \"Computation of engineered features started\", \"Computation of engineered features completed\", \"Computation of raw features started\", \"Computation of raw features completed\", \"Best run model explanations completed\"]}]}, {\"name\": \"average_precision_score_weighted\", \"run_id\": \"AutoML_b2145a47-7069-4953-b04e-1bb07ac959b6\", \"categories\": [0], \"series\": [{\"data\": [0.9555725689841158]}]}, {\"name\": \"recall_score_weighted\", \"run_id\": \"AutoML_b2145a47-7069-4953-b04e-1bb07ac959b6\", \"categories\": [0], \"series\": [{\"data\": [0.9180576631259484]}]}, {\"name\": \"matthews_correlation\", \"run_id\": \"AutoML_b2145a47-7069-4953-b04e-1bb07ac959b6\", \"categories\": [0], \"series\": [{\"data\": [0.5639380060335613]}]}, {\"name\": \"AUC_weighted\", \"run_id\": \"AutoML_b2145a47-7069-4953-b04e-1bb07ac959b6\", \"categories\": [0], \"series\": [{\"data\": [0.9471137192574932]}]}, {\"name\": \"recall_score_micro\", \"run_id\": \"AutoML_b2145a47-7069-4953-b04e-1bb07ac959b6\", \"categories\": [0], \"series\": [{\"data\": [0.9180576631259484]}]}, {\"name\": \"f1_score_weighted\", \"run_id\": \"AutoML_b2145a47-7069-4953-b04e-1bb07ac959b6\", \"categories\": [0], \"series\": [{\"data\": [0.9154272029125372]}]}, {\"name\": \"norm_macro_recall\", \"run_id\": \"AutoML_b2145a47-7069-4953-b04e-1bb07ac959b6\", \"categories\": [0], \"series\": [{\"data\": [0.5288016789942334]}]}, {\"name\": \"recall_score_macro\", \"run_id\": \"AutoML_b2145a47-7069-4953-b04e-1bb07ac959b6\", \"categories\": [0], \"series\": [{\"data\": [0.7644008394971167]}]}, {\"name\": \"precision_score_micro\", \"run_id\": \"AutoML_b2145a47-7069-4953-b04e-1bb07ac959b6\", \"categories\": [0], \"series\": [{\"data\": [0.9180576631259484]}]}, {\"name\": \"weighted_accuracy\", \"run_id\": \"AutoML_b2145a47-7069-4953-b04e-1bb07ac959b6\", \"categories\": [0], \"series\": [{\"data\": [0.956206496086236]}]}, {\"name\": \"precision_score_weighted\", \"run_id\": \"AutoML_b2145a47-7069-4953-b04e-1bb07ac959b6\", \"categories\": [0], \"series\": [{\"data\": [0.9136409082648457]}]}, {\"name\": \"precision_score_macro\", \"run_id\": \"AutoML_b2145a47-7069-4953-b04e-1bb07ac959b6\", \"categories\": [0], \"series\": [{\"data\": [0.8007044864664442]}]}, {\"name\": \"average_precision_score_macro\", \"run_id\": \"AutoML_b2145a47-7069-4953-b04e-1bb07ac959b6\", \"categories\": [0], \"series\": [{\"data\": [0.8249703889578939]}]}, {\"name\": \"AUC_micro\", \"run_id\": \"AutoML_b2145a47-7069-4953-b04e-1bb07ac959b6\", \"categories\": [0], \"series\": [{\"data\": [0.9804609457931616]}]}, {\"name\": \"average_precision_score_micro\", \"run_id\": \"AutoML_b2145a47-7069-4953-b04e-1bb07ac959b6\", \"categories\": [0], \"series\": [{\"data\": [0.9813663935194521]}]}, {\"name\": \"log_loss\", \"run_id\": \"AutoML_b2145a47-7069-4953-b04e-1bb07ac959b6\", \"categories\": [0], \"series\": [{\"data\": [0.18474053698761325]}]}, {\"name\": \"AUC_macro\", \"run_id\": \"AutoML_b2145a47-7069-4953-b04e-1bb07ac959b6\", \"categories\": [0], \"series\": [{\"data\": [0.9471137192574932]}]}, {\"name\": \"balanced_accuracy\", \"run_id\": \"AutoML_b2145a47-7069-4953-b04e-1bb07ac959b6\", \"categories\": [0], \"series\": [{\"data\": [0.7644008394971167]}]}, {\"name\": \"f1_score_micro\", \"run_id\": \"AutoML_b2145a47-7069-4953-b04e-1bb07ac959b6\", \"categories\": [0], \"series\": [{\"data\": [0.9180576631259484]}]}, {\"name\": \"f1_score_macro\", \"run_id\": \"AutoML_b2145a47-7069-4953-b04e-1bb07ac959b6\", \"categories\": [0], \"series\": [{\"data\": [0.7809054675986855]}]}, {\"name\": \"accuracy\", \"run_id\": \"AutoML_b2145a47-7069-4953-b04e-1bb07ac959b6\", \"categories\": [0], \"series\": [{\"data\": [0.9180576631259484]}]}], \"run_logs\": \"\\nRun is completed.\", \"graph\": {}, \"widget_settings\": {\"childWidgetDisplay\": \"popup\", \"send_telemetry\": false, \"log_level\": \"INFO\", \"sdk_version\": \"1.19.0\"}, \"loading\": false}"
     },
     "metadata": {},
     "output_type": "display_data"
    },
    {
     "name": "stdout",
     "output_type": "stream",
     "text": [
      "\n",
      "\n",
      "****************************************************************************************************\n",
      "DATA GUARDRAILS: \n",
      "\n",
      "TYPE:         Train-Test data split\n",
      "STATUS:       DONE\n",
      "DESCRIPTION:  Your input data has been split into a training dataset and a holdout test dataset for validation of the model. The test holdout dataset reflects the original distribution of your input data.\n",
      "              \n",
      "DETAILS:      \n",
      "+---------------------------------+---------------------------------+---------------------------------+\n",
      "|Dataset                          |Row counts                       |Percentage                       |\n",
      "+=================================+=================================+=================================+\n",
      "|train                            |29655                            |90.0                             |\n",
      "|test                             |3295                             |10.0                             |\n",
      "+---------------------------------+---------------------------------+---------------------------------+\n",
      "\n",
      "****************************************************************************************************\n",
      "\n",
      "TYPE:         Class balancing detection\n",
      "STATUS:       ALERTED\n",
      "DESCRIPTION:  To decrease model bias, please cancel the current run and fix balancing problem.\n",
      "              Learn more about imbalanced data: https://aka.ms/AutomatedMLImbalancedData\n",
      "DETAILS:      Imbalanced data can lead to a falsely perceived positive effect of a model's accuracy because the input data has bias towards one class.\n",
      "+---------------------------------+---------------------------------+--------------------------------------+\n",
      "|Size of the smallest class       |Name/Label of the smallest class |Number of samples in the training data|\n",
      "+=================================+=================================+======================================+\n",
      "|3323                             |yes                              |29655                                 |\n",
      "+---------------------------------+---------------------------------+--------------------------------------+\n",
      "\n",
      "****************************************************************************************************\n",
      "\n",
      "TYPE:         Missing feature values imputation\n",
      "STATUS:       PASSED\n",
      "DESCRIPTION:  No feature missing values were detected in the training data.\n",
      "              Learn more about missing value imputation: https://aka.ms/AutomatedMLFeaturization\n",
      "\n",
      "****************************************************************************************************\n",
      "\n",
      "TYPE:         High cardinality feature detection\n",
      "STATUS:       PASSED\n",
      "DESCRIPTION:  Your inputs were analyzed, and no high cardinality features were detected.\n",
      "              Learn more about high cardinality feature handling: https://aka.ms/AutomatedMLFeaturization\n",
      "\n",
      "****************************************************************************************************\n",
      "\n",
      "****************************************************************************************************\n",
      "ITERATION: The iteration being evaluated.\n",
      "PIPELINE: A summary description of the pipeline being evaluated.\n",
      "DURATION: Time taken for the current iteration.\n",
      "METRIC: The result of computing score on the fitted pipeline.\n",
      "BEST: The best observed score thus far.\n",
      "****************************************************************************************************\n",
      "\n",
      " ITERATION   PIPELINE                                       DURATION      METRIC      BEST\n",
      "         0   MaxAbsScaler LightGBM                          0:00:41       0.9450    0.9450\n",
      "         1   MaxAbsScaler XGBoostClassifier                 0:00:46       0.9392    0.9450\n",
      "         2   MaxAbsScaler RandomForest                      0:00:37       0.8992    0.9450\n",
      "         3   MaxAbsScaler RandomForest                      0:00:49       0.9056    0.9450\n",
      "         4   MaxAbsScaler RandomForest                      0:00:46       0.8843    0.9450\n",
      "         5   MaxAbsScaler ExtremeRandomTrees                0:00:38       0.8962    0.9450\n",
      "         6   MaxAbsScaler ExtremeRandomTrees                0:00:43       0.8793    0.9450\n",
      "         7   MaxAbsScaler ExtremeRandomTrees                0:00:34       0.8343    0.9450\n",
      "         8   MaxAbsScaler RandomForest                      0:00:38       0.8577    0.9450\n",
      "         9   MaxAbsScaler ExtremeRandomTrees                0:00:35       0.8174    0.9450\n",
      "        10   MaxAbsScaler RandomForest                      0:00:43       0.8571    0.9450\n",
      "        11   MaxAbsScaler RandomForest                      0:00:42       0.8915    0.9450\n",
      "        12   MaxAbsScaler RandomForest                      0:00:45       0.8710    0.9450\n",
      "        13   StandardScalerWrapper XGBoostClassifier        0:00:40       0.9309    0.9450\n",
      "        14   MaxAbsScaler RandomForest                      0:00:43       0.9005    0.9450\n",
      "        15   StandardScalerWrapper ExtremeRandomTrees       0:00:48       0.8853    0.9450\n",
      "        16   MaxAbsScaler ExtremeRandomTrees                0:00:39       0.8620    0.9450\n",
      "        17   MaxAbsScaler ExtremeRandomTrees                0:00:42       0.8219    0.9450\n",
      "        18   MaxAbsScaler RandomForest                      0:00:34       0.8951    0.9450\n",
      "        19   StandardScalerWrapper XGBoostClassifier        0:00:42       0.9425    0.9450\n",
      "        20   SparseNormalizer XGBoostClassifier             0:01:23       0.9435    0.9450\n",
      "        21   MaxAbsScaler LightGBM                          0:00:42       0.9450    0.9450\n",
      "        22   MaxAbsScaler LightGBM                          0:00:41       0.9347    0.9450\n",
      "        23   StandardScalerWrapper XGBoostClassifier        0:00:43       0.9453    0.9453\n",
      "        24   StandardScalerWrapper XGBoostClassifier        0:00:42       0.9423    0.9453\n",
      "        25   MaxAbsScaler LightGBM                          0:00:39       0.9344    0.9453\n",
      "        26   StandardScalerWrapper XGBoostClassifier        0:00:46       0.9429    0.9453\n",
      "        27   StandardScalerWrapper LightGBM                 0:00:58       0.9199    0.9453\n",
      "        28   MaxAbsScaler LightGBM                          0:01:18       0.9443    0.9453\n",
      "        29   MaxAbsScaler LightGBM                          0:00:48       0.9343    0.9453\n",
      "        30   StandardScalerWrapper XGBoostClassifier        0:01:31       0.9419    0.9453\n",
      "        31   StandardScalerWrapper LogisticRegression       0:00:47       0.9225    0.9453\n",
      "        32   StandardScalerWrapper XGBoostClassifier        0:01:29       0.9414    0.9453\n",
      "        33   TruncatedSVDWrapper XGBoostClassifier          0:01:00       0.9337    0.9453\n",
      "        34   StandardScalerWrapper XGBoostClassifier        0:00:52       0.9419    0.9453\n",
      "        35   SparseNormalizer XGBoostClassifier             0:00:52       0.5000    0.9453\n",
      "        36   StandardScalerWrapper XGBoostClassifier        0:00:51       0.9404    0.9453\n",
      "        37   StandardScalerWrapper LightGBM                 0:00:50       0.9435    0.9453\n",
      "        38   StandardScalerWrapper XGBoostClassifier        0:00:48       0.9436    0.9453\n",
      "        39   StandardScalerWrapper XGBoostClassifier        0:00:40       0.9450    0.9453\n",
      "        40   StandardScalerWrapper XGBoostClassifier        0:00:31          nan    0.9453\n",
      "        41    VotingEnsemble                                0:00:50       0.9471    0.9471\n",
      "        42    StackEnsemble                                 0:02:51       0.9453    0.9471\n"
     ]
    },
    {
     "data": {
      "text/plain": [
       "{'runId': 'AutoML_b2145a47-7069-4953-b04e-1bb07ac959b6',\n",
       " 'target': 'cpu-cluster',\n",
       " 'status': 'Completed',\n",
       " 'startTimeUtc': '2020-12-28T13:32:50.142572Z',\n",
       " 'endTimeUtc': '2020-12-28T13:50:01.553837Z',\n",
       " 'properties': {'num_iterations': '1000',\n",
       "  'training_type': 'TrainFull',\n",
       "  'acquisition_function': 'EI',\n",
       "  'primary_metric': 'AUC_weighted',\n",
       "  'train_split': '0',\n",
       "  'acquisition_parameter': '0',\n",
       "  'num_cross_validation': None,\n",
       "  'target': 'cpu-cluster',\n",
       "  'AMLSettingsJsonString': '{\"path\":null,\"name\":\"automl-experiment\",\"subscription_id\":\"f9d5a085-54dc-4215-9ba6-dad5d86e60a0\",\"resource_group\":\"aml-quickstarts-132158\",\"workspace_name\":\"quick-starts-ws-132158\",\"region\":\"southcentralus\",\"compute_target\":\"cpu-cluster\",\"spark_service\":null,\"azure_service\":\"remote\",\"many_models\":false,\"pipeline_fetch_max_batch_size\":1,\"iterations\":1000,\"primary_metric\":\"AUC_weighted\",\"task_type\":\"classification\",\"data_script\":null,\"validation_size\":0.0,\"n_cross_validations\":null,\"y_min\":null,\"y_max\":null,\"num_classes\":null,\"featurization\":\"auto\",\"_ignore_package_version_incompatibilities\":false,\"is_timeseries\":false,\"max_cores_per_iteration\":1,\"max_concurrent_iterations\":5,\"iteration_timeout_minutes\":null,\"mem_in_mb\":null,\"enforce_time_on_windows\":false,\"experiment_timeout_minutes\":60,\"experiment_exit_score\":null,\"whitelist_models\":null,\"blacklist_algos\":[\"TensorFlowLinearClassifier\",\"TensorFlowDNN\"],\"supported_models\":[\"RandomForest\",\"LogisticRegression\",\"XGBoostClassifier\",\"TensorFlowLinearClassifier\",\"LinearSVM\",\"LightGBM\",\"KNN\",\"GradientBoosting\",\"SVM\",\"DecisionTree\",\"ExtremeRandomTrees\",\"SGD\",\"AveragedPerceptronClassifier\",\"MultinomialNaiveBayes\",\"TensorFlowDNN\",\"BernoulliNaiveBayes\"],\"auto_blacklist\":true,\"blacklist_samples_reached\":false,\"exclude_nan_labels\":true,\"verbosity\":20,\"_debug_log\":\"azureml_automl.log\",\"show_warnings\":false,\"model_explainability\":true,\"service_url\":null,\"sdk_url\":null,\"sdk_packages\":null,\"enable_onnx_compatible_models\":false,\"enable_split_onnx_featurizer_estimator_models\":false,\"vm_type\":\"STANDARD_DS12_V2\",\"telemetry_verbosity\":20,\"send_telemetry\":true,\"enable_dnn\":false,\"scenario\":\"SDK-1.13.0\",\"environment_label\":null,\"force_text_dnn\":false,\"enable_feature_sweeping\":true,\"enable_early_stopping\":true,\"early_stopping_n_iters\":10,\"metrics\":null,\"enable_ensembling\":true,\"enable_stack_ensembling\":true,\"ensemble_iterations\":15,\"enable_tf\":false,\"enable_subsampling\":null,\"subsample_seed\":null,\"enable_nimbusml\":false,\"enable_streaming\":false,\"force_streaming\":false,\"track_child_runs\":true,\"allowed_private_models\":[],\"label_column_name\":\"y\",\"weight_column_name\":null,\"cv_split_column_names\":null,\"enable_local_managed\":false,\"_local_managed_run_id\":null,\"cost_mode\":1,\"lag_length\":0,\"metric_operation\":\"maximize\",\"preprocess\":true}',\n",
       "  'DataPrepJsonString': '{\\\\\"training_data\\\\\": \\\\\"{\\\\\\\\\\\\\"blocks\\\\\\\\\\\\\": [{\\\\\\\\\\\\\"id\\\\\\\\\\\\\": \\\\\\\\\\\\\"6ef80733-9df7-4f1d-8582-d89618e780c1\\\\\\\\\\\\\", \\\\\\\\\\\\\"type\\\\\\\\\\\\\": \\\\\\\\\\\\\"Microsoft.DPrep.GetFilesBlock\\\\\\\\\\\\\", \\\\\\\\\\\\\"arguments\\\\\\\\\\\\\": {\\\\\\\\\\\\\"isArchive\\\\\\\\\\\\\": false, \\\\\\\\\\\\\"path\\\\\\\\\\\\\": {\\\\\\\\\\\\\"target\\\\\\\\\\\\\": 1, \\\\\\\\\\\\\"resourceDetails\\\\\\\\\\\\\": [{\\\\\\\\\\\\\"path\\\\\\\\\\\\\": \\\\\\\\\\\\\"https://automlsamplenotebookdata.blob.core.windows.net/automl-sample-notebook-data/bankmarketing_train.csv\\\\\\\\\\\\\", \\\\\\\\\\\\\"sas\\\\\\\\\\\\\": null, \\\\\\\\\\\\\"storageAccountName\\\\\\\\\\\\\": null, \\\\\\\\\\\\\"storageAccountKey\\\\\\\\\\\\\": null}]}}, \\\\\\\\\\\\\"localData\\\\\\\\\\\\\": {}, \\\\\\\\\\\\\"isEnabled\\\\\\\\\\\\\": true, \\\\\\\\\\\\\"name\\\\\\\\\\\\\": null, \\\\\\\\\\\\\"annotation\\\\\\\\\\\\\": null}, {\\\\\\\\\\\\\"id\\\\\\\\\\\\\": \\\\\\\\\\\\\"8ca67063-fed4-4722-86c8-a277ae02d1c9\\\\\\\\\\\\\", \\\\\\\\\\\\\"type\\\\\\\\\\\\\": \\\\\\\\\\\\\"Microsoft.DPrep.ParseDelimitedBlock\\\\\\\\\\\\\", \\\\\\\\\\\\\"arguments\\\\\\\\\\\\\": {\\\\\\\\\\\\\"columnHeadersMode\\\\\\\\\\\\\": 3, \\\\\\\\\\\\\"fileEncoding\\\\\\\\\\\\\": 0, \\\\\\\\\\\\\"handleQuotedLineBreaks\\\\\\\\\\\\\": false, \\\\\\\\\\\\\"preview\\\\\\\\\\\\\": false, \\\\\\\\\\\\\"separator\\\\\\\\\\\\\": \\\\\\\\\\\\\",\\\\\\\\\\\\\", \\\\\\\\\\\\\"skipRows\\\\\\\\\\\\\": 0, \\\\\\\\\\\\\"skipRowsMode\\\\\\\\\\\\\": 0}, \\\\\\\\\\\\\"localData\\\\\\\\\\\\\": {}, \\\\\\\\\\\\\"isEnabled\\\\\\\\\\\\\": true, \\\\\\\\\\\\\"name\\\\\\\\\\\\\": null, \\\\\\\\\\\\\"annotation\\\\\\\\\\\\\": null}, {\\\\\\\\\\\\\"id\\\\\\\\\\\\\": \\\\\\\\\\\\\"970ad860-7407-4788-a673-4f47a5bc5840\\\\\\\\\\\\\", \\\\\\\\\\\\\"type\\\\\\\\\\\\\": \\\\\\\\\\\\\"Microsoft.DPrep.DropColumnsBlock\\\\\\\\\\\\\", \\\\\\\\\\\\\"arguments\\\\\\\\\\\\\": {\\\\\\\\\\\\\"columns\\\\\\\\\\\\\": {\\\\\\\\\\\\\"type\\\\\\\\\\\\\": 0, \\\\\\\\\\\\\"details\\\\\\\\\\\\\": {\\\\\\\\\\\\\"selectedColumns\\\\\\\\\\\\\": [\\\\\\\\\\\\\"Path\\\\\\\\\\\\\"]}}}, \\\\\\\\\\\\\"localData\\\\\\\\\\\\\": {}, \\\\\\\\\\\\\"isEnabled\\\\\\\\\\\\\": true, \\\\\\\\\\\\\"name\\\\\\\\\\\\\": null, \\\\\\\\\\\\\"annotation\\\\\\\\\\\\\": null}, {\\\\\\\\\\\\\"id\\\\\\\\\\\\\": \\\\\\\\\\\\\"8e36ea8a-81d4-4bd8-b027-bf1982415c66\\\\\\\\\\\\\", \\\\\\\\\\\\\"type\\\\\\\\\\\\\": \\\\\\\\\\\\\"Microsoft.DPrep.SetColumnTypesBlock\\\\\\\\\\\\\", \\\\\\\\\\\\\"arguments\\\\\\\\\\\\\": {\\\\\\\\\\\\\"columnConversion\\\\\\\\\\\\\": [{\\\\\\\\\\\\\"column\\\\\\\\\\\\\": {\\\\\\\\\\\\\"type\\\\\\\\\\\\\": 2, \\\\\\\\\\\\\"details\\\\\\\\\\\\\": {\\\\\\\\\\\\\"selectedColumn\\\\\\\\\\\\\": \\\\\\\\\\\\\"age\\\\\\\\\\\\\"}}, \\\\\\\\\\\\\"typeProperty\\\\\\\\\\\\\": 2}, {\\\\\\\\\\\\\"column\\\\\\\\\\\\\": {\\\\\\\\\\\\\"type\\\\\\\\\\\\\": 2, \\\\\\\\\\\\\"details\\\\\\\\\\\\\": {\\\\\\\\\\\\\"selectedColumn\\\\\\\\\\\\\": \\\\\\\\\\\\\"job\\\\\\\\\\\\\"}}, \\\\\\\\\\\\\"typeProperty\\\\\\\\\\\\\": 0}, {\\\\\\\\\\\\\"column\\\\\\\\\\\\\": {\\\\\\\\\\\\\"type\\\\\\\\\\\\\": 2, \\\\\\\\\\\\\"details\\\\\\\\\\\\\": {\\\\\\\\\\\\\"selectedColumn\\\\\\\\\\\\\": \\\\\\\\\\\\\"marital\\\\\\\\\\\\\"}}, \\\\\\\\\\\\\"typeProperty\\\\\\\\\\\\\": 0}, {\\\\\\\\\\\\\"column\\\\\\\\\\\\\": {\\\\\\\\\\\\\"type\\\\\\\\\\\\\": 2, \\\\\\\\\\\\\"details\\\\\\\\\\\\\": {\\\\\\\\\\\\\"selectedColumn\\\\\\\\\\\\\": \\\\\\\\\\\\\"education\\\\\\\\\\\\\"}}, \\\\\\\\\\\\\"typeProperty\\\\\\\\\\\\\": 0}, {\\\\\\\\\\\\\"column\\\\\\\\\\\\\": {\\\\\\\\\\\\\"type\\\\\\\\\\\\\": 2, \\\\\\\\\\\\\"details\\\\\\\\\\\\\": {\\\\\\\\\\\\\"selectedColumn\\\\\\\\\\\\\": \\\\\\\\\\\\\"default\\\\\\\\\\\\\"}}, \\\\\\\\\\\\\"typeProperty\\\\\\\\\\\\\": 0}, {\\\\\\\\\\\\\"column\\\\\\\\\\\\\": {\\\\\\\\\\\\\"type\\\\\\\\\\\\\": 2, \\\\\\\\\\\\\"details\\\\\\\\\\\\\": {\\\\\\\\\\\\\"selectedColumn\\\\\\\\\\\\\": \\\\\\\\\\\\\"housing\\\\\\\\\\\\\"}}, \\\\\\\\\\\\\"typeProperty\\\\\\\\\\\\\": 0}, {\\\\\\\\\\\\\"column\\\\\\\\\\\\\": {\\\\\\\\\\\\\"type\\\\\\\\\\\\\": 2, \\\\\\\\\\\\\"details\\\\\\\\\\\\\": {\\\\\\\\\\\\\"selectedColumn\\\\\\\\\\\\\": \\\\\\\\\\\\\"loan\\\\\\\\\\\\\"}}, \\\\\\\\\\\\\"typeProperty\\\\\\\\\\\\\": 0}, {\\\\\\\\\\\\\"column\\\\\\\\\\\\\": {\\\\\\\\\\\\\"type\\\\\\\\\\\\\": 2, \\\\\\\\\\\\\"details\\\\\\\\\\\\\": {\\\\\\\\\\\\\"selectedColumn\\\\\\\\\\\\\": \\\\\\\\\\\\\"contact\\\\\\\\\\\\\"}}, \\\\\\\\\\\\\"typeProperty\\\\\\\\\\\\\": 0}, {\\\\\\\\\\\\\"column\\\\\\\\\\\\\": {\\\\\\\\\\\\\"type\\\\\\\\\\\\\": 2, \\\\\\\\\\\\\"details\\\\\\\\\\\\\": {\\\\\\\\\\\\\"selectedColumn\\\\\\\\\\\\\": \\\\\\\\\\\\\"month\\\\\\\\\\\\\"}}, \\\\\\\\\\\\\"typeProperty\\\\\\\\\\\\\": 0}, {\\\\\\\\\\\\\"column\\\\\\\\\\\\\": {\\\\\\\\\\\\\"type\\\\\\\\\\\\\": 2, \\\\\\\\\\\\\"details\\\\\\\\\\\\\": {\\\\\\\\\\\\\"selectedColumn\\\\\\\\\\\\\": \\\\\\\\\\\\\"day_of_week\\\\\\\\\\\\\"}}, \\\\\\\\\\\\\"typeProperty\\\\\\\\\\\\\": 0}, {\\\\\\\\\\\\\"column\\\\\\\\\\\\\": {\\\\\\\\\\\\\"type\\\\\\\\\\\\\": 2, \\\\\\\\\\\\\"details\\\\\\\\\\\\\": {\\\\\\\\\\\\\"selectedColumn\\\\\\\\\\\\\": \\\\\\\\\\\\\"duration\\\\\\\\\\\\\"}}, \\\\\\\\\\\\\"typeProperty\\\\\\\\\\\\\": 2}, {\\\\\\\\\\\\\"column\\\\\\\\\\\\\": {\\\\\\\\\\\\\"type\\\\\\\\\\\\\": 2, \\\\\\\\\\\\\"details\\\\\\\\\\\\\": {\\\\\\\\\\\\\"selectedColumn\\\\\\\\\\\\\": \\\\\\\\\\\\\"campaign\\\\\\\\\\\\\"}}, \\\\\\\\\\\\\"typeProperty\\\\\\\\\\\\\": 2}, {\\\\\\\\\\\\\"column\\\\\\\\\\\\\": {\\\\\\\\\\\\\"type\\\\\\\\\\\\\": 2, \\\\\\\\\\\\\"details\\\\\\\\\\\\\": {\\\\\\\\\\\\\"selectedColumn\\\\\\\\\\\\\": \\\\\\\\\\\\\"pdays\\\\\\\\\\\\\"}}, \\\\\\\\\\\\\"typeProperty\\\\\\\\\\\\\": 2}, {\\\\\\\\\\\\\"column\\\\\\\\\\\\\": {\\\\\\\\\\\\\"type\\\\\\\\\\\\\": 2, \\\\\\\\\\\\\"details\\\\\\\\\\\\\": {\\\\\\\\\\\\\"selectedColumn\\\\\\\\\\\\\": \\\\\\\\\\\\\"previous\\\\\\\\\\\\\"}}, \\\\\\\\\\\\\"typeProperty\\\\\\\\\\\\\": 2}, {\\\\\\\\\\\\\"column\\\\\\\\\\\\\": {\\\\\\\\\\\\\"type\\\\\\\\\\\\\": 2, \\\\\\\\\\\\\"details\\\\\\\\\\\\\": {\\\\\\\\\\\\\"selectedColumn\\\\\\\\\\\\\": \\\\\\\\\\\\\"poutcome\\\\\\\\\\\\\"}}, \\\\\\\\\\\\\"typeProperty\\\\\\\\\\\\\": 0}, {\\\\\\\\\\\\\"column\\\\\\\\\\\\\": {\\\\\\\\\\\\\"type\\\\\\\\\\\\\": 2, \\\\\\\\\\\\\"details\\\\\\\\\\\\\": {\\\\\\\\\\\\\"selectedColumn\\\\\\\\\\\\\": \\\\\\\\\\\\\"emp.var.rate\\\\\\\\\\\\\"}}, \\\\\\\\\\\\\"typeProperty\\\\\\\\\\\\\": 3}, {\\\\\\\\\\\\\"column\\\\\\\\\\\\\": {\\\\\\\\\\\\\"type\\\\\\\\\\\\\": 2, \\\\\\\\\\\\\"details\\\\\\\\\\\\\": {\\\\\\\\\\\\\"selectedColumn\\\\\\\\\\\\\": \\\\\\\\\\\\\"cons.price.idx\\\\\\\\\\\\\"}}, \\\\\\\\\\\\\"typeProperty\\\\\\\\\\\\\": 3}, {\\\\\\\\\\\\\"column\\\\\\\\\\\\\": {\\\\\\\\\\\\\"type\\\\\\\\\\\\\": 2, \\\\\\\\\\\\\"details\\\\\\\\\\\\\": {\\\\\\\\\\\\\"selectedColumn\\\\\\\\\\\\\": \\\\\\\\\\\\\"cons.conf.idx\\\\\\\\\\\\\"}}, \\\\\\\\\\\\\"typeProperty\\\\\\\\\\\\\": 3}, {\\\\\\\\\\\\\"column\\\\\\\\\\\\\": {\\\\\\\\\\\\\"type\\\\\\\\\\\\\": 2, \\\\\\\\\\\\\"details\\\\\\\\\\\\\": {\\\\\\\\\\\\\"selectedColumn\\\\\\\\\\\\\": \\\\\\\\\\\\\"euribor3m\\\\\\\\\\\\\"}}, \\\\\\\\\\\\\"typeProperty\\\\\\\\\\\\\": 3}, {\\\\\\\\\\\\\"column\\\\\\\\\\\\\": {\\\\\\\\\\\\\"type\\\\\\\\\\\\\": 2, \\\\\\\\\\\\\"details\\\\\\\\\\\\\": {\\\\\\\\\\\\\"selectedColumn\\\\\\\\\\\\\": \\\\\\\\\\\\\"nr.employed\\\\\\\\\\\\\"}}, \\\\\\\\\\\\\"typeProperty\\\\\\\\\\\\\": 3}, {\\\\\\\\\\\\\"column\\\\\\\\\\\\\": {\\\\\\\\\\\\\"type\\\\\\\\\\\\\": 2, \\\\\\\\\\\\\"details\\\\\\\\\\\\\": {\\\\\\\\\\\\\"selectedColumn\\\\\\\\\\\\\": \\\\\\\\\\\\\"y\\\\\\\\\\\\\"}}, \\\\\\\\\\\\\"typeProperty\\\\\\\\\\\\\": 0}]}, \\\\\\\\\\\\\"localData\\\\\\\\\\\\\": {}, \\\\\\\\\\\\\"isEnabled\\\\\\\\\\\\\": true, \\\\\\\\\\\\\"name\\\\\\\\\\\\\": null, \\\\\\\\\\\\\"annotation\\\\\\\\\\\\\": null}], \\\\\\\\\\\\\"inspectors\\\\\\\\\\\\\": [], \\\\\\\\\\\\\"meta\\\\\\\\\\\\\": {\\\\\\\\\\\\\"steps_added\\\\\\\\\\\\\": \\\\\\\\\\\\\"4\\\\\\\\\\\\\"}}\\\\\", \\\\\"activities\\\\\": 0}',\n",
       "  'EnableSubsampling': None,\n",
       "  'runTemplate': 'AutoML',\n",
       "  'azureml.runsource': 'automl',\n",
       "  'display_task_type': 'classification',\n",
       "  'dependencies_versions': '{\"azureml-widgets\": \"1.19.0\", \"azureml-train\": \"1.19.0\", \"azureml-train-restclients-hyperdrive\": \"1.19.0\", \"azureml-train-core\": \"1.19.0\", \"azureml-train-automl\": \"1.19.0\", \"azureml-train-automl-runtime\": \"1.19.0\", \"azureml-train-automl-client\": \"1.19.0\", \"azureml-tensorboard\": \"1.19.0\", \"azureml-telemetry\": \"1.19.0\", \"azureml-sdk\": \"1.19.0\", \"azureml-samples\": \"0+unknown\", \"azureml-pipeline\": \"1.19.0\", \"azureml-pipeline-steps\": \"1.19.0\", \"azureml-pipeline-core\": \"1.19.0\", \"azureml-opendatasets\": \"1.19.0\", \"azureml-model-management-sdk\": \"1.0.1b6.post1\", \"azureml-mlflow\": \"1.19.0\", \"azureml-interpret\": \"1.19.0\", \"azureml-explain-model\": \"1.19.0\", \"azureml-defaults\": \"1.19.0\", \"azureml-dataset-runtime\": \"1.19.0\", \"azureml-dataprep\": \"2.6.1\", \"azureml-dataprep-rslex\": \"1.4.0\", \"azureml-dataprep-native\": \"26.0.0\", \"azureml-datadrift\": \"1.19.0\", \"azureml-core\": \"1.19.0\", \"azureml-contrib-services\": \"1.19.0\", \"azureml-contrib-server\": \"1.19.0\", \"azureml-contrib-reinforcementlearning\": \"1.19.0\", \"azureml-contrib-pipeline-steps\": \"1.19.0\", \"azureml-contrib-notebook\": \"1.19.0\", \"azureml-contrib-interpret\": \"1.19.0\", \"azureml-contrib-gbdt\": \"1.19.0\", \"azureml-contrib-fairness\": \"1.19.0\", \"azureml-contrib-dataset\": \"1.19.0\", \"azureml-cli-common\": \"1.19.0\", \"azureml-automl-runtime\": \"1.19.0\", \"azureml-automl-core\": \"1.19.0\", \"azureml-accel-models\": \"1.19.0\"}',\n",
       "  '_aml_system_scenario_identification': 'Remote.Parent',\n",
       "  'ClientType': 'SDK',\n",
       "  'environment_cpu_name': 'AzureML-AutoML',\n",
       "  'environment_cpu_label': 'prod',\n",
       "  'environment_gpu_name': 'AzureML-AutoML-GPU',\n",
       "  'environment_gpu_label': 'prod',\n",
       "  'root_attribution': 'automl',\n",
       "  'attribution': 'AutoML',\n",
       "  'Orchestrator': 'AutoML',\n",
       "  'CancelUri': 'https://southcentralus.experiments.azureml.net/jasmine/v1.0/subscriptions/f9d5a085-54dc-4215-9ba6-dad5d86e60a0/resourceGroups/aml-quickstarts-132158/providers/Microsoft.MachineLearningServices/workspaces/quick-starts-ws-132158/experimentids/fedbc88a-7502-4d1b-a694-fc67d0f3dbeb/cancel/AutoML_b2145a47-7069-4953-b04e-1bb07ac959b6',\n",
       "  'ClientSdkVersion': '1.19.0',\n",
       "  'snapshotId': '00000000-0000-0000-0000-000000000000',\n",
       "  'SetupRunId': 'AutoML_b2145a47-7069-4953-b04e-1bb07ac959b6_setup',\n",
       "  'SetupRunContainerId': 'dcid.AutoML_b2145a47-7069-4953-b04e-1bb07ac959b6_setup',\n",
       "  'FeaturizationRunJsonPath': 'featurizer_container.json',\n",
       "  'FeaturizationRunId': 'AutoML_b2145a47-7069-4953-b04e-1bb07ac959b6_featurize',\n",
       "  'ProblemInfoJsonString': '{\"dataset_num_categorical\": 0, \"is_sparse\": true, \"subsampling\": false, \"dataset_classes\": 2, \"dataset_features\": 132, \"dataset_samples\": 29655, \"single_frequency_class_detected\": false}',\n",
       "  'ModelExplainRunId': 'AutoML_b2145a47-7069-4953-b04e-1bb07ac959b6_ModelExplain'},\n",
       " 'inputDatasets': [],\n",
       " 'outputDatasets': [],\n",
       " 'logFiles': {}}"
      ]
     },
     "execution_count": 18,
     "metadata": {},
     "output_type": "execute_result"
    },
    {
     "data": {
      "application/vnd.jupyter.widget-view+json": {
       "model_id": "9b86aab5fc8e48b4b3fd5ec237009625",
       "version_major": 2,
       "version_minor": 0
      },
      "text/plain": [
       "_UserRunWidget(widget_settings={'childWidgetDisplay': 'popup', 'send_telemetry': False, 'log_level': 'INFO', '…"
      ]
     },
     "metadata": {},
     "output_type": "display_data"
    },
    {
     "data": {
      "application/aml.mini.widget.v1": "{\"loading\": true}"
     },
     "metadata": {},
     "output_type": "display_data"
    }
   ],
   "source": [
    "from azureml.widgets import RunDetails\n",
    "RunDetails(automl_run).show()\n",
    "\n",
    "automl_run.wait_for_completion(show_output=True)"
   ]
  },
  {
   "cell_type": "markdown",
   "metadata": {},
   "source": [
    "### Retrieve and Save Best Model\n",
    "\n",
    "Below we select the best model from all the training iterations using get_output method."
   ]
  },
  {
   "cell_type": "code",
   "execution_count": null,
   "metadata": {},
   "outputs": [],
   "source": [
    "# Retrieve model\n",
    "\n",
    "best_run, fitted_model = automl_run.get_output()\n",
    "\n",
    "# get name of files of best_run\n",
    "best_run.get_file_names()"
   ]
  },
  {
   "cell_type": "code",
   "execution_count": null,
   "metadata": {},
   "outputs": [],
   "source": [
    "fitted_model.steps"
   ]
  },
  {
   "cell_type": "markdown",
   "metadata": {},
   "source": [
    "# Cleaning Up Cluster"
   ]
  },
  {
   "cell_type": "code",
   "execution_count": 1,
   "metadata": {},
   "outputs": [
    {
     "ename": "NameError",
     "evalue": "name 'cpu_cluster' is not defined",
     "output_type": "error",
     "traceback": [
      "\u001b[1;31m---------------------------------------------------------------------------\u001b[0m",
      "\u001b[1;31mNameError\u001b[0m                                 Traceback (most recent call last)",
      "\u001b[1;32m<ipython-input-1-cfd0409244e0>\u001b[0m in \u001b[0;36m<module>\u001b[1;34m\u001b[0m\n\u001b[1;32m----> 1\u001b[1;33m \u001b[0mcpu_cluster\u001b[0m\u001b[1;33m.\u001b[0m\u001b[0mdelete\u001b[0m\u001b[1;33m(\u001b[0m\u001b[1;33m)\u001b[0m\u001b[1;33m\u001b[0m\u001b[1;33m\u001b[0m\u001b[0m\n\u001b[0m",
      "\u001b[1;31mNameError\u001b[0m: name 'cpu_cluster' is not defined"
     ]
    }
   ],
   "source": [
    "cpu_cluster.delete()"
   ]
  },
  {
   "cell_type": "markdown",
   "metadata": {},
   "source": [
    "# TO CONTINUE WITH THE EXAMPLE NOTEBOOK USING PIPELINE"
   ]
  },
  {
   "cell_type": "code",
   "execution_count": null,
   "metadata": {},
   "outputs": [],
   "source": []
  }
 ],
 "metadata": {
  "kernelspec": {
   "display_name": "Python 3",
   "language": "python",
   "name": "python3"
  },
  "language_info": {
   "codemirror_mode": {
    "name": "ipython",
    "version": 3
   },
   "file_extension": ".py",
   "mimetype": "text/x-python",
   "name": "python",
   "nbconvert_exporter": "python",
   "pygments_lexer": "ipython3",
   "version": "3.6.10"
  },
  "toc": {
   "base_numbering": 1,
   "nav_menu": {},
   "number_sections": true,
   "sideBar": true,
   "skip_h1_title": false,
   "title_cell": "Table of Contents",
   "title_sidebar": "Contents",
   "toc_cell": false,
   "toc_position": {
    "height": "calc(100% - 180px)",
    "left": "10px",
    "top": "150px",
    "width": "307.2px"
   },
   "toc_section_display": true,
   "toc_window_display": true
  }
 },
 "nbformat": 4,
 "nbformat_minor": 4
}
